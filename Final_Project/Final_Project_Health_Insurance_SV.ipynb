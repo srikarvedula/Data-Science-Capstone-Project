{
 "cells": [
  {
   "cell_type": "markdown",
   "metadata": {},
   "source": [
    "# Table of Contents"
   ]
  },
  {
   "cell_type": "markdown",
   "metadata": {},
   "source": [
    "1) [Background](#Background)\n",
    "\n",
    "2) [Read the Files](#ReadtheFiles)\n",
    "\n",
    "3) [Exploratory Data Analysis (EDA)](#ExploratoryDataAnalysis(EDA))\n",
    "\n",
    "4) [Linear Regression model: Couple/Dependents rate vs Individual Rate](#LinearRegressionmodel:Couple/DependentsratevsIndividualRate)\n",
    "\n",
    "5) [Linear Regression Model: Insurance rate vs AV Output](#LinearRegressionModel:InsuranceratevsAVOutput)\n",
    "\n",
    "6) [Time Series Model](#TimeSeriesModel)\n",
    "\n",
    "7) [Conclusion](#Conclusion)\n"
   ]
  },
  {
   "cell_type": "markdown",
   "metadata": {},
   "source": [
    "<a id=\"Background\"></a>\n",
    "# 1) Background"
   ]
  },
  {
   "cell_type": "markdown",
   "metadata": {},
   "source": [
    "The U.S. health care system is unique among advanced industrialized countries. The U.S. does not have a uniform health system, has no universal health care coverage, and only recently enacted legislation mandating healthcare coverage for almost everyone. In 2014, 283.2 million people in the U.S., 89.6 percent of the U.S. population had some type of health insurance, with 66 percent of workers covered by a private health insurance plan. Nearly 32.9 million people in the U.S. had no health insurance.\n",
    "\n",
    "**Project:**\n",
    "\n",
    "The goal of this project is to explore the Health Insurance dataset to see how the prices vary for each individuals, in each state. How is the rate affected by the age group? How is the rate affected by time? I used a linear regression model to see how each type of insurance rates vary from one another. Another key metric in the data set is Actuarial Value (AV) which is the percentage of total costs of that benefit plan covered by the insurance company. I built another regression model to see the relationship between the insurance rates and the percentage of how much is covered by the insurance. The last model I built was a time series model to forecast how the prices would trend in the future. "
   ]
  },
  {
   "cell_type": "markdown",
   "metadata": {},
   "source": [
    "<a id=\"ReadtheFiles\"></a>\n",
    "# 2) Read the Files"
   ]
  },
  {
   "cell_type": "markdown",
   "metadata": {},
   "source": [
    "Import the libraries first and then read the files."
   ]
  },
  {
   "cell_type": "code",
   "execution_count": 1,
   "metadata": {},
   "outputs": [],
   "source": [
    "%matplotlib inline\n",
    "import numpy as np\n",
    "import os.path\n",
    "import matplotlib.pyplot as plt\n",
    "from matplotlib.font_manager import FontProperties\n",
    "import matplotlib\n",
    "import pandas as pd\n",
    "import seaborn as sns\n"
   ]
  },
  {
   "cell_type": "code",
   "execution_count": null,
   "metadata": {},
   "outputs": [],
   "source": [
    "rate = pd.read_csv('./data/Rate.csv')\n",
    "benefit= pd.read_csv('./data/BenefitsCostSharing.csv')\n",
    "network=pd.read_csv('./data/Network.csv')\n",
    "rules=pd.read_csv('./data/BusinessRules.csv')\n",
    "attribute=pd.read_csv('./data/PlanAttributes.csv')"
   ]
  },
  {
   "cell_type": "code",
   "execution_count": 4,
   "metadata": {},
   "outputs": [
    {
     "data": {
      "text/html": [
       "<div>\n",
       "<style scoped>\n",
       "    .dataframe tbody tr th:only-of-type {\n",
       "        vertical-align: middle;\n",
       "    }\n",
       "\n",
       "    .dataframe tbody tr th {\n",
       "        vertical-align: top;\n",
       "    }\n",
       "\n",
       "    .dataframe thead th {\n",
       "        text-align: right;\n",
       "    }\n",
       "</style>\n",
       "<table border=\"1\" class=\"dataframe\">\n",
       "  <thead>\n",
       "    <tr style=\"text-align: right;\">\n",
       "      <th></th>\n",
       "      <th>BusinessYear</th>\n",
       "      <th>StateCode</th>\n",
       "      <th>IssuerId</th>\n",
       "      <th>SourceName</th>\n",
       "      <th>VersionNum</th>\n",
       "      <th>ImportDate</th>\n",
       "      <th>IssuerId2</th>\n",
       "      <th>FederalTIN</th>\n",
       "      <th>RateEffectiveDate</th>\n",
       "      <th>RateExpirationDate</th>\n",
       "      <th>...</th>\n",
       "      <th>IndividualRate</th>\n",
       "      <th>IndividualTobaccoRate</th>\n",
       "      <th>Couple</th>\n",
       "      <th>PrimarySubscriberAndOneDependent</th>\n",
       "      <th>PrimarySubscriberAndTwoDependents</th>\n",
       "      <th>PrimarySubscriberAndThreeOrMoreDependents</th>\n",
       "      <th>CoupleAndOneDependent</th>\n",
       "      <th>CoupleAndTwoDependents</th>\n",
       "      <th>CoupleAndThreeOrMoreDependents</th>\n",
       "      <th>RowNumber</th>\n",
       "    </tr>\n",
       "  </thead>\n",
       "  <tbody>\n",
       "    <tr>\n",
       "      <th>0</th>\n",
       "      <td>2014</td>\n",
       "      <td>AK</td>\n",
       "      <td>21989</td>\n",
       "      <td>HIOS</td>\n",
       "      <td>6</td>\n",
       "      <td>2014-03-19 07:06:49</td>\n",
       "      <td>21989</td>\n",
       "      <td>93-0438772</td>\n",
       "      <td>2014-01-01</td>\n",
       "      <td>2014-12-31</td>\n",
       "      <td>...</td>\n",
       "      <td>29.00</td>\n",
       "      <td>NaN</td>\n",
       "      <td>NaN</td>\n",
       "      <td>NaN</td>\n",
       "      <td>NaN</td>\n",
       "      <td>NaN</td>\n",
       "      <td>NaN</td>\n",
       "      <td>NaN</td>\n",
       "      <td>NaN</td>\n",
       "      <td>14</td>\n",
       "    </tr>\n",
       "    <tr>\n",
       "      <th>1</th>\n",
       "      <td>2014</td>\n",
       "      <td>AK</td>\n",
       "      <td>21989</td>\n",
       "      <td>HIOS</td>\n",
       "      <td>6</td>\n",
       "      <td>2014-03-19 07:06:49</td>\n",
       "      <td>21989</td>\n",
       "      <td>93-0438772</td>\n",
       "      <td>2014-01-01</td>\n",
       "      <td>2014-12-31</td>\n",
       "      <td>...</td>\n",
       "      <td>36.95</td>\n",
       "      <td>NaN</td>\n",
       "      <td>73.9</td>\n",
       "      <td>107.61</td>\n",
       "      <td>107.61</td>\n",
       "      <td>107.61</td>\n",
       "      <td>144.56</td>\n",
       "      <td>144.56</td>\n",
       "      <td>144.56</td>\n",
       "      <td>14</td>\n",
       "    </tr>\n",
       "    <tr>\n",
       "      <th>2</th>\n",
       "      <td>2014</td>\n",
       "      <td>AK</td>\n",
       "      <td>21989</td>\n",
       "      <td>HIOS</td>\n",
       "      <td>6</td>\n",
       "      <td>2014-03-19 07:06:49</td>\n",
       "      <td>21989</td>\n",
       "      <td>93-0438772</td>\n",
       "      <td>2014-01-01</td>\n",
       "      <td>2014-12-31</td>\n",
       "      <td>...</td>\n",
       "      <td>36.95</td>\n",
       "      <td>NaN</td>\n",
       "      <td>73.9</td>\n",
       "      <td>107.61</td>\n",
       "      <td>107.61</td>\n",
       "      <td>107.61</td>\n",
       "      <td>144.56</td>\n",
       "      <td>144.56</td>\n",
       "      <td>144.56</td>\n",
       "      <td>15</td>\n",
       "    </tr>\n",
       "    <tr>\n",
       "      <th>3</th>\n",
       "      <td>2014</td>\n",
       "      <td>AK</td>\n",
       "      <td>21989</td>\n",
       "      <td>HIOS</td>\n",
       "      <td>6</td>\n",
       "      <td>2014-03-19 07:06:49</td>\n",
       "      <td>21989</td>\n",
       "      <td>93-0438772</td>\n",
       "      <td>2014-01-01</td>\n",
       "      <td>2014-12-31</td>\n",
       "      <td>...</td>\n",
       "      <td>32.00</td>\n",
       "      <td>NaN</td>\n",
       "      <td>NaN</td>\n",
       "      <td>NaN</td>\n",
       "      <td>NaN</td>\n",
       "      <td>NaN</td>\n",
       "      <td>NaN</td>\n",
       "      <td>NaN</td>\n",
       "      <td>NaN</td>\n",
       "      <td>15</td>\n",
       "    </tr>\n",
       "    <tr>\n",
       "      <th>4</th>\n",
       "      <td>2014</td>\n",
       "      <td>AK</td>\n",
       "      <td>21989</td>\n",
       "      <td>HIOS</td>\n",
       "      <td>6</td>\n",
       "      <td>2014-03-19 07:06:49</td>\n",
       "      <td>21989</td>\n",
       "      <td>93-0438772</td>\n",
       "      <td>2014-01-01</td>\n",
       "      <td>2014-12-31</td>\n",
       "      <td>...</td>\n",
       "      <td>32.00</td>\n",
       "      <td>NaN</td>\n",
       "      <td>NaN</td>\n",
       "      <td>NaN</td>\n",
       "      <td>NaN</td>\n",
       "      <td>NaN</td>\n",
       "      <td>NaN</td>\n",
       "      <td>NaN</td>\n",
       "      <td>NaN</td>\n",
       "      <td>16</td>\n",
       "    </tr>\n",
       "  </tbody>\n",
       "</table>\n",
       "<p>5 rows × 24 columns</p>\n",
       "</div>"
      ],
      "text/plain": [
       "   BusinessYear StateCode  IssuerId SourceName  VersionNum  \\\n",
       "0          2014        AK     21989       HIOS           6   \n",
       "1          2014        AK     21989       HIOS           6   \n",
       "2          2014        AK     21989       HIOS           6   \n",
       "3          2014        AK     21989       HIOS           6   \n",
       "4          2014        AK     21989       HIOS           6   \n",
       "\n",
       "            ImportDate  IssuerId2  FederalTIN RateEffectiveDate  \\\n",
       "0  2014-03-19 07:06:49      21989  93-0438772        2014-01-01   \n",
       "1  2014-03-19 07:06:49      21989  93-0438772        2014-01-01   \n",
       "2  2014-03-19 07:06:49      21989  93-0438772        2014-01-01   \n",
       "3  2014-03-19 07:06:49      21989  93-0438772        2014-01-01   \n",
       "4  2014-03-19 07:06:49      21989  93-0438772        2014-01-01   \n",
       "\n",
       "  RateExpirationDate  ... IndividualRate IndividualTobaccoRate Couple  \\\n",
       "0         2014-12-31  ...          29.00                   NaN    NaN   \n",
       "1         2014-12-31  ...          36.95                   NaN   73.9   \n",
       "2         2014-12-31  ...          36.95                   NaN   73.9   \n",
       "3         2014-12-31  ...          32.00                   NaN    NaN   \n",
       "4         2014-12-31  ...          32.00                   NaN    NaN   \n",
       "\n",
       "  PrimarySubscriberAndOneDependent  PrimarySubscriberAndTwoDependents  \\\n",
       "0                              NaN                                NaN   \n",
       "1                           107.61                             107.61   \n",
       "2                           107.61                             107.61   \n",
       "3                              NaN                                NaN   \n",
       "4                              NaN                                NaN   \n",
       "\n",
       "   PrimarySubscriberAndThreeOrMoreDependents  CoupleAndOneDependent  \\\n",
       "0                                        NaN                    NaN   \n",
       "1                                     107.61                 144.56   \n",
       "2                                     107.61                 144.56   \n",
       "3                                        NaN                    NaN   \n",
       "4                                        NaN                    NaN   \n",
       "\n",
       "   CoupleAndTwoDependents  CoupleAndThreeOrMoreDependents  RowNumber  \n",
       "0                     NaN                             NaN         14  \n",
       "1                  144.56                          144.56         14  \n",
       "2                  144.56                          144.56         15  \n",
       "3                     NaN                             NaN         15  \n",
       "4                     NaN                             NaN         16  \n",
       "\n",
       "[5 rows x 24 columns]"
      ]
     },
     "execution_count": 4,
     "metadata": {},
     "output_type": "execute_result"
    }
   ],
   "source": [
    "rate.head()"
   ]
  },
  {
   "cell_type": "code",
   "execution_count": 5,
   "metadata": {},
   "outputs": [
    {
     "data": {
      "text/html": [
       "<div>\n",
       "<style scoped>\n",
       "    .dataframe tbody tr th:only-of-type {\n",
       "        vertical-align: middle;\n",
       "    }\n",
       "\n",
       "    .dataframe tbody tr th {\n",
       "        vertical-align: top;\n",
       "    }\n",
       "\n",
       "    .dataframe thead th {\n",
       "        text-align: right;\n",
       "    }\n",
       "</style>\n",
       "<table border=\"1\" class=\"dataframe\">\n",
       "  <thead>\n",
       "    <tr style=\"text-align: right;\">\n",
       "      <th></th>\n",
       "      <th>BenefitName</th>\n",
       "      <th>BusinessYear</th>\n",
       "      <th>CoinsInnTier1</th>\n",
       "      <th>CoinsInnTier2</th>\n",
       "      <th>CoinsOutofNet</th>\n",
       "      <th>CopayInnTier1</th>\n",
       "      <th>CopayInnTier2</th>\n",
       "      <th>CopayOutofNet</th>\n",
       "      <th>EHBVarReason</th>\n",
       "      <th>Exclusions</th>\n",
       "      <th>...</th>\n",
       "      <th>LimitUnit</th>\n",
       "      <th>MinimumStay</th>\n",
       "      <th>PlanId</th>\n",
       "      <th>QuantLimitOnSvc</th>\n",
       "      <th>RowNumber</th>\n",
       "      <th>SourceName</th>\n",
       "      <th>StandardComponentId</th>\n",
       "      <th>StateCode</th>\n",
       "      <th>StateCode2</th>\n",
       "      <th>VersionNum</th>\n",
       "    </tr>\n",
       "  </thead>\n",
       "  <tbody>\n",
       "    <tr>\n",
       "      <th>0</th>\n",
       "      <td>Routine Dental Services (Adult)</td>\n",
       "      <td>2014</td>\n",
       "      <td>20%</td>\n",
       "      <td>NaN</td>\n",
       "      <td>20%</td>\n",
       "      <td>No Charge</td>\n",
       "      <td>NaN</td>\n",
       "      <td>No Charge</td>\n",
       "      <td>Above EHB</td>\n",
       "      <td>NaN</td>\n",
       "      <td>...</td>\n",
       "      <td>Dollars per Year</td>\n",
       "      <td>NaN</td>\n",
       "      <td>21989AK0010001-00</td>\n",
       "      <td>Yes</td>\n",
       "      <td>68</td>\n",
       "      <td>HIOS</td>\n",
       "      <td>21989AK0010001</td>\n",
       "      <td>AK</td>\n",
       "      <td>AK</td>\n",
       "      <td>6</td>\n",
       "    </tr>\n",
       "    <tr>\n",
       "      <th>1</th>\n",
       "      <td>Dental Check-Up for Children</td>\n",
       "      <td>2014</td>\n",
       "      <td>20%</td>\n",
       "      <td>NaN</td>\n",
       "      <td>20%</td>\n",
       "      <td>No Charge</td>\n",
       "      <td>NaN</td>\n",
       "      <td>No Charge</td>\n",
       "      <td>Substantially Equal</td>\n",
       "      <td>NaN</td>\n",
       "      <td>...</td>\n",
       "      <td>Visit(s) per 6 Months</td>\n",
       "      <td>NaN</td>\n",
       "      <td>21989AK0010001-00</td>\n",
       "      <td>Yes</td>\n",
       "      <td>104</td>\n",
       "      <td>HIOS</td>\n",
       "      <td>21989AK0010001</td>\n",
       "      <td>AK</td>\n",
       "      <td>AK</td>\n",
       "      <td>6</td>\n",
       "    </tr>\n",
       "    <tr>\n",
       "      <th>2</th>\n",
       "      <td>Basic Dental Care - Child</td>\n",
       "      <td>2014</td>\n",
       "      <td>40%</td>\n",
       "      <td>NaN</td>\n",
       "      <td>40%</td>\n",
       "      <td>No Charge</td>\n",
       "      <td>NaN</td>\n",
       "      <td>No Charge</td>\n",
       "      <td>Substantially Equal</td>\n",
       "      <td>NaN</td>\n",
       "      <td>...</td>\n",
       "      <td>NaN</td>\n",
       "      <td>NaN</td>\n",
       "      <td>21989AK0010001-00</td>\n",
       "      <td>NaN</td>\n",
       "      <td>110</td>\n",
       "      <td>HIOS</td>\n",
       "      <td>21989AK0010001</td>\n",
       "      <td>AK</td>\n",
       "      <td>AK</td>\n",
       "      <td>6</td>\n",
       "    </tr>\n",
       "    <tr>\n",
       "      <th>3</th>\n",
       "      <td>Orthodontia - Child</td>\n",
       "      <td>2014</td>\n",
       "      <td>50%</td>\n",
       "      <td>NaN</td>\n",
       "      <td>50%</td>\n",
       "      <td>No Charge</td>\n",
       "      <td>NaN</td>\n",
       "      <td>No Charge</td>\n",
       "      <td>Additional EHB Benefit</td>\n",
       "      <td>NaN</td>\n",
       "      <td>...</td>\n",
       "      <td>NaN</td>\n",
       "      <td>NaN</td>\n",
       "      <td>21989AK0010001-00</td>\n",
       "      <td>NaN</td>\n",
       "      <td>111</td>\n",
       "      <td>HIOS</td>\n",
       "      <td>21989AK0010001</td>\n",
       "      <td>AK</td>\n",
       "      <td>AK</td>\n",
       "      <td>6</td>\n",
       "    </tr>\n",
       "    <tr>\n",
       "      <th>4</th>\n",
       "      <td>Major Dental Care - Child</td>\n",
       "      <td>2014</td>\n",
       "      <td>50%</td>\n",
       "      <td>NaN</td>\n",
       "      <td>50%</td>\n",
       "      <td>No Charge</td>\n",
       "      <td>NaN</td>\n",
       "      <td>No Charge</td>\n",
       "      <td>Substantially Equal</td>\n",
       "      <td>NaN</td>\n",
       "      <td>...</td>\n",
       "      <td>NaN</td>\n",
       "      <td>NaN</td>\n",
       "      <td>21989AK0010001-00</td>\n",
       "      <td>NaN</td>\n",
       "      <td>112</td>\n",
       "      <td>HIOS</td>\n",
       "      <td>21989AK0010001</td>\n",
       "      <td>AK</td>\n",
       "      <td>AK</td>\n",
       "      <td>6</td>\n",
       "    </tr>\n",
       "  </tbody>\n",
       "</table>\n",
       "<p>5 rows × 32 columns</p>\n",
       "</div>"
      ],
      "text/plain": [
       "                       BenefitName  BusinessYear CoinsInnTier1 CoinsInnTier2  \\\n",
       "0  Routine Dental Services (Adult)          2014           20%           NaN   \n",
       "1     Dental Check-Up for Children          2014           20%           NaN   \n",
       "2        Basic Dental Care - Child          2014           40%           NaN   \n",
       "3              Orthodontia - Child          2014           50%           NaN   \n",
       "4        Major Dental Care - Child          2014           50%           NaN   \n",
       "\n",
       "  CoinsOutofNet CopayInnTier1 CopayInnTier2 CopayOutofNet  \\\n",
       "0           20%     No Charge           NaN     No Charge   \n",
       "1           20%     No Charge           NaN     No Charge   \n",
       "2           40%     No Charge           NaN     No Charge   \n",
       "3           50%     No Charge           NaN     No Charge   \n",
       "4           50%     No Charge           NaN     No Charge   \n",
       "\n",
       "             EHBVarReason Exclusions  ...              LimitUnit MinimumStay  \\\n",
       "0               Above EHB        NaN  ...       Dollars per Year         NaN   \n",
       "1     Substantially Equal        NaN  ...  Visit(s) per 6 Months         NaN   \n",
       "2     Substantially Equal        NaN  ...                    NaN         NaN   \n",
       "3  Additional EHB Benefit        NaN  ...                    NaN         NaN   \n",
       "4     Substantially Equal        NaN  ...                    NaN         NaN   \n",
       "\n",
       "              PlanId QuantLimitOnSvc RowNumber SourceName StandardComponentId  \\\n",
       "0  21989AK0010001-00             Yes        68       HIOS      21989AK0010001   \n",
       "1  21989AK0010001-00             Yes       104       HIOS      21989AK0010001   \n",
       "2  21989AK0010001-00             NaN       110       HIOS      21989AK0010001   \n",
       "3  21989AK0010001-00             NaN       111       HIOS      21989AK0010001   \n",
       "4  21989AK0010001-00             NaN       112       HIOS      21989AK0010001   \n",
       "\n",
       "  StateCode StateCode2  VersionNum  \n",
       "0        AK         AK           6  \n",
       "1        AK         AK           6  \n",
       "2        AK         AK           6  \n",
       "3        AK         AK           6  \n",
       "4        AK         AK           6  \n",
       "\n",
       "[5 rows x 32 columns]"
      ]
     },
     "execution_count": 5,
     "metadata": {},
     "output_type": "execute_result"
    }
   ],
   "source": [
    "benefit.head()"
   ]
  },
  {
   "cell_type": "markdown",
   "metadata": {},
   "source": [
    "Inner join between two datasets"
   ]
  },
  {
   "cell_type": "code",
   "execution_count": 6,
   "metadata": {},
   "outputs": [],
   "source": [
    "result=pd.merge(benefit,rate,how='inner',left_index=True, right_index=True)"
   ]
  },
  {
   "cell_type": "code",
   "execution_count": 7,
   "metadata": {},
   "outputs": [
    {
     "data": {
      "text/html": [
       "<div>\n",
       "<style scoped>\n",
       "    .dataframe tbody tr th:only-of-type {\n",
       "        vertical-align: middle;\n",
       "    }\n",
       "\n",
       "    .dataframe tbody tr th {\n",
       "        vertical-align: top;\n",
       "    }\n",
       "\n",
       "    .dataframe thead th {\n",
       "        text-align: right;\n",
       "    }\n",
       "</style>\n",
       "<table border=\"1\" class=\"dataframe\">\n",
       "  <thead>\n",
       "    <tr style=\"text-align: right;\">\n",
       "      <th></th>\n",
       "      <th>BenefitName</th>\n",
       "      <th>BusinessYear_x</th>\n",
       "      <th>CoinsInnTier1</th>\n",
       "      <th>CoinsInnTier2</th>\n",
       "      <th>CoinsOutofNet</th>\n",
       "      <th>CopayInnTier1</th>\n",
       "      <th>CopayInnTier2</th>\n",
       "      <th>CopayOutofNet</th>\n",
       "      <th>EHBVarReason</th>\n",
       "      <th>Exclusions</th>\n",
       "      <th>...</th>\n",
       "      <th>IndividualRate</th>\n",
       "      <th>IndividualTobaccoRate</th>\n",
       "      <th>Couple</th>\n",
       "      <th>PrimarySubscriberAndOneDependent</th>\n",
       "      <th>PrimarySubscriberAndTwoDependents</th>\n",
       "      <th>PrimarySubscriberAndThreeOrMoreDependents</th>\n",
       "      <th>CoupleAndOneDependent</th>\n",
       "      <th>CoupleAndTwoDependents</th>\n",
       "      <th>CoupleAndThreeOrMoreDependents</th>\n",
       "      <th>RowNumber_y</th>\n",
       "    </tr>\n",
       "  </thead>\n",
       "  <tbody>\n",
       "    <tr>\n",
       "      <th>0</th>\n",
       "      <td>Routine Dental Services (Adult)</td>\n",
       "      <td>2014</td>\n",
       "      <td>20%</td>\n",
       "      <td>NaN</td>\n",
       "      <td>20%</td>\n",
       "      <td>No Charge</td>\n",
       "      <td>NaN</td>\n",
       "      <td>No Charge</td>\n",
       "      <td>Above EHB</td>\n",
       "      <td>NaN</td>\n",
       "      <td>...</td>\n",
       "      <td>29.00</td>\n",
       "      <td>NaN</td>\n",
       "      <td>NaN</td>\n",
       "      <td>NaN</td>\n",
       "      <td>NaN</td>\n",
       "      <td>NaN</td>\n",
       "      <td>NaN</td>\n",
       "      <td>NaN</td>\n",
       "      <td>NaN</td>\n",
       "      <td>14</td>\n",
       "    </tr>\n",
       "    <tr>\n",
       "      <th>1</th>\n",
       "      <td>Dental Check-Up for Children</td>\n",
       "      <td>2014</td>\n",
       "      <td>20%</td>\n",
       "      <td>NaN</td>\n",
       "      <td>20%</td>\n",
       "      <td>No Charge</td>\n",
       "      <td>NaN</td>\n",
       "      <td>No Charge</td>\n",
       "      <td>Substantially Equal</td>\n",
       "      <td>NaN</td>\n",
       "      <td>...</td>\n",
       "      <td>36.95</td>\n",
       "      <td>NaN</td>\n",
       "      <td>73.9</td>\n",
       "      <td>107.61</td>\n",
       "      <td>107.61</td>\n",
       "      <td>107.61</td>\n",
       "      <td>144.56</td>\n",
       "      <td>144.56</td>\n",
       "      <td>144.56</td>\n",
       "      <td>14</td>\n",
       "    </tr>\n",
       "    <tr>\n",
       "      <th>2</th>\n",
       "      <td>Basic Dental Care - Child</td>\n",
       "      <td>2014</td>\n",
       "      <td>40%</td>\n",
       "      <td>NaN</td>\n",
       "      <td>40%</td>\n",
       "      <td>No Charge</td>\n",
       "      <td>NaN</td>\n",
       "      <td>No Charge</td>\n",
       "      <td>Substantially Equal</td>\n",
       "      <td>NaN</td>\n",
       "      <td>...</td>\n",
       "      <td>36.95</td>\n",
       "      <td>NaN</td>\n",
       "      <td>73.9</td>\n",
       "      <td>107.61</td>\n",
       "      <td>107.61</td>\n",
       "      <td>107.61</td>\n",
       "      <td>144.56</td>\n",
       "      <td>144.56</td>\n",
       "      <td>144.56</td>\n",
       "      <td>15</td>\n",
       "    </tr>\n",
       "    <tr>\n",
       "      <th>3</th>\n",
       "      <td>Orthodontia - Child</td>\n",
       "      <td>2014</td>\n",
       "      <td>50%</td>\n",
       "      <td>NaN</td>\n",
       "      <td>50%</td>\n",
       "      <td>No Charge</td>\n",
       "      <td>NaN</td>\n",
       "      <td>No Charge</td>\n",
       "      <td>Additional EHB Benefit</td>\n",
       "      <td>NaN</td>\n",
       "      <td>...</td>\n",
       "      <td>32.00</td>\n",
       "      <td>NaN</td>\n",
       "      <td>NaN</td>\n",
       "      <td>NaN</td>\n",
       "      <td>NaN</td>\n",
       "      <td>NaN</td>\n",
       "      <td>NaN</td>\n",
       "      <td>NaN</td>\n",
       "      <td>NaN</td>\n",
       "      <td>15</td>\n",
       "    </tr>\n",
       "    <tr>\n",
       "      <th>4</th>\n",
       "      <td>Major Dental Care - Child</td>\n",
       "      <td>2014</td>\n",
       "      <td>50%</td>\n",
       "      <td>NaN</td>\n",
       "      <td>50%</td>\n",
       "      <td>No Charge</td>\n",
       "      <td>NaN</td>\n",
       "      <td>No Charge</td>\n",
       "      <td>Substantially Equal</td>\n",
       "      <td>NaN</td>\n",
       "      <td>...</td>\n",
       "      <td>32.00</td>\n",
       "      <td>NaN</td>\n",
       "      <td>NaN</td>\n",
       "      <td>NaN</td>\n",
       "      <td>NaN</td>\n",
       "      <td>NaN</td>\n",
       "      <td>NaN</td>\n",
       "      <td>NaN</td>\n",
       "      <td>NaN</td>\n",
       "      <td>16</td>\n",
       "    </tr>\n",
       "  </tbody>\n",
       "</table>\n",
       "<p>5 rows × 56 columns</p>\n",
       "</div>"
      ],
      "text/plain": [
       "                       BenefitName  BusinessYear_x CoinsInnTier1  \\\n",
       "0  Routine Dental Services (Adult)            2014           20%   \n",
       "1     Dental Check-Up for Children            2014           20%   \n",
       "2        Basic Dental Care - Child            2014           40%   \n",
       "3              Orthodontia - Child            2014           50%   \n",
       "4        Major Dental Care - Child            2014           50%   \n",
       "\n",
       "  CoinsInnTier2 CoinsOutofNet CopayInnTier1 CopayInnTier2 CopayOutofNet  \\\n",
       "0           NaN           20%     No Charge           NaN     No Charge   \n",
       "1           NaN           20%     No Charge           NaN     No Charge   \n",
       "2           NaN           40%     No Charge           NaN     No Charge   \n",
       "3           NaN           50%     No Charge           NaN     No Charge   \n",
       "4           NaN           50%     No Charge           NaN     No Charge   \n",
       "\n",
       "             EHBVarReason Exclusions  ... IndividualRate  \\\n",
       "0               Above EHB        NaN  ...          29.00   \n",
       "1     Substantially Equal        NaN  ...          36.95   \n",
       "2     Substantially Equal        NaN  ...          36.95   \n",
       "3  Additional EHB Benefit        NaN  ...          32.00   \n",
       "4     Substantially Equal        NaN  ...          32.00   \n",
       "\n",
       "  IndividualTobaccoRate Couple PrimarySubscriberAndOneDependent  \\\n",
       "0                   NaN    NaN                              NaN   \n",
       "1                   NaN   73.9                           107.61   \n",
       "2                   NaN   73.9                           107.61   \n",
       "3                   NaN    NaN                              NaN   \n",
       "4                   NaN    NaN                              NaN   \n",
       "\n",
       "  PrimarySubscriberAndTwoDependents PrimarySubscriberAndThreeOrMoreDependents  \\\n",
       "0                               NaN                                       NaN   \n",
       "1                            107.61                                    107.61   \n",
       "2                            107.61                                    107.61   \n",
       "3                               NaN                                       NaN   \n",
       "4                               NaN                                       NaN   \n",
       "\n",
       "  CoupleAndOneDependent CoupleAndTwoDependents CoupleAndThreeOrMoreDependents  \\\n",
       "0                   NaN                    NaN                            NaN   \n",
       "1                144.56                 144.56                         144.56   \n",
       "2                144.56                 144.56                         144.56   \n",
       "3                   NaN                    NaN                            NaN   \n",
       "4                   NaN                    NaN                            NaN   \n",
       "\n",
       "   RowNumber_y  \n",
       "0           14  \n",
       "1           14  \n",
       "2           15  \n",
       "3           15  \n",
       "4           16  \n",
       "\n",
       "[5 rows x 56 columns]"
      ]
     },
     "execution_count": 7,
     "metadata": {},
     "output_type": "execute_result"
    }
   ],
   "source": [
    "result.head()"
   ]
  },
  {
   "cell_type": "markdown",
   "metadata": {},
   "source": [
    "<a id=\"ExploratoryDataAnalysis(EDA)\"></a>\n",
    "# 3) Exploratory Data Analysis (EDA)"
   ]
  },
  {
   "cell_type": "markdown",
   "metadata": {},
   "source": [
    "Check the size of the dataset and remove any Nans"
   ]
  },
  {
   "cell_type": "code",
   "execution_count": 8,
   "metadata": {},
   "outputs": [
    {
     "data": {
      "text/plain": [
       "(5048408, 56)"
      ]
     },
     "execution_count": 8,
     "metadata": {},
     "output_type": "execute_result"
    }
   ],
   "source": [
    "result.shape"
   ]
  },
  {
   "cell_type": "code",
   "execution_count": 9,
   "metadata": {},
   "outputs": [
    {
     "data": {
      "text/plain": [
       "BenefitName                                        0\n",
       "BusinessYear_x                                     0\n",
       "CoinsInnTier1                                1113847\n",
       "CoinsInnTier2                                4571587\n",
       "CoinsOutofNet                                1113847\n",
       "CopayInnTier1                                1113847\n",
       "CopayInnTier2                                4571587\n",
       "CopayOutofNet                                1113849\n",
       "EHBVarReason                                 3020737\n",
       "Exclusions                                   4572247\n",
       "Explanation                                  4075700\n",
       "ImportDate_x                                       0\n",
       "IsCovered                                     215980\n",
       "IsEHB                                        1817362\n",
       "IsExclFromInnMOOP                             983986\n",
       "IsExclFromOonMOOP                             982626\n",
       "IsStateMandate                               4250463\n",
       "IsSubjToDedTier1                             2465877\n",
       "IsSubjToDedTier2                             2466054\n",
       "IssuerId_x                                         0\n",
       "IssuerId2_x                                        0\n",
       "LimitQty                                     4360725\n",
       "LimitUnit                                    4360539\n",
       "MinimumStay                                  5031681\n",
       "PlanId_x                                           0\n",
       "QuantLimitOnSvc                              3264532\n",
       "RowNumber_x                                        0\n",
       "SourceName_x                                       0\n",
       "StandardComponentId                                0\n",
       "StateCode_x                                        0\n",
       "StateCode2                                         0\n",
       "VersionNum_x                                       0\n",
       "BusinessYear_y                                     0\n",
       "StateCode_y                                        0\n",
       "IssuerId_y                                         0\n",
       "SourceName_y                                       0\n",
       "VersionNum_y                                       0\n",
       "ImportDate_y                                       0\n",
       "IssuerId2_y                                        0\n",
       "FederalTIN                                         0\n",
       "RateEffectiveDate                                  0\n",
       "RateExpirationDate                                 0\n",
       "PlanId_y                                           0\n",
       "RatingAreaId                                       0\n",
       "Tobacco                                            0\n",
       "Age                                                0\n",
       "IndividualRate                                     0\n",
       "IndividualTobaccoRate                        2994626\n",
       "Couple                                       5034252\n",
       "PrimarySubscriberAndOneDependent             5034252\n",
       "PrimarySubscriberAndTwoDependents            5034252\n",
       "PrimarySubscriberAndThreeOrMoreDependents    5034252\n",
       "CoupleAndOneDependent                        5034252\n",
       "CoupleAndTwoDependents                       5034252\n",
       "CoupleAndThreeOrMoreDependents               5034252\n",
       "RowNumber_y                                        0\n",
       "dtype: int64"
      ]
     },
     "execution_count": 9,
     "metadata": {},
     "output_type": "execute_result"
    }
   ],
   "source": [
    "result.isnull().sum()"
   ]
  },
  {
   "cell_type": "code",
   "execution_count": 129,
   "metadata": {},
   "outputs": [
    {
     "data": {
      "text/html": [
       "<div>\n",
       "<style scoped>\n",
       "    .dataframe tbody tr th:only-of-type {\n",
       "        vertical-align: middle;\n",
       "    }\n",
       "\n",
       "    .dataframe tbody tr th {\n",
       "        vertical-align: top;\n",
       "    }\n",
       "\n",
       "    .dataframe thead th {\n",
       "        text-align: right;\n",
       "    }\n",
       "</style>\n",
       "<table border=\"1\" class=\"dataframe\">\n",
       "  <thead>\n",
       "    <tr style=\"text-align: right;\">\n",
       "      <th></th>\n",
       "      <th>BenefitName</th>\n",
       "      <th>BusinessYear_x</th>\n",
       "      <th>CoinsInnTier1</th>\n",
       "      <th>CoinsInnTier2</th>\n",
       "      <th>CoinsOutofNet</th>\n",
       "      <th>CopayInnTier1</th>\n",
       "      <th>CopayInnTier2</th>\n",
       "      <th>CopayOutofNet</th>\n",
       "      <th>EHBVarReason</th>\n",
       "      <th>Exclusions</th>\n",
       "      <th>...</th>\n",
       "      <th>IndividualRate</th>\n",
       "      <th>IndividualTobaccoRate</th>\n",
       "      <th>Couple</th>\n",
       "      <th>PrimarySubscriberAndOneDependent</th>\n",
       "      <th>PrimarySubscriberAndTwoDependents</th>\n",
       "      <th>PrimarySubscriberAndThreeOrMoreDependents</th>\n",
       "      <th>CoupleAndOneDependent</th>\n",
       "      <th>CoupleAndTwoDependents</th>\n",
       "      <th>CoupleAndThreeOrMoreDependents</th>\n",
       "      <th>RowNumber_y</th>\n",
       "    </tr>\n",
       "  </thead>\n",
       "  <tbody>\n",
       "  </tbody>\n",
       "</table>\n",
       "<p>0 rows × 56 columns</p>\n",
       "</div>"
      ],
      "text/plain": [
       "Empty DataFrame\n",
       "Columns: [BenefitName, BusinessYear_x, CoinsInnTier1, CoinsInnTier2, CoinsOutofNet, CopayInnTier1, CopayInnTier2, CopayOutofNet, EHBVarReason, Exclusions, Explanation, ImportDate_x, IsCovered, IsEHB, IsExclFromInnMOOP, IsExclFromOonMOOP, IsStateMandate, IsSubjToDedTier1, IsSubjToDedTier2, IssuerId_x, IssuerId2_x, LimitQty, LimitUnit, MinimumStay, PlanId_x, QuantLimitOnSvc, RowNumber_x, SourceName_x, StandardComponentId, StateCode_x, StateCode2, VersionNum_x, BusinessYear_y, StateCode_y, IssuerId_y, SourceName_y, VersionNum_y, ImportDate_y, IssuerId2_y, FederalTIN, RateEffectiveDate, RateExpirationDate, PlanId_y, RatingAreaId, Tobacco, Age, IndividualRate, IndividualTobaccoRate, Couple, PrimarySubscriberAndOneDependent, PrimarySubscriberAndTwoDependents, PrimarySubscriberAndThreeOrMoreDependents, CoupleAndOneDependent, CoupleAndTwoDependents, CoupleAndThreeOrMoreDependents, RowNumber_y]\n",
       "Index: []\n",
       "\n",
       "[0 rows x 56 columns]"
      ]
     },
     "execution_count": 129,
     "metadata": {},
     "output_type": "execute_result"
    }
   ],
   "source": [
    "result.dropna()"
   ]
  },
  {
   "cell_type": "code",
   "execution_count": 612,
   "metadata": {},
   "outputs": [
    {
     "data": {
      "text/plain": [
       "BenefitName                                   object\n",
       "BusinessYear_x                                 int64\n",
       "CoinsInnTier1                                 object\n",
       "CoinsInnTier2                                 object\n",
       "CoinsOutofNet                                 object\n",
       "CopayInnTier1                                 object\n",
       "CopayInnTier2                                 object\n",
       "CopayOutofNet                                 object\n",
       "EHBVarReason                                  object\n",
       "Exclusions                                    object\n",
       "Explanation                                   object\n",
       "ImportDate_x                                  object\n",
       "IsCovered                                     object\n",
       "IsEHB                                         object\n",
       "IsExclFromInnMOOP                             object\n",
       "IsExclFromOonMOOP                             object\n",
       "IsStateMandate                                object\n",
       "IsSubjToDedTier1                              object\n",
       "IsSubjToDedTier2                              object\n",
       "IssuerId_x                                     int64\n",
       "IssuerId2_x                                    int64\n",
       "LimitQty                                     float64\n",
       "LimitUnit                                     object\n",
       "MinimumStay                                  float64\n",
       "PlanId_x                                      object\n",
       "QuantLimitOnSvc                               object\n",
       "RowNumber_x                                    int64\n",
       "SourceName_x                                  object\n",
       "StandardComponentId                           object\n",
       "StateCode_x                                   object\n",
       "StateCode2                                    object\n",
       "VersionNum_x                                   int64\n",
       "BusinessYear_y                                 int64\n",
       "StateCode_y                                   object\n",
       "IssuerId_y                                     int64\n",
       "SourceName_y                                  object\n",
       "VersionNum_y                                   int64\n",
       "ImportDate_y                                  object\n",
       "IssuerId2_y                                    int64\n",
       "FederalTIN                                    object\n",
       "RateEffectiveDate                             object\n",
       "RateExpirationDate                            object\n",
       "PlanId_y                                      object\n",
       "RatingAreaId                                  object\n",
       "Tobacco                                       object\n",
       "Age                                           object\n",
       "IndividualRate                               float64\n",
       "IndividualTobaccoRate                        float64\n",
       "Couple                                       float64\n",
       "PrimarySubscriberAndOneDependent             float64\n",
       "PrimarySubscriberAndTwoDependents            float64\n",
       "PrimarySubscriberAndThreeOrMoreDependents    float64\n",
       "CoupleAndOneDependent                        float64\n",
       "CoupleAndTwoDependents                       float64\n",
       "CoupleAndThreeOrMoreDependents               float64\n",
       "RowNumber_y                                    int64\n",
       "dtype: object"
      ]
     },
     "execution_count": 612,
     "metadata": {},
     "output_type": "execute_result"
    }
   ],
   "source": [
    "result.dtypes"
   ]
  },
  {
   "cell_type": "code",
   "execution_count": 133,
   "metadata": {},
   "outputs": [
    {
     "data": {
      "text/plain": [
       "(118681,)"
      ]
     },
     "execution_count": 133,
     "metadata": {},
     "output_type": "execute_result"
    }
   ],
   "source": [
    "result.IndividualRate.value_counts().shape"
   ]
  },
  {
   "cell_type": "code",
   "execution_count": 15,
   "metadata": {},
   "outputs": [
    {
     "data": {
      "text/plain": [
       "(861,)"
      ]
     },
     "execution_count": 15,
     "metadata": {},
     "output_type": "execute_result"
    }
   ],
   "source": [
    "result.BenefitName.value_counts().shape"
   ]
  },
  {
   "cell_type": "markdown",
   "metadata": {},
   "source": [
    "Which Benefit plans are insured the most/least?"
   ]
  },
  {
   "cell_type": "code",
   "execution_count": 670,
   "metadata": {},
   "outputs": [
    {
     "data": {
      "text/plain": [
       "Orthodontia - Adult                                77377\n",
       "Basic Dental Care - Child                          77353\n",
       "Routine Dental Services (Adult)                    77353\n",
       "Accidental Dental                                  77353\n",
       "Basic Dental Care - Adult                          77353\n",
       "Dental Check-Up for Children                       77353\n",
       "Major Dental Care - Adult                          77353\n",
       "Major Dental Care - Child                          77353\n",
       "Orthodontia - Child                                77345\n",
       "Treatment for Temporomandibular Joint Disorders    65724\n",
       "Name: BenefitName, dtype: int64"
      ]
     },
     "execution_count": 670,
     "metadata": {},
     "output_type": "execute_result"
    }
   ],
   "source": [
    "result.BenefitName.value_counts().head(10)"
   ]
  },
  {
   "cell_type": "code",
   "execution_count": 671,
   "metadata": {},
   "outputs": [
    {
     "data": {
      "text/plain": [
       "Hospice Outpatient                                        2\n",
       "Routine Exams and X-rays - Child                          2\n",
       "Coimplex Oral Surgery                                     2\n",
       "Orthodontia for Cleft Palate or Cleft Lip only - Child    2\n",
       "Immediate Dentiures                                       2\n",
       "Vital pulpotomy                                           1\n",
       "root Canal Therapy and Retreatment                        1\n",
       "Prefab Resin Crown                                        1\n",
       "Posterior Composites - Child                              1\n",
       "Implant Adult                                             1\n",
       "Name: BenefitName, dtype: int64"
      ]
     },
     "execution_count": 671,
     "metadata": {},
     "output_type": "execute_result"
    }
   ],
   "source": [
    "result.BenefitName.value_counts().tail(10)"
   ]
  },
  {
   "cell_type": "markdown",
   "metadata": {},
   "source": [
    "Visualization of Top 10 Health care benefits packages most selected"
   ]
  },
  {
   "cell_type": "code",
   "execution_count": 773,
   "metadata": {},
   "outputs": [
    {
     "data": {
      "image/png": "[encoded data removed]",
      "text/plain": [
       "<Figure size 432x288 with 1 Axes>"
      ]
     },
     "metadata": {
      "needs_background": "light"
     },
     "output_type": "display_data"
    }
   ],
   "source": [
    "top10 = result['BenefitName'].value_counts().sort_values(ascending=False).head(10)\n",
    "ax=top10.plot(kind='bar')\n",
    "ax.set_title('Top 10 Health Care benefit plans sold', fontsize=21, y=1.01);\n",
    "ax.set_ylabel('Amount sold', fontsize=16);"
   ]
  },
  {
   "cell_type": "markdown",
   "metadata": {},
   "source": [
    "How does the individual Insurance rate vary for each benefit plam in each state?"
   ]
  },
  {
   "cell_type": "code",
   "execution_count": 721,
   "metadata": {},
   "outputs": [
    {
     "data": {
      "text/html": [
       "<div>\n",
       "<style scoped>\n",
       "    .dataframe tbody tr th:only-of-type {\n",
       "        vertical-align: middle;\n",
       "    }\n",
       "\n",
       "    .dataframe tbody tr th {\n",
       "        vertical-align: top;\n",
       "    }\n",
       "\n",
       "    .dataframe thead th {\n",
       "        text-align: right;\n",
       "    }\n",
       "</style>\n",
       "<table border=\"1\" class=\"dataframe\">\n",
       "  <thead>\n",
       "    <tr style=\"text-align: right;\">\n",
       "      <th></th>\n",
       "      <th></th>\n",
       "      <th>IndividualRate</th>\n",
       "    </tr>\n",
       "    <tr>\n",
       "      <th>StateCode_x</th>\n",
       "      <th>BenefitName</th>\n",
       "      <th></th>\n",
       "    </tr>\n",
       "  </thead>\n",
       "  <tbody>\n",
       "    <tr>\n",
       "      <th rowspan=\"30\" valign=\"top\">WY</th>\n",
       "      <th>Inpatient Physician and Surgical Services</th>\n",
       "      <td>63340.903367</td>\n",
       "    </tr>\n",
       "    <tr>\n",
       "      <th>Laboratory Outpatient and Professional Services</th>\n",
       "      <td>61633.878325</td>\n",
       "    </tr>\n",
       "    <tr>\n",
       "      <th>Long-Term/Custodial Nursing Home Care</th>\n",
       "      <td>60006.239425</td>\n",
       "    </tr>\n",
       "    <tr>\n",
       "      <th>Diabetes Care Management</th>\n",
       "      <td>58231.432284</td>\n",
       "    </tr>\n",
       "    <tr>\n",
       "      <th>Infusion Therapy</th>\n",
       "      <td>58172.902234</td>\n",
       "    </tr>\n",
       "    <tr>\n",
       "      <th>Infertility Treatment</th>\n",
       "      <td>56639.059019</td>\n",
       "    </tr>\n",
       "    <tr>\n",
       "      <th>Hospice Services</th>\n",
       "      <td>56586.902792</td>\n",
       "    </tr>\n",
       "    <tr>\n",
       "      <th>Mental/Behavioral Health Outpatient Services</th>\n",
       "      <td>56570.999848</td>\n",
       "    </tr>\n",
       "    <tr>\n",
       "      <th>Imaging (CT/PET Scans, MRIs)</th>\n",
       "      <td>56543.711658</td>\n",
       "    </tr>\n",
       "    <tr>\n",
       "      <th>Diabetes Education</th>\n",
       "      <td>56537.088951</td>\n",
       "    </tr>\n",
       "    <tr>\n",
       "      <th>Home Health Care Services</th>\n",
       "      <td>54927.477800</td>\n",
       "    </tr>\n",
       "    <tr>\n",
       "      <th>Nutritional Counseling</th>\n",
       "      <td>54906.960000</td>\n",
       "    </tr>\n",
       "    <tr>\n",
       "      <th>Chiropractic Care</th>\n",
       "      <td>54883.677631</td>\n",
       "    </tr>\n",
       "    <tr>\n",
       "      <th>Inpatient Hospital Services (e.g., Hospital Stay)</th>\n",
       "      <td>54883.139137</td>\n",
       "    </tr>\n",
       "    <tr>\n",
       "      <th>Hearing Aids</th>\n",
       "      <td>54881.815770</td>\n",
       "    </tr>\n",
       "    <tr>\n",
       "      <th>Chemotherapy</th>\n",
       "      <td>54871.691624</td>\n",
       "    </tr>\n",
       "    <tr>\n",
       "      <th>Preventive Care/Screening/Immunization</th>\n",
       "      <td>54870.669408</td>\n",
       "    </tr>\n",
       "    <tr>\n",
       "      <th>Preferred Brand Drugs</th>\n",
       "      <td>54867.790305</td>\n",
       "    </tr>\n",
       "    <tr>\n",
       "      <th>Cosmetic Surgery</th>\n",
       "      <td>54864.876701</td>\n",
       "    </tr>\n",
       "    <tr>\n",
       "      <th>Mental/Behavioral Health Inpatient Services</th>\n",
       "      <td>54863.296751</td>\n",
       "    </tr>\n",
       "    <tr>\n",
       "      <th>X-rays and Diagnostic Imaging</th>\n",
       "      <td>54851.053993</td>\n",
       "    </tr>\n",
       "    <tr>\n",
       "      <th>Prenatal and Postnatal Care</th>\n",
       "      <td>54850.081320</td>\n",
       "    </tr>\n",
       "    <tr>\n",
       "      <th>Delivery and All Inpatient Services for Maternity Care</th>\n",
       "      <td>54848.896142</td>\n",
       "    </tr>\n",
       "    <tr>\n",
       "      <th>Non-Preferred Brand Drugs</th>\n",
       "      <td>54846.847597</td>\n",
       "    </tr>\n",
       "    <tr>\n",
       "      <th>Acupuncture</th>\n",
       "      <td>54833.215584</td>\n",
       "    </tr>\n",
       "    <tr>\n",
       "      <th>Non-Emergency Care When Traveling Outside the U.S.</th>\n",
       "      <td>54794.051844</td>\n",
       "    </tr>\n",
       "    <tr>\n",
       "      <th>Urgent Care Centers or Facilities</th>\n",
       "      <td>53238.857107</td>\n",
       "    </tr>\n",
       "    <tr>\n",
       "      <th>Primary Care Visit to Treat an Injury or Illness</th>\n",
       "      <td>53220.188325</td>\n",
       "    </tr>\n",
       "    <tr>\n",
       "      <th>Specialist Visit</th>\n",
       "      <td>53208.818494</td>\n",
       "    </tr>\n",
       "    <tr>\n",
       "      <th>Routine Foot Care</th>\n",
       "      <td>53192.179475</td>\n",
       "    </tr>\n",
       "    <tr>\n",
       "      <th>...</th>\n",
       "      <th>...</th>\n",
       "      <td>...</td>\n",
       "    </tr>\n",
       "    <tr>\n",
       "      <th rowspan=\"30\" valign=\"top\">AK</th>\n",
       "      <th>Hospice Services</th>\n",
       "      <td>249.981488</td>\n",
       "    </tr>\n",
       "    <tr>\n",
       "      <th>Home Health Care Services</th>\n",
       "      <td>249.646261</td>\n",
       "    </tr>\n",
       "    <tr>\n",
       "      <th>Infusion Therapy</th>\n",
       "      <td>249.350290</td>\n",
       "    </tr>\n",
       "    <tr>\n",
       "      <th>Preferred Brand Drugs</th>\n",
       "      <td>249.270508</td>\n",
       "    </tr>\n",
       "    <tr>\n",
       "      <th>Newborn Hearing Screening</th>\n",
       "      <td>248.966624</td>\n",
       "    </tr>\n",
       "    <tr>\n",
       "      <th>Generic Drugs</th>\n",
       "      <td>248.337967</td>\n",
       "    </tr>\n",
       "    <tr>\n",
       "      <th>Dialysis</th>\n",
       "      <td>248.037387</td>\n",
       "    </tr>\n",
       "    <tr>\n",
       "      <th>Transplant</th>\n",
       "      <td>247.593430</td>\n",
       "    </tr>\n",
       "    <tr>\n",
       "      <th>Mental/Behavioral Health Inpatient Services</th>\n",
       "      <td>247.374356</td>\n",
       "    </tr>\n",
       "    <tr>\n",
       "      <th>Abortion for Which Public Funding is Prohibited</th>\n",
       "      <td>247.332541</td>\n",
       "    </tr>\n",
       "    <tr>\n",
       "      <th>Outpatient Surgery Physician/Surgical Services</th>\n",
       "      <td>247.207278</td>\n",
       "    </tr>\n",
       "    <tr>\n",
       "      <th>Diabetes Education</th>\n",
       "      <td>247.104247</td>\n",
       "    </tr>\n",
       "    <tr>\n",
       "      <th>Bariatric Surgery</th>\n",
       "      <td>246.910835</td>\n",
       "    </tr>\n",
       "    <tr>\n",
       "      <th>Cosmetic Surgery</th>\n",
       "      <td>246.672432</td>\n",
       "    </tr>\n",
       "    <tr>\n",
       "      <th>Other Practitioner Office Visit (Nurse, Physician Assistant)</th>\n",
       "      <td>246.592849</td>\n",
       "    </tr>\n",
       "    <tr>\n",
       "      <th>Acupuncture</th>\n",
       "      <td>246.388893</td>\n",
       "    </tr>\n",
       "    <tr>\n",
       "      <th>Outpatient Facility Fee (e.g.,  Ambulatory Surgery Center)</th>\n",
       "      <td>246.053085</td>\n",
       "    </tr>\n",
       "    <tr>\n",
       "      <th>Inpatient Physician and Surgical Services</th>\n",
       "      <td>245.491688</td>\n",
       "    </tr>\n",
       "    <tr>\n",
       "      <th>Inpatient Hospital Services (e.g., Hospital Stay)</th>\n",
       "      <td>245.447169</td>\n",
       "    </tr>\n",
       "    <tr>\n",
       "      <th>Hearing Aids</th>\n",
       "      <td>244.318294</td>\n",
       "    </tr>\n",
       "    <tr>\n",
       "      <th>Routine Eye Exam (Adult)</th>\n",
       "      <td>244.310054</td>\n",
       "    </tr>\n",
       "    <tr>\n",
       "      <th>Emergency Transportation/Ambulance</th>\n",
       "      <td>243.897078</td>\n",
       "    </tr>\n",
       "    <tr>\n",
       "      <th>Allergy Testing</th>\n",
       "      <td>243.644301</td>\n",
       "    </tr>\n",
       "    <tr>\n",
       "      <th>Nutritional Counseling</th>\n",
       "      <td>243.643575</td>\n",
       "    </tr>\n",
       "    <tr>\n",
       "      <th>Reconstructive Surgery</th>\n",
       "      <td>242.700508</td>\n",
       "    </tr>\n",
       "    <tr>\n",
       "      <th>Emergency Room Services</th>\n",
       "      <td>241.979691</td>\n",
       "    </tr>\n",
       "    <tr>\n",
       "      <th>Mental/Behavioral Health Outpatient Services</th>\n",
       "      <td>241.940762</td>\n",
       "    </tr>\n",
       "    <tr>\n",
       "      <th>Laboratory Outpatient and Professional Services</th>\n",
       "      <td>241.935318</td>\n",
       "    </tr>\n",
       "    <tr>\n",
       "      <th>Prosthetic Devices</th>\n",
       "      <td>238.997822</td>\n",
       "    </tr>\n",
       "    <tr>\n",
       "      <th>Non-Medically Necessary Orthodontia - Child</th>\n",
       "      <td>34.225000</td>\n",
       "    </tr>\n",
       "  </tbody>\n",
       "</table>\n",
       "<p>4528 rows × 1 columns</p>\n",
       "</div>"
      ],
      "text/plain": [
       "                                                                IndividualRate\n",
       "StateCode_x BenefitName                                                       \n",
       "WY          Inpatient Physician and Surgical Services             63340.903367\n",
       "            Laboratory Outpatient and Professional Services       61633.878325\n",
       "            Long-Term/Custodial Nursing Home Care                 60006.239425\n",
       "            Diabetes Care Management                              58231.432284\n",
       "            Infusion Therapy                                      58172.902234\n",
       "            Infertility Treatment                                 56639.059019\n",
       "            Hospice Services                                      56586.902792\n",
       "            Mental/Behavioral Health Outpatient Services          56570.999848\n",
       "            Imaging (CT/PET Scans, MRIs)                          56543.711658\n",
       "            Diabetes Education                                    56537.088951\n",
       "            Home Health Care Services                             54927.477800\n",
       "            Nutritional Counseling                                54906.960000\n",
       "            Chiropractic Care                                     54883.677631\n",
       "            Inpatient Hospital Services (e.g., Hospital Stay)     54883.139137\n",
       "            Hearing Aids                                          54881.815770\n",
       "            Chemotherapy                                          54871.691624\n",
       "            Preventive Care/Screening/Immunization                54870.669408\n",
       "            Preferred Brand Drugs                                 54867.790305\n",
       "            Cosmetic Surgery                                      54864.876701\n",
       "            Mental/Behavioral Health Inpatient Services           54863.296751\n",
       "            X-rays and Diagnostic Imaging                         54851.053993\n",
       "            Prenatal and Postnatal Care                           54850.081320\n",
       "            Delivery and All Inpatient Services for Materni...    54848.896142\n",
       "            Non-Preferred Brand Drugs                             54846.847597\n",
       "            Acupuncture                                           54833.215584\n",
       "            Non-Emergency Care When Traveling Outside the U.S.    54794.051844\n",
       "            Urgent Care Centers or Facilities                     53238.857107\n",
       "            Primary Care Visit to Treat an Injury or Illness      53220.188325\n",
       "            Specialist Visit                                      53208.818494\n",
       "            Routine Foot Care                                     53192.179475\n",
       "...                                                                        ...\n",
       "AK          Hospice Services                                        249.981488\n",
       "            Home Health Care Services                               249.646261\n",
       "            Infusion Therapy                                        249.350290\n",
       "            Preferred Brand Drugs                                   249.270508\n",
       "            Newborn Hearing Screening                               248.966624\n",
       "            Generic Drugs                                           248.337967\n",
       "            Dialysis                                                248.037387\n",
       "            Transplant                                              247.593430\n",
       "            Mental/Behavioral Health Inpatient Services             247.374356\n",
       "            Abortion for Which Public Funding is Prohibited         247.332541\n",
       "            Outpatient Surgery Physician/Surgical Services          247.207278\n",
       "            Diabetes Education                                      247.104247\n",
       "            Bariatric Surgery                                       246.910835\n",
       "            Cosmetic Surgery                                        246.672432\n",
       "            Other Practitioner Office Visit (Nurse, Physici...      246.592849\n",
       "            Acupuncture                                             246.388893\n",
       "            Outpatient Facility Fee (e.g.,  Ambulatory Surg...      246.053085\n",
       "            Inpatient Physician and Surgical Services               245.491688\n",
       "            Inpatient Hospital Services (e.g., Hospital Stay)       245.447169\n",
       "            Hearing Aids                                            244.318294\n",
       "            Routine Eye Exam (Adult)                                244.310054\n",
       "            Emergency Transportation/Ambulance                      243.897078\n",
       "            Allergy Testing                                         243.644301\n",
       "            Nutritional Counseling                                  243.643575\n",
       "            Reconstructive Surgery                                  242.700508\n",
       "            Emergency Room Services                                 241.979691\n",
       "            Mental/Behavioral Health Outpatient Services            241.940762\n",
       "            Laboratory Outpatient and Professional Services         241.935318\n",
       "            Prosthetic Devices                                      238.997822\n",
       "            Non-Medically Necessary Orthodontia - Child              34.225000\n",
       "\n",
       "[4528 rows x 1 columns]"
      ]
     },
     "execution_count": 721,
     "metadata": {},
     "output_type": "execute_result"
    }
   ],
   "source": [
    "season_linecount = result.groupby(['StateCode_x', 'BenefitName']).mean()[['IndividualRate']]\n",
    "scount = season_linecount.sort_values(by=['StateCode_x','IndividualRate'], ascending=False)\n",
    "scount"
   ]
  },
  {
   "cell_type": "code",
   "execution_count": 781,
   "metadata": {},
   "outputs": [
    {
     "data": {
      "text/plain": [
       "WI    512587\n",
       "TX    465164\n",
       "FL    364742\n",
       "OH    331045\n",
       "IL    320533\n",
       "Name: StateCode_x, dtype: int64"
      ]
     },
     "execution_count": 781,
     "metadata": {},
     "output_type": "execute_result"
    }
   ],
   "source": [
    "#How many people are insured in each state?\n",
    "result.StateCode_x.value_counts().head()"
   ]
  },
  {
   "cell_type": "code",
   "execution_count": 784,
   "metadata": {},
   "outputs": [
    {
     "data": {
      "image/png": "[encoded data removed]",
      "text/plain": [
       "<Figure size 432x288 with 1 Axes>"
      ]
     },
     "metadata": {},
     "output_type": "display_data"
    }
   ],
   "source": [
    "ax=result.StateCode_x.value_counts().head().plot(kind='pie')\n",
    "ax.set_title('Top 5 Most Insured states', fontsize=14, y=1.01);"
   ]
  },
  {
   "cell_type": "code",
   "execution_count": 683,
   "metadata": {},
   "outputs": [
    {
     "data": {
      "text/plain": [
       "WV    32638\n",
       "DE    31370\n",
       "AL    28417\n",
       "ID    27313\n",
       "HI     6741\n",
       "Name: StateCode_x, dtype: int64"
      ]
     },
     "execution_count": 683,
     "metadata": {},
     "output_type": "execute_result"
    }
   ],
   "source": [
    "result.StateCode_x.value_counts().tail()"
   ]
  },
  {
   "cell_type": "code",
   "execution_count": 785,
   "metadata": {},
   "outputs": [
    {
     "data": {
      "image/png": "[encoded data removed]",
      "text/plain": [
       "<Figure size 432x288 with 1 Axes>"
      ]
     },
     "metadata": {},
     "output_type": "display_data"
    }
   ],
   "source": [
    "ax=result.StateCode_x.value_counts().tail().plot(kind='pie')\n",
    "ax.set_title('Top 5 Least Insured states', fontsize=14, y=1.01);"
   ]
  },
  {
   "cell_type": "markdown",
   "metadata": {},
   "source": [
    "Average individual insurance rate for each state"
   ]
  },
  {
   "cell_type": "code",
   "execution_count": 614,
   "metadata": {},
   "outputs": [
    {
     "data": {
      "text/plain": [
       "StateCode_x\n",
       "AK       256.922905\n",
       "AL    101857.038916\n",
       "AR     18871.161688\n",
       "AZ     13329.144659\n",
       "DE     17373.433155\n",
       "Name: IndividualRate, dtype: float64"
      ]
     },
     "execution_count": 614,
     "metadata": {},
     "output_type": "execute_result"
    }
   ],
   "source": [
    "result.groupby('StateCode_x')['IndividualRate'].mean().head()"
   ]
  },
  {
   "cell_type": "code",
   "execution_count": 779,
   "metadata": {},
   "outputs": [
    {
     "data": {
      "image/png": "[encoded data removed]",
      "text/plain": [
       "<Figure size 1008x432 with 1 Axes>"
      ]
     },
     "metadata": {
      "needs_background": "light"
     },
     "output_type": "display_data"
    }
   ],
   "source": [
    "ax=result.groupby('StateCode_x')['IndividualRate'].mean().plot(kind='bar', figsize=(14,6));\n",
    "ax.set_title('Average cost of Insurance by state', fontsize=14, y=1.01);\n",
    "ax.set_ylabel('Average Cost', fontsize=11);"
   ]
  },
  {
   "cell_type": "markdown",
   "metadata": {},
   "source": [
    "The count of each benefit plan insured"
   ]
  },
  {
   "cell_type": "code",
   "execution_count": 22,
   "metadata": {},
   "outputs": [
    {
     "data": {
      "text/plain": [
       "BenefitName\n",
       "Orthodontia - Adult                                77377\n",
       "Major Dental Care - Child                          77353\n",
       "Basic Dental Care - Child                          77353\n",
       "Accidental Dental                                  77353\n",
       "Basic Dental Care - Adult                          77353\n",
       "Dental Check-Up for Children                       77353\n",
       "Major Dental Care - Adult                          77353\n",
       "Routine Dental Services (Adult)                    77353\n",
       "Orthodontia - Child                                77345\n",
       "Treatment for Temporomandibular Joint Disorders    65724\n",
       "Name: IndividualRate, dtype: int64"
      ]
     },
     "execution_count": 22,
     "metadata": {},
     "output_type": "execute_result"
    }
   ],
   "source": [
    "result.groupby('BenefitName')['IndividualRate'].count().sort_values(ascending=False).head(10)"
   ]
  },
  {
   "cell_type": "markdown",
   "metadata": {},
   "source": [
    "Most/least expensive benefit plans"
   ]
  },
  {
   "cell_type": "code",
   "execution_count": 681,
   "metadata": {},
   "outputs": [
    {
     "data": {
      "text/plain": [
       "BenefitName\n",
       "Outpatient Rehabiliation Services - Cognitive rehabilitation therapy       999999.0000\n",
       "Outpatient Rehabiliation Services - Post-cochlear implant aural therapy    999999.0000\n",
       "Telehealth / Telemedicine                                                  999999.0000\n",
       "Autism Spectrum Disorders - Age 19 & Above                                 999999.0000\n",
       "Adult Routine Retinal Screening                                            999999.0000\n",
       "Home Health Care Services - Days 46-60                                     999999.0000\n",
       "Adult Contact Lenses Fitting Evaluation                                    999999.0000\n",
       "Outpatient Rehabilitation Services - Cognitive rehabiliation therapy       999999.0000\n",
       "Biofeedback for treatment of medical diagnosis                             937501.0025\n",
       "Adult Eyeglass Lenses                                                      933334.4620\n",
       "Name: IndividualRate, dtype: float64"
      ]
     },
     "execution_count": 681,
     "metadata": {},
     "output_type": "execute_result"
    }
   ],
   "source": [
    "result.groupby('BenefitName')['IndividualRate'].mean().sort_values(ascending=False).head(10)"
   ]
  },
  {
   "cell_type": "code",
   "execution_count": 682,
   "metadata": {},
   "outputs": [
    {
     "data": {
      "text/plain": [
       "BenefitName\n",
       "Cast metal, stainless steel, porcelain/ceramic, all ceramic and resinbased composite onlay, or crown    11.538750\n",
       "Non-Medically Necessary Orthodontia- Child                                                              10.990000\n",
       "House Calls                                                                                              9.846154\n",
       "Specialty Laboratory Services                                                                            9.269744\n",
       "Testing Services                                                                                         9.058974\n",
       "Active & Fit                                                                                             8.944615\n",
       "Posterior Composite Fillings - Adults                                                                    0.000000\n",
       "Implants - Child                                                                                         0.000000\n",
       "Implants - Adults                                                                                        0.000000\n",
       "Periraducular Surgical Procedures                                                                        0.000000\n",
       "Name: IndividualRate, dtype: float64"
      ]
     },
     "execution_count": 682,
     "metadata": {},
     "output_type": "execute_result"
    }
   ],
   "source": [
    "result.groupby('BenefitName')['IndividualRate'].mean().sort_values(ascending=False).tail(10)"
   ]
  },
  {
   "cell_type": "code",
   "execution_count": 25,
   "metadata": {},
   "outputs": [
    {
     "data": {
      "text/html": [
       "<div>\n",
       "<style scoped>\n",
       "    .dataframe tbody tr th:only-of-type {\n",
       "        vertical-align: middle;\n",
       "    }\n",
       "\n",
       "    .dataframe tbody tr th {\n",
       "        vertical-align: top;\n",
       "    }\n",
       "\n",
       "    .dataframe thead th {\n",
       "        text-align: right;\n",
       "    }\n",
       "</style>\n",
       "<table border=\"1\" class=\"dataframe\">\n",
       "  <thead>\n",
       "    <tr style=\"text-align: right;\">\n",
       "      <th></th>\n",
       "      <th>count</th>\n",
       "      <th>mean</th>\n",
       "    </tr>\n",
       "    <tr>\n",
       "      <th>BenefitName</th>\n",
       "      <th></th>\n",
       "      <th></th>\n",
       "    </tr>\n",
       "  </thead>\n",
       "  <tbody>\n",
       "    <tr>\n",
       "      <th>Orthodontia - Adult</th>\n",
       "      <td>77377</td>\n",
       "      <td>9374.218915</td>\n",
       "    </tr>\n",
       "    <tr>\n",
       "      <th>Dental Check-Up for Children</th>\n",
       "      <td>77353</td>\n",
       "      <td>9416.079088</td>\n",
       "    </tr>\n",
       "    <tr>\n",
       "      <th>Basic Dental Care - Child</th>\n",
       "      <td>77353</td>\n",
       "      <td>9338.453462</td>\n",
       "    </tr>\n",
       "    <tr>\n",
       "      <th>Basic Dental Care - Adult</th>\n",
       "      <td>77353</td>\n",
       "      <td>9428.815160</td>\n",
       "    </tr>\n",
       "    <tr>\n",
       "      <th>Accidental Dental</th>\n",
       "      <td>77353</td>\n",
       "      <td>9389.487990</td>\n",
       "    </tr>\n",
       "    <tr>\n",
       "      <th>Major Dental Care - Child</th>\n",
       "      <td>77353</td>\n",
       "      <td>9492.792737</td>\n",
       "    </tr>\n",
       "    <tr>\n",
       "      <th>Routine Dental Services (Adult)</th>\n",
       "      <td>77353</td>\n",
       "      <td>9426.810067</td>\n",
       "    </tr>\n",
       "    <tr>\n",
       "      <th>Major Dental Care - Adult</th>\n",
       "      <td>77353</td>\n",
       "      <td>9530.892382</td>\n",
       "    </tr>\n",
       "    <tr>\n",
       "      <th>Orthodontia - Child</th>\n",
       "      <td>77345</td>\n",
       "      <td>9287.508466</td>\n",
       "    </tr>\n",
       "    <tr>\n",
       "      <th>Treatment for Temporomandibular Joint Disorders</th>\n",
       "      <td>65724</td>\n",
       "      <td>9641.057703</td>\n",
       "    </tr>\n",
       "  </tbody>\n",
       "</table>\n",
       "</div>"
      ],
      "text/plain": [
       "                                                 count         mean\n",
       "BenefitName                                                        \n",
       "Orthodontia - Adult                              77377  9374.218915\n",
       "Dental Check-Up for Children                     77353  9416.079088\n",
       "Basic Dental Care - Child                        77353  9338.453462\n",
       "Basic Dental Care - Adult                        77353  9428.815160\n",
       "Accidental Dental                                77353  9389.487990\n",
       "Major Dental Care - Child                        77353  9492.792737\n",
       "Routine Dental Services (Adult)                  77353  9426.810067\n",
       "Major Dental Care - Adult                        77353  9530.892382\n",
       "Orthodontia - Child                              77345  9287.508466\n",
       "Treatment for Temporomandibular Joint Disorders  65724  9641.057703"
      ]
     },
     "execution_count": 25,
     "metadata": {},
     "output_type": "execute_result"
    }
   ],
   "source": [
    "result.groupby('BenefitName')['IndividualRate'].agg(['count', 'mean']).sort_values(by='count', ascending=False).head(10)\n"
   ]
  },
  {
   "cell_type": "markdown",
   "metadata": {},
   "source": [
    "How many people are insured each year?"
   ]
  },
  {
   "cell_type": "code",
   "execution_count": 684,
   "metadata": {},
   "outputs": [
    {
     "data": {
      "text/plain": [
       "2015    2079286\n",
       "2016    1804253\n",
       "2014    1164869\n",
       "Name: BusinessYear_x, dtype: int64"
      ]
     },
     "execution_count": 684,
     "metadata": {},
     "output_type": "execute_result"
    }
   ],
   "source": [
    "result.BusinessYear_x.value_counts()"
   ]
  },
  {
   "cell_type": "code",
   "execution_count": 786,
   "metadata": {},
   "outputs": [
    {
     "data": {
      "image/png": "[encoded data removed]",
      "text/plain": [
       "<Figure size 432x288 with 1 Axes>"
      ]
     },
     "metadata": {
      "needs_background": "light"
     },
     "output_type": "display_data"
    }
   ],
   "source": [
    "# The number of people insured by year\n",
    "ax=result.BusinessYear_x.value_counts().sort_index().plot();\n",
    "ax.set_title('Number insured each year', fontsize=14, y=1.01);\n",
    "ax.set_ylabel('Number insured', fontsize=11);"
   ]
  },
  {
   "cell_type": "markdown",
   "metadata": {},
   "source": [
    "How many people are insured by age group?"
   ]
  },
  {
   "cell_type": "code",
   "execution_count": 672,
   "metadata": {},
   "outputs": [
    {
     "data": {
      "text/plain": [
       "0-20    109838\n",
       "21      109432\n",
       "22      109432\n",
       "23      109432\n",
       "24      109432\n",
       "Name: Age, dtype: int64"
      ]
     },
     "execution_count": 672,
     "metadata": {},
     "output_type": "execute_result"
    }
   ],
   "source": [
    "result.Age.value_counts().sort_index().head()"
   ]
  },
  {
   "cell_type": "code",
   "execution_count": 31,
   "metadata": {},
   "outputs": [
    {
     "data": {
      "image/png": "[encoded data removed]",
      "text/plain": [
       "<Figure size 432x288 with 1 Axes>"
      ]
     },
     "metadata": {
      "needs_background": "light"
     },
     "output_type": "display_data"
    }
   ],
   "source": [
    "result.Age.value_counts().sort_index().plot();"
   ]
  },
  {
   "cell_type": "markdown",
   "metadata": {},
   "source": [
    "Eliminate non numeric values"
   ]
  },
  {
   "cell_type": "code",
   "execution_count": 674,
   "metadata": {},
   "outputs": [],
   "source": [
    "age=result[result.Age.apply(lambda x: x.isnumeric())]"
   ]
  },
  {
   "cell_type": "code",
   "execution_count": 680,
   "metadata": {},
   "outputs": [
    {
     "data": {
      "image/png": "[encoded data removed]",
      "text/plain": [
       "<Figure size 432x288 with 1 Axes>"
      ]
     },
     "metadata": {
      "needs_background": "light"
     },
     "output_type": "display_data"
    }
   ],
   "source": [
    "age.Age.value_counts().sort_index().plot();"
   ]
  },
  {
   "cell_type": "markdown",
   "metadata": {},
   "source": [
    "Dental Plan seems to be the most insured plan, so from this point onwards, all analyses will be done for just the dental plans."
   ]
  },
  {
   "cell_type": "code",
   "execution_count": 576,
   "metadata": {},
   "outputs": [],
   "source": [
    "O=result[(result['BenefitName'] == 'Orthodontia - Adult') | (result['BenefitName'] == 'Basic Dental Care - Child') | (result['BenefitName'] == 'Routine Dental Services (Adult)')| (result['BenefitName'] == 'Basic Dental Care - Adult')| (result['BenefitName'] == 'Major Dental Care - Adult')| (result['BenefitName'] == 'Major Dental Care - Child')]"
   ]
  },
  {
   "cell_type": "code",
   "execution_count": 580,
   "metadata": {},
   "outputs": [
    {
     "data": {
      "image/png": "[encoded data removed]",
      "text/plain": [
       "<Figure size 1152x576 with 1 Axes>"
      ]
     },
     "metadata": {
      "needs_background": "light"
     },
     "output_type": "display_data"
    }
   ],
   "source": [
    "O.groupby('StateCode_x')['IndividualRate','Couple','PrimarySubscriberAndOneDependent','CoupleAndOneDependent'].mean().plot(kind='bar', figsize=(16,8));"
   ]
  },
  {
   "cell_type": "code",
   "execution_count": 787,
   "metadata": {},
   "outputs": [
    {
     "data": {
      "image/png": "[encoded data removed]",
      "text/plain": [
       "<Figure size 432x288 with 1 Axes>"
      ]
     },
     "metadata": {
      "needs_background": "light"
     },
     "output_type": "display_data"
    }
   ],
   "source": [
    "ax=O.Age.value_counts().sort_index().plot();\n",
    "ax.set_title('Number insured by Age', fontsize=14, y=1.01);\n",
    "ax.set_ylabel('Number insured', fontsize=11);\n",
    "ax.set_xlabel('Age', fontsize=11);"
   ]
  },
  {
   "cell_type": "code",
   "execution_count": 33,
   "metadata": {},
   "outputs": [],
   "source": [
    "from sklearn.linear_model import LinearRegression"
   ]
  },
  {
   "cell_type": "code",
   "execution_count": 584,
   "metadata": {},
   "outputs": [
    {
     "data": {
      "text/html": [
       "<div>\n",
       "<style scoped>\n",
       "    .dataframe tbody tr th:only-of-type {\n",
       "        vertical-align: middle;\n",
       "    }\n",
       "\n",
       "    .dataframe tbody tr th {\n",
       "        vertical-align: top;\n",
       "    }\n",
       "\n",
       "    .dataframe thead th {\n",
       "        text-align: right;\n",
       "    }\n",
       "</style>\n",
       "<table border=\"1\" class=\"dataframe\">\n",
       "  <thead>\n",
       "    <tr style=\"text-align: right;\">\n",
       "      <th></th>\n",
       "      <th>BusinessYear_x</th>\n",
       "      <th>IssuerId_x</th>\n",
       "      <th>IssuerId2_x</th>\n",
       "      <th>LimitQty</th>\n",
       "      <th>MinimumStay</th>\n",
       "      <th>RowNumber_x</th>\n",
       "      <th>VersionNum_x</th>\n",
       "      <th>BusinessYear_y</th>\n",
       "      <th>IssuerId_y</th>\n",
       "      <th>VersionNum_y</th>\n",
       "      <th>...</th>\n",
       "      <th>IndividualRate</th>\n",
       "      <th>IndividualTobaccoRate</th>\n",
       "      <th>Couple</th>\n",
       "      <th>PrimarySubscriberAndOneDependent</th>\n",
       "      <th>PrimarySubscriberAndTwoDependents</th>\n",
       "      <th>PrimarySubscriberAndThreeOrMoreDependents</th>\n",
       "      <th>CoupleAndOneDependent</th>\n",
       "      <th>CoupleAndTwoDependents</th>\n",
       "      <th>CoupleAndThreeOrMoreDependents</th>\n",
       "      <th>RowNumber_y</th>\n",
       "    </tr>\n",
       "  </thead>\n",
       "  <tbody>\n",
       "    <tr>\n",
       "      <th>BusinessYear_x</th>\n",
       "      <td>1.000000</td>\n",
       "      <td>-0.071798</td>\n",
       "      <td>-0.071798</td>\n",
       "      <td>0.046684</td>\n",
       "      <td>NaN</td>\n",
       "      <td>0.000023</td>\n",
       "      <td>0.075689</td>\n",
       "      <td>0.656390</td>\n",
       "      <td>0.029642</td>\n",
       "      <td>-0.063450</td>\n",
       "      <td>...</td>\n",
       "      <td>-0.020931</td>\n",
       "      <td>-0.051571</td>\n",
       "      <td>-0.054203</td>\n",
       "      <td>-0.034533</td>\n",
       "      <td>-0.039961</td>\n",
       "      <td>-0.089715</td>\n",
       "      <td>-0.040393</td>\n",
       "      <td>-0.077001</td>\n",
       "      <td>-0.106127</td>\n",
       "      <td>-0.215924</td>\n",
       "    </tr>\n",
       "    <tr>\n",
       "      <th>IssuerId_x</th>\n",
       "      <td>-0.071798</td>\n",
       "      <td>1.000000</td>\n",
       "      <td>1.000000</td>\n",
       "      <td>0.070041</td>\n",
       "      <td>NaN</td>\n",
       "      <td>0.000072</td>\n",
       "      <td>-0.015169</td>\n",
       "      <td>-0.063826</td>\n",
       "      <td>-0.046047</td>\n",
       "      <td>-0.056846</td>\n",
       "      <td>...</td>\n",
       "      <td>0.025578</td>\n",
       "      <td>-0.011137</td>\n",
       "      <td>0.119474</td>\n",
       "      <td>0.112470</td>\n",
       "      <td>0.145947</td>\n",
       "      <td>0.171518</td>\n",
       "      <td>0.128841</td>\n",
       "      <td>0.150389</td>\n",
       "      <td>0.170239</td>\n",
       "      <td>-0.040264</td>\n",
       "    </tr>\n",
       "    <tr>\n",
       "      <th>IssuerId2_x</th>\n",
       "      <td>-0.071798</td>\n",
       "      <td>1.000000</td>\n",
       "      <td>1.000000</td>\n",
       "      <td>0.070041</td>\n",
       "      <td>NaN</td>\n",
       "      <td>0.000072</td>\n",
       "      <td>-0.015169</td>\n",
       "      <td>-0.063826</td>\n",
       "      <td>-0.046047</td>\n",
       "      <td>-0.056846</td>\n",
       "      <td>...</td>\n",
       "      <td>0.025578</td>\n",
       "      <td>-0.011137</td>\n",
       "      <td>0.119474</td>\n",
       "      <td>0.112470</td>\n",
       "      <td>0.145947</td>\n",
       "      <td>0.171518</td>\n",
       "      <td>0.128841</td>\n",
       "      <td>0.150389</td>\n",
       "      <td>0.170239</td>\n",
       "      <td>-0.040264</td>\n",
       "    </tr>\n",
       "    <tr>\n",
       "      <th>LimitQty</th>\n",
       "      <td>0.046684</td>\n",
       "      <td>0.070041</td>\n",
       "      <td>0.070041</td>\n",
       "      <td>1.000000</td>\n",
       "      <td>NaN</td>\n",
       "      <td>0.135558</td>\n",
       "      <td>0.064070</td>\n",
       "      <td>0.001406</td>\n",
       "      <td>-0.058331</td>\n",
       "      <td>0.018063</td>\n",
       "      <td>...</td>\n",
       "      <td>-0.058557</td>\n",
       "      <td>-0.073911</td>\n",
       "      <td>0.149628</td>\n",
       "      <td>0.397366</td>\n",
       "      <td>0.135593</td>\n",
       "      <td>-0.021644</td>\n",
       "      <td>0.315101</td>\n",
       "      <td>0.140771</td>\n",
       "      <td>0.013259</td>\n",
       "      <td>-0.071019</td>\n",
       "    </tr>\n",
       "    <tr>\n",
       "      <th>MinimumStay</th>\n",
       "      <td>NaN</td>\n",
       "      <td>NaN</td>\n",
       "      <td>NaN</td>\n",
       "      <td>NaN</td>\n",
       "      <td>NaN</td>\n",
       "      <td>NaN</td>\n",
       "      <td>NaN</td>\n",
       "      <td>NaN</td>\n",
       "      <td>NaN</td>\n",
       "      <td>NaN</td>\n",
       "      <td>...</td>\n",
       "      <td>NaN</td>\n",
       "      <td>NaN</td>\n",
       "      <td>NaN</td>\n",
       "      <td>NaN</td>\n",
       "      <td>NaN</td>\n",
       "      <td>NaN</td>\n",
       "      <td>NaN</td>\n",
       "      <td>NaN</td>\n",
       "      <td>NaN</td>\n",
       "      <td>NaN</td>\n",
       "    </tr>\n",
       "    <tr>\n",
       "      <th>RowNumber_x</th>\n",
       "      <td>0.000023</td>\n",
       "      <td>0.000072</td>\n",
       "      <td>0.000072</td>\n",
       "      <td>0.135558</td>\n",
       "      <td>NaN</td>\n",
       "      <td>1.000000</td>\n",
       "      <td>0.000013</td>\n",
       "      <td>0.000036</td>\n",
       "      <td>0.000056</td>\n",
       "      <td>-0.000081</td>\n",
       "      <td>...</td>\n",
       "      <td>0.000060</td>\n",
       "      <td>0.002172</td>\n",
       "      <td>0.014148</td>\n",
       "      <td>0.023092</td>\n",
       "      <td>0.019839</td>\n",
       "      <td>0.013213</td>\n",
       "      <td>0.022456</td>\n",
       "      <td>0.018543</td>\n",
       "      <td>0.013311</td>\n",
       "      <td>0.000198</td>\n",
       "    </tr>\n",
       "    <tr>\n",
       "      <th>VersionNum_x</th>\n",
       "      <td>0.075689</td>\n",
       "      <td>-0.015169</td>\n",
       "      <td>-0.015169</td>\n",
       "      <td>0.064070</td>\n",
       "      <td>NaN</td>\n",
       "      <td>0.000013</td>\n",
       "      <td>1.000000</td>\n",
       "      <td>0.079796</td>\n",
       "      <td>0.076819</td>\n",
       "      <td>-0.026332</td>\n",
       "      <td>...</td>\n",
       "      <td>0.012327</td>\n",
       "      <td>-0.066138</td>\n",
       "      <td>0.198706</td>\n",
       "      <td>0.217262</td>\n",
       "      <td>0.260683</td>\n",
       "      <td>0.259078</td>\n",
       "      <td>0.224136</td>\n",
       "      <td>0.237018</td>\n",
       "      <td>0.239489</td>\n",
       "      <td>-0.043861</td>\n",
       "    </tr>\n",
       "    <tr>\n",
       "      <th>BusinessYear_y</th>\n",
       "      <td>0.656390</td>\n",
       "      <td>-0.063826</td>\n",
       "      <td>-0.063826</td>\n",
       "      <td>0.001406</td>\n",
       "      <td>NaN</td>\n",
       "      <td>0.000036</td>\n",
       "      <td>0.079796</td>\n",
       "      <td>1.000000</td>\n",
       "      <td>0.047854</td>\n",
       "      <td>0.013347</td>\n",
       "      <td>...</td>\n",
       "      <td>-0.054224</td>\n",
       "      <td>-0.024191</td>\n",
       "      <td>-0.075313</td>\n",
       "      <td>-0.062856</td>\n",
       "      <td>-0.027566</td>\n",
       "      <td>-0.077520</td>\n",
       "      <td>-0.052352</td>\n",
       "      <td>-0.077079</td>\n",
       "      <td>-0.102983</td>\n",
       "      <td>-0.034605</td>\n",
       "    </tr>\n",
       "    <tr>\n",
       "      <th>IssuerId_y</th>\n",
       "      <td>0.029642</td>\n",
       "      <td>-0.046047</td>\n",
       "      <td>-0.046047</td>\n",
       "      <td>-0.058331</td>\n",
       "      <td>NaN</td>\n",
       "      <td>0.000056</td>\n",
       "      <td>0.076819</td>\n",
       "      <td>0.047854</td>\n",
       "      <td>1.000000</td>\n",
       "      <td>-0.025775</td>\n",
       "      <td>...</td>\n",
       "      <td>0.034547</td>\n",
       "      <td>0.024734</td>\n",
       "      <td>0.116503</td>\n",
       "      <td>0.100246</td>\n",
       "      <td>0.137144</td>\n",
       "      <td>0.152251</td>\n",
       "      <td>0.116784</td>\n",
       "      <td>0.143701</td>\n",
       "      <td>0.152786</td>\n",
       "      <td>-0.091208</td>\n",
       "    </tr>\n",
       "    <tr>\n",
       "      <th>VersionNum_y</th>\n",
       "      <td>-0.063450</td>\n",
       "      <td>-0.056846</td>\n",
       "      <td>-0.056846</td>\n",
       "      <td>0.018063</td>\n",
       "      <td>NaN</td>\n",
       "      <td>-0.000081</td>\n",
       "      <td>-0.026332</td>\n",
       "      <td>0.013347</td>\n",
       "      <td>-0.025775</td>\n",
       "      <td>1.000000</td>\n",
       "      <td>...</td>\n",
       "      <td>0.017416</td>\n",
       "      <td>0.055921</td>\n",
       "      <td>0.193649</td>\n",
       "      <td>0.161318</td>\n",
       "      <td>0.161143</td>\n",
       "      <td>0.186947</td>\n",
       "      <td>0.171898</td>\n",
       "      <td>0.182102</td>\n",
       "      <td>0.196511</td>\n",
       "      <td>0.005735</td>\n",
       "    </tr>\n",
       "    <tr>\n",
       "      <th>IssuerId2_y</th>\n",
       "      <td>0.029642</td>\n",
       "      <td>-0.046047</td>\n",
       "      <td>-0.046047</td>\n",
       "      <td>-0.058331</td>\n",
       "      <td>NaN</td>\n",
       "      <td>0.000056</td>\n",
       "      <td>0.076819</td>\n",
       "      <td>0.047854</td>\n",
       "      <td>1.000000</td>\n",
       "      <td>-0.025775</td>\n",
       "      <td>...</td>\n",
       "      <td>0.034547</td>\n",
       "      <td>0.024734</td>\n",
       "      <td>0.116503</td>\n",
       "      <td>0.100246</td>\n",
       "      <td>0.137144</td>\n",
       "      <td>0.152251</td>\n",
       "      <td>0.116784</td>\n",
       "      <td>0.143701</td>\n",
       "      <td>0.152786</td>\n",
       "      <td>-0.091208</td>\n",
       "    </tr>\n",
       "    <tr>\n",
       "      <th>IndividualRate</th>\n",
       "      <td>-0.020931</td>\n",
       "      <td>0.025578</td>\n",
       "      <td>0.025578</td>\n",
       "      <td>-0.058557</td>\n",
       "      <td>NaN</td>\n",
       "      <td>0.000060</td>\n",
       "      <td>0.012327</td>\n",
       "      <td>-0.054224</td>\n",
       "      <td>0.034547</td>\n",
       "      <td>0.017416</td>\n",
       "      <td>...</td>\n",
       "      <td>1.000000</td>\n",
       "      <td>0.971768</td>\n",
       "      <td>0.708993</td>\n",
       "      <td>0.633735</td>\n",
       "      <td>0.592832</td>\n",
       "      <td>0.541325</td>\n",
       "      <td>0.600836</td>\n",
       "      <td>0.580207</td>\n",
       "      <td>0.538360</td>\n",
       "      <td>-0.061935</td>\n",
       "    </tr>\n",
       "    <tr>\n",
       "      <th>IndividualTobaccoRate</th>\n",
       "      <td>-0.051571</td>\n",
       "      <td>-0.011137</td>\n",
       "      <td>-0.011137</td>\n",
       "      <td>-0.073911</td>\n",
       "      <td>NaN</td>\n",
       "      <td>0.002172</td>\n",
       "      <td>-0.066138</td>\n",
       "      <td>-0.024191</td>\n",
       "      <td>0.024734</td>\n",
       "      <td>0.055921</td>\n",
       "      <td>...</td>\n",
       "      <td>0.971768</td>\n",
       "      <td>1.000000</td>\n",
       "      <td>NaN</td>\n",
       "      <td>NaN</td>\n",
       "      <td>NaN</td>\n",
       "      <td>NaN</td>\n",
       "      <td>NaN</td>\n",
       "      <td>NaN</td>\n",
       "      <td>NaN</td>\n",
       "      <td>0.029781</td>\n",
       "    </tr>\n",
       "    <tr>\n",
       "      <th>Couple</th>\n",
       "      <td>-0.054203</td>\n",
       "      <td>0.119474</td>\n",
       "      <td>0.119474</td>\n",
       "      <td>0.149628</td>\n",
       "      <td>NaN</td>\n",
       "      <td>0.014148</td>\n",
       "      <td>0.198706</td>\n",
       "      <td>-0.075313</td>\n",
       "      <td>0.116503</td>\n",
       "      <td>0.193649</td>\n",
       "      <td>...</td>\n",
       "      <td>0.708993</td>\n",
       "      <td>NaN</td>\n",
       "      <td>1.000000</td>\n",
       "      <td>0.963624</td>\n",
       "      <td>0.958104</td>\n",
       "      <td>0.921955</td>\n",
       "      <td>0.963548</td>\n",
       "      <td>0.961713</td>\n",
       "      <td>0.926122</td>\n",
       "      <td>-0.207744</td>\n",
       "    </tr>\n",
       "    <tr>\n",
       "      <th>PrimarySubscriberAndOneDependent</th>\n",
       "      <td>-0.034533</td>\n",
       "      <td>0.112470</td>\n",
       "      <td>0.112470</td>\n",
       "      <td>0.397366</td>\n",
       "      <td>NaN</td>\n",
       "      <td>0.023092</td>\n",
       "      <td>0.217262</td>\n",
       "      <td>-0.062856</td>\n",
       "      <td>0.100246</td>\n",
       "      <td>0.161318</td>\n",
       "      <td>...</td>\n",
       "      <td>0.633735</td>\n",
       "      <td>NaN</td>\n",
       "      <td>0.963624</td>\n",
       "      <td>1.000000</td>\n",
       "      <td>0.961201</td>\n",
       "      <td>0.899921</td>\n",
       "      <td>0.986901</td>\n",
       "      <td>0.955814</td>\n",
       "      <td>0.902685</td>\n",
       "      <td>-0.163911</td>\n",
       "    </tr>\n",
       "    <tr>\n",
       "      <th>PrimarySubscriberAndTwoDependents</th>\n",
       "      <td>-0.039961</td>\n",
       "      <td>0.145947</td>\n",
       "      <td>0.145947</td>\n",
       "      <td>0.135593</td>\n",
       "      <td>NaN</td>\n",
       "      <td>0.019839</td>\n",
       "      <td>0.260683</td>\n",
       "      <td>-0.027566</td>\n",
       "      <td>0.137144</td>\n",
       "      <td>0.161143</td>\n",
       "      <td>...</td>\n",
       "      <td>0.592832</td>\n",
       "      <td>NaN</td>\n",
       "      <td>0.958104</td>\n",
       "      <td>0.961201</td>\n",
       "      <td>1.000000</td>\n",
       "      <td>0.970444</td>\n",
       "      <td>0.975293</td>\n",
       "      <td>0.982912</td>\n",
       "      <td>0.957454</td>\n",
       "      <td>-0.147484</td>\n",
       "    </tr>\n",
       "    <tr>\n",
       "      <th>PrimarySubscriberAndThreeOrMoreDependents</th>\n",
       "      <td>-0.089715</td>\n",
       "      <td>0.171518</td>\n",
       "      <td>0.171518</td>\n",
       "      <td>-0.021644</td>\n",
       "      <td>NaN</td>\n",
       "      <td>0.013213</td>\n",
       "      <td>0.259078</td>\n",
       "      <td>-0.077520</td>\n",
       "      <td>0.152251</td>\n",
       "      <td>0.186947</td>\n",
       "      <td>...</td>\n",
       "      <td>0.541325</td>\n",
       "      <td>NaN</td>\n",
       "      <td>0.921955</td>\n",
       "      <td>0.899921</td>\n",
       "      <td>0.970444</td>\n",
       "      <td>1.000000</td>\n",
       "      <td>0.922043</td>\n",
       "      <td>0.976778</td>\n",
       "      <td>0.992494</td>\n",
       "      <td>-0.137551</td>\n",
       "    </tr>\n",
       "    <tr>\n",
       "      <th>CoupleAndOneDependent</th>\n",
       "      <td>-0.040393</td>\n",
       "      <td>0.128841</td>\n",
       "      <td>0.128841</td>\n",
       "      <td>0.315101</td>\n",
       "      <td>NaN</td>\n",
       "      <td>0.022456</td>\n",
       "      <td>0.224136</td>\n",
       "      <td>-0.052352</td>\n",
       "      <td>0.116784</td>\n",
       "      <td>0.171898</td>\n",
       "      <td>...</td>\n",
       "      <td>0.600836</td>\n",
       "      <td>NaN</td>\n",
       "      <td>0.963548</td>\n",
       "      <td>0.986901</td>\n",
       "      <td>0.975293</td>\n",
       "      <td>0.922043</td>\n",
       "      <td>1.000000</td>\n",
       "      <td>0.976409</td>\n",
       "      <td>0.928010</td>\n",
       "      <td>-0.147790</td>\n",
       "    </tr>\n",
       "    <tr>\n",
       "      <th>CoupleAndTwoDependents</th>\n",
       "      <td>-0.077001</td>\n",
       "      <td>0.150389</td>\n",
       "      <td>0.150389</td>\n",
       "      <td>0.140771</td>\n",
       "      <td>NaN</td>\n",
       "      <td>0.018543</td>\n",
       "      <td>0.237018</td>\n",
       "      <td>-0.077079</td>\n",
       "      <td>0.143701</td>\n",
       "      <td>0.182102</td>\n",
       "      <td>...</td>\n",
       "      <td>0.580207</td>\n",
       "      <td>NaN</td>\n",
       "      <td>0.961713</td>\n",
       "      <td>0.955814</td>\n",
       "      <td>0.982912</td>\n",
       "      <td>0.976778</td>\n",
       "      <td>0.976409</td>\n",
       "      <td>1.000000</td>\n",
       "      <td>0.984873</td>\n",
       "      <td>-0.143256</td>\n",
       "    </tr>\n",
       "    <tr>\n",
       "      <th>CoupleAndThreeOrMoreDependents</th>\n",
       "      <td>-0.106127</td>\n",
       "      <td>0.170239</td>\n",
       "      <td>0.170239</td>\n",
       "      <td>0.013259</td>\n",
       "      <td>NaN</td>\n",
       "      <td>0.013311</td>\n",
       "      <td>0.239489</td>\n",
       "      <td>-0.102983</td>\n",
       "      <td>0.152786</td>\n",
       "      <td>0.196511</td>\n",
       "      <td>...</td>\n",
       "      <td>0.538360</td>\n",
       "      <td>NaN</td>\n",
       "      <td>0.926122</td>\n",
       "      <td>0.902685</td>\n",
       "      <td>0.957454</td>\n",
       "      <td>0.992494</td>\n",
       "      <td>0.928010</td>\n",
       "      <td>0.984873</td>\n",
       "      <td>1.000000</td>\n",
       "      <td>-0.135355</td>\n",
       "    </tr>\n",
       "    <tr>\n",
       "      <th>RowNumber_y</th>\n",
       "      <td>-0.215924</td>\n",
       "      <td>-0.040264</td>\n",
       "      <td>-0.040264</td>\n",
       "      <td>-0.071019</td>\n",
       "      <td>NaN</td>\n",
       "      <td>0.000198</td>\n",
       "      <td>-0.043861</td>\n",
       "      <td>-0.034605</td>\n",
       "      <td>-0.091208</td>\n",
       "      <td>0.005735</td>\n",
       "      <td>...</td>\n",
       "      <td>-0.061935</td>\n",
       "      <td>0.029781</td>\n",
       "      <td>-0.207744</td>\n",
       "      <td>-0.163911</td>\n",
       "      <td>-0.147484</td>\n",
       "      <td>-0.137551</td>\n",
       "      <td>-0.147790</td>\n",
       "      <td>-0.143256</td>\n",
       "      <td>-0.135355</td>\n",
       "      <td>1.000000</td>\n",
       "    </tr>\n",
       "  </tbody>\n",
       "</table>\n",
       "<p>21 rows × 21 columns</p>\n",
       "</div>"
      ],
      "text/plain": [
       "                                           BusinessYear_x  IssuerId_x  \\\n",
       "BusinessYear_x                                   1.000000   -0.071798   \n",
       "IssuerId_x                                      -0.071798    1.000000   \n",
       "IssuerId2_x                                     -0.071798    1.000000   \n",
       "LimitQty                                         0.046684    0.070041   \n",
       "MinimumStay                                           NaN         NaN   \n",
       "RowNumber_x                                      0.000023    0.000072   \n",
       "VersionNum_x                                     0.075689   -0.015169   \n",
       "BusinessYear_y                                   0.656390   -0.063826   \n",
       "IssuerId_y                                       0.029642   -0.046047   \n",
       "VersionNum_y                                    -0.063450   -0.056846   \n",
       "IssuerId2_y                                      0.029642   -0.046047   \n",
       "IndividualRate                                  -0.020931    0.025578   \n",
       "IndividualTobaccoRate                           -0.051571   -0.011137   \n",
       "Couple                                          -0.054203    0.119474   \n",
       "PrimarySubscriberAndOneDependent                -0.034533    0.112470   \n",
       "PrimarySubscriberAndTwoDependents               -0.039961    0.145947   \n",
       "PrimarySubscriberAndThreeOrMoreDependents       -0.089715    0.171518   \n",
       "CoupleAndOneDependent                           -0.040393    0.128841   \n",
       "CoupleAndTwoDependents                          -0.077001    0.150389   \n",
       "CoupleAndThreeOrMoreDependents                  -0.106127    0.170239   \n",
       "RowNumber_y                                     -0.215924   -0.040264   \n",
       "\n",
       "                                           IssuerId2_x  LimitQty  MinimumStay  \\\n",
       "BusinessYear_x                               -0.071798  0.046684          NaN   \n",
       "IssuerId_x                                    1.000000  0.070041          NaN   \n",
       "IssuerId2_x                                   1.000000  0.070041          NaN   \n",
       "LimitQty                                      0.070041  1.000000          NaN   \n",
       "MinimumStay                                        NaN       NaN          NaN   \n",
       "RowNumber_x                                   0.000072  0.135558          NaN   \n",
       "VersionNum_x                                 -0.015169  0.064070          NaN   \n",
       "BusinessYear_y                               -0.063826  0.001406          NaN   \n",
       "IssuerId_y                                   -0.046047 -0.058331          NaN   \n",
       "VersionNum_y                                 -0.056846  0.018063          NaN   \n",
       "IssuerId2_y                                  -0.046047 -0.058331          NaN   \n",
       "IndividualRate                                0.025578 -0.058557          NaN   \n",
       "IndividualTobaccoRate                        -0.011137 -0.073911          NaN   \n",
       "Couple                                        0.119474  0.149628          NaN   \n",
       "PrimarySubscriberAndOneDependent              0.112470  0.397366          NaN   \n",
       "PrimarySubscriberAndTwoDependents             0.145947  0.135593          NaN   \n",
       "PrimarySubscriberAndThreeOrMoreDependents     0.171518 -0.021644          NaN   \n",
       "CoupleAndOneDependent                         0.128841  0.315101          NaN   \n",
       "CoupleAndTwoDependents                        0.150389  0.140771          NaN   \n",
       "CoupleAndThreeOrMoreDependents                0.170239  0.013259          NaN   \n",
       "RowNumber_y                                  -0.040264 -0.071019          NaN   \n",
       "\n",
       "                                           RowNumber_x  VersionNum_x  \\\n",
       "BusinessYear_x                                0.000023      0.075689   \n",
       "IssuerId_x                                    0.000072     -0.015169   \n",
       "IssuerId2_x                                   0.000072     -0.015169   \n",
       "LimitQty                                      0.135558      0.064070   \n",
       "MinimumStay                                        NaN           NaN   \n",
       "RowNumber_x                                   1.000000      0.000013   \n",
       "VersionNum_x                                  0.000013      1.000000   \n",
       "BusinessYear_y                                0.000036      0.079796   \n",
       "IssuerId_y                                    0.000056      0.076819   \n",
       "VersionNum_y                                 -0.000081     -0.026332   \n",
       "IssuerId2_y                                   0.000056      0.076819   \n",
       "IndividualRate                                0.000060      0.012327   \n",
       "IndividualTobaccoRate                         0.002172     -0.066138   \n",
       "Couple                                        0.014148      0.198706   \n",
       "PrimarySubscriberAndOneDependent              0.023092      0.217262   \n",
       "PrimarySubscriberAndTwoDependents             0.019839      0.260683   \n",
       "PrimarySubscriberAndThreeOrMoreDependents     0.013213      0.259078   \n",
       "CoupleAndOneDependent                         0.022456      0.224136   \n",
       "CoupleAndTwoDependents                        0.018543      0.237018   \n",
       "CoupleAndThreeOrMoreDependents                0.013311      0.239489   \n",
       "RowNumber_y                                   0.000198     -0.043861   \n",
       "\n",
       "                                           BusinessYear_y  IssuerId_y  \\\n",
       "BusinessYear_x                                   0.656390    0.029642   \n",
       "IssuerId_x                                      -0.063826   -0.046047   \n",
       "IssuerId2_x                                     -0.063826   -0.046047   \n",
       "LimitQty                                         0.001406   -0.058331   \n",
       "MinimumStay                                           NaN         NaN   \n",
       "RowNumber_x                                      0.000036    0.000056   \n",
       "VersionNum_x                                     0.079796    0.076819   \n",
       "BusinessYear_y                                   1.000000    0.047854   \n",
       "IssuerId_y                                       0.047854    1.000000   \n",
       "VersionNum_y                                     0.013347   -0.025775   \n",
       "IssuerId2_y                                      0.047854    1.000000   \n",
       "IndividualRate                                  -0.054224    0.034547   \n",
       "IndividualTobaccoRate                           -0.024191    0.024734   \n",
       "Couple                                          -0.075313    0.116503   \n",
       "PrimarySubscriberAndOneDependent                -0.062856    0.100246   \n",
       "PrimarySubscriberAndTwoDependents               -0.027566    0.137144   \n",
       "PrimarySubscriberAndThreeOrMoreDependents       -0.077520    0.152251   \n",
       "CoupleAndOneDependent                           -0.052352    0.116784   \n",
       "CoupleAndTwoDependents                          -0.077079    0.143701   \n",
       "CoupleAndThreeOrMoreDependents                  -0.102983    0.152786   \n",
       "RowNumber_y                                     -0.034605   -0.091208   \n",
       "\n",
       "                                           VersionNum_y  ...  IndividualRate  \\\n",
       "BusinessYear_x                                -0.063450  ...       -0.020931   \n",
       "IssuerId_x                                    -0.056846  ...        0.025578   \n",
       "IssuerId2_x                                   -0.056846  ...        0.025578   \n",
       "LimitQty                                       0.018063  ...       -0.058557   \n",
       "MinimumStay                                         NaN  ...             NaN   \n",
       "RowNumber_x                                   -0.000081  ...        0.000060   \n",
       "VersionNum_x                                  -0.026332  ...        0.012327   \n",
       "BusinessYear_y                                 0.013347  ...       -0.054224   \n",
       "IssuerId_y                                    -0.025775  ...        0.034547   \n",
       "VersionNum_y                                   1.000000  ...        0.017416   \n",
       "IssuerId2_y                                   -0.025775  ...        0.034547   \n",
       "IndividualRate                                 0.017416  ...        1.000000   \n",
       "IndividualTobaccoRate                          0.055921  ...        0.971768   \n",
       "Couple                                         0.193649  ...        0.708993   \n",
       "PrimarySubscriberAndOneDependent               0.161318  ...        0.633735   \n",
       "PrimarySubscriberAndTwoDependents              0.161143  ...        0.592832   \n",
       "PrimarySubscriberAndThreeOrMoreDependents      0.186947  ...        0.541325   \n",
       "CoupleAndOneDependent                          0.171898  ...        0.600836   \n",
       "CoupleAndTwoDependents                         0.182102  ...        0.580207   \n",
       "CoupleAndThreeOrMoreDependents                 0.196511  ...        0.538360   \n",
       "RowNumber_y                                    0.005735  ...       -0.061935   \n",
       "\n",
       "                                           IndividualTobaccoRate    Couple  \\\n",
       "BusinessYear_x                                         -0.051571 -0.054203   \n",
       "IssuerId_x                                             -0.011137  0.119474   \n",
       "IssuerId2_x                                            -0.011137  0.119474   \n",
       "LimitQty                                               -0.073911  0.149628   \n",
       "MinimumStay                                                  NaN       NaN   \n",
       "RowNumber_x                                             0.002172  0.014148   \n",
       "VersionNum_x                                           -0.066138  0.198706   \n",
       "BusinessYear_y                                         -0.024191 -0.075313   \n",
       "IssuerId_y                                              0.024734  0.116503   \n",
       "VersionNum_y                                            0.055921  0.193649   \n",
       "IssuerId2_y                                             0.024734  0.116503   \n",
       "IndividualRate                                          0.971768  0.708993   \n",
       "IndividualTobaccoRate                                   1.000000       NaN   \n",
       "Couple                                                       NaN  1.000000   \n",
       "PrimarySubscriberAndOneDependent                             NaN  0.963624   \n",
       "PrimarySubscriberAndTwoDependents                            NaN  0.958104   \n",
       "PrimarySubscriberAndThreeOrMoreDependents                    NaN  0.921955   \n",
       "CoupleAndOneDependent                                        NaN  0.963548   \n",
       "CoupleAndTwoDependents                                       NaN  0.961713   \n",
       "CoupleAndThreeOrMoreDependents                               NaN  0.926122   \n",
       "RowNumber_y                                             0.029781 -0.207744   \n",
       "\n",
       "                                           PrimarySubscriberAndOneDependent  \\\n",
       "BusinessYear_x                                                    -0.034533   \n",
       "IssuerId_x                                                         0.112470   \n",
       "IssuerId2_x                                                        0.112470   \n",
       "LimitQty                                                           0.397366   \n",
       "MinimumStay                                                             NaN   \n",
       "RowNumber_x                                                        0.023092   \n",
       "VersionNum_x                                                       0.217262   \n",
       "BusinessYear_y                                                    -0.062856   \n",
       "IssuerId_y                                                         0.100246   \n",
       "VersionNum_y                                                       0.161318   \n",
       "IssuerId2_y                                                        0.100246   \n",
       "IndividualRate                                                     0.633735   \n",
       "IndividualTobaccoRate                                                   NaN   \n",
       "Couple                                                             0.963624   \n",
       "PrimarySubscriberAndOneDependent                                   1.000000   \n",
       "PrimarySubscriberAndTwoDependents                                  0.961201   \n",
       "PrimarySubscriberAndThreeOrMoreDependents                          0.899921   \n",
       "CoupleAndOneDependent                                              0.986901   \n",
       "CoupleAndTwoDependents                                             0.955814   \n",
       "CoupleAndThreeOrMoreDependents                                     0.902685   \n",
       "RowNumber_y                                                       -0.163911   \n",
       "\n",
       "                                           PrimarySubscriberAndTwoDependents  \\\n",
       "BusinessYear_x                                                     -0.039961   \n",
       "IssuerId_x                                                          0.145947   \n",
       "IssuerId2_x                                                         0.145947   \n",
       "LimitQty                                                            0.135593   \n",
       "MinimumStay                                                              NaN   \n",
       "RowNumber_x                                                         0.019839   \n",
       "VersionNum_x                                                        0.260683   \n",
       "BusinessYear_y                                                     -0.027566   \n",
       "IssuerId_y                                                          0.137144   \n",
       "VersionNum_y                                                        0.161143   \n",
       "IssuerId2_y                                                         0.137144   \n",
       "IndividualRate                                                      0.592832   \n",
       "IndividualTobaccoRate                                                    NaN   \n",
       "Couple                                                              0.958104   \n",
       "PrimarySubscriberAndOneDependent                                    0.961201   \n",
       "PrimarySubscriberAndTwoDependents                                   1.000000   \n",
       "PrimarySubscriberAndThreeOrMoreDependents                           0.970444   \n",
       "CoupleAndOneDependent                                               0.975293   \n",
       "CoupleAndTwoDependents                                              0.982912   \n",
       "CoupleAndThreeOrMoreDependents                                      0.957454   \n",
       "RowNumber_y                                                        -0.147484   \n",
       "\n",
       "                                           PrimarySubscriberAndThreeOrMoreDependents  \\\n",
       "BusinessYear_x                                                             -0.089715   \n",
       "IssuerId_x                                                                  0.171518   \n",
       "IssuerId2_x                                                                 0.171518   \n",
       "LimitQty                                                                   -0.021644   \n",
       "MinimumStay                                                                      NaN   \n",
       "RowNumber_x                                                                 0.013213   \n",
       "VersionNum_x                                                                0.259078   \n",
       "BusinessYear_y                                                             -0.077520   \n",
       "IssuerId_y                                                                  0.152251   \n",
       "VersionNum_y                                                                0.186947   \n",
       "IssuerId2_y                                                                 0.152251   \n",
       "IndividualRate                                                              0.541325   \n",
       "IndividualTobaccoRate                                                            NaN   \n",
       "Couple                                                                      0.921955   \n",
       "PrimarySubscriberAndOneDependent                                            0.899921   \n",
       "PrimarySubscriberAndTwoDependents                                           0.970444   \n",
       "PrimarySubscriberAndThreeOrMoreDependents                                   1.000000   \n",
       "CoupleAndOneDependent                                                       0.922043   \n",
       "CoupleAndTwoDependents                                                      0.976778   \n",
       "CoupleAndThreeOrMoreDependents                                              0.992494   \n",
       "RowNumber_y                                                                -0.137551   \n",
       "\n",
       "                                           CoupleAndOneDependent  \\\n",
       "BusinessYear_x                                         -0.040393   \n",
       "IssuerId_x                                              0.128841   \n",
       "IssuerId2_x                                             0.128841   \n",
       "LimitQty                                                0.315101   \n",
       "MinimumStay                                                  NaN   \n",
       "RowNumber_x                                             0.022456   \n",
       "VersionNum_x                                            0.224136   \n",
       "BusinessYear_y                                         -0.052352   \n",
       "IssuerId_y                                              0.116784   \n",
       "VersionNum_y                                            0.171898   \n",
       "IssuerId2_y                                             0.116784   \n",
       "IndividualRate                                          0.600836   \n",
       "IndividualTobaccoRate                                        NaN   \n",
       "Couple                                                  0.963548   \n",
       "PrimarySubscriberAndOneDependent                        0.986901   \n",
       "PrimarySubscriberAndTwoDependents                       0.975293   \n",
       "PrimarySubscriberAndThreeOrMoreDependents               0.922043   \n",
       "CoupleAndOneDependent                                   1.000000   \n",
       "CoupleAndTwoDependents                                  0.976409   \n",
       "CoupleAndThreeOrMoreDependents                          0.928010   \n",
       "RowNumber_y                                            -0.147790   \n",
       "\n",
       "                                           CoupleAndTwoDependents  \\\n",
       "BusinessYear_x                                          -0.077001   \n",
       "IssuerId_x                                               0.150389   \n",
       "IssuerId2_x                                              0.150389   \n",
       "LimitQty                                                 0.140771   \n",
       "MinimumStay                                                   NaN   \n",
       "RowNumber_x                                              0.018543   \n",
       "VersionNum_x                                             0.237018   \n",
       "BusinessYear_y                                          -0.077079   \n",
       "IssuerId_y                                               0.143701   \n",
       "VersionNum_y                                             0.182102   \n",
       "IssuerId2_y                                              0.143701   \n",
       "IndividualRate                                           0.580207   \n",
       "IndividualTobaccoRate                                         NaN   \n",
       "Couple                                                   0.961713   \n",
       "PrimarySubscriberAndOneDependent                         0.955814   \n",
       "PrimarySubscriberAndTwoDependents                        0.982912   \n",
       "PrimarySubscriberAndThreeOrMoreDependents                0.976778   \n",
       "CoupleAndOneDependent                                    0.976409   \n",
       "CoupleAndTwoDependents                                   1.000000   \n",
       "CoupleAndThreeOrMoreDependents                           0.984873   \n",
       "RowNumber_y                                             -0.143256   \n",
       "\n",
       "                                           CoupleAndThreeOrMoreDependents  \\\n",
       "BusinessYear_x                                                  -0.106127   \n",
       "IssuerId_x                                                       0.170239   \n",
       "IssuerId2_x                                                      0.170239   \n",
       "LimitQty                                                         0.013259   \n",
       "MinimumStay                                                           NaN   \n",
       "RowNumber_x                                                      0.013311   \n",
       "VersionNum_x                                                     0.239489   \n",
       "BusinessYear_y                                                  -0.102983   \n",
       "IssuerId_y                                                       0.152786   \n",
       "VersionNum_y                                                     0.196511   \n",
       "IssuerId2_y                                                      0.152786   \n",
       "IndividualRate                                                   0.538360   \n",
       "IndividualTobaccoRate                                                 NaN   \n",
       "Couple                                                           0.926122   \n",
       "PrimarySubscriberAndOneDependent                                 0.902685   \n",
       "PrimarySubscriberAndTwoDependents                                0.957454   \n",
       "PrimarySubscriberAndThreeOrMoreDependents                        0.992494   \n",
       "CoupleAndOneDependent                                            0.928010   \n",
       "CoupleAndTwoDependents                                           0.984873   \n",
       "CoupleAndThreeOrMoreDependents                                   1.000000   \n",
       "RowNumber_y                                                     -0.135355   \n",
       "\n",
       "                                           RowNumber_y  \n",
       "BusinessYear_x                               -0.215924  \n",
       "IssuerId_x                                   -0.040264  \n",
       "IssuerId2_x                                  -0.040264  \n",
       "LimitQty                                     -0.071019  \n",
       "MinimumStay                                        NaN  \n",
       "RowNumber_x                                   0.000198  \n",
       "VersionNum_x                                 -0.043861  \n",
       "BusinessYear_y                               -0.034605  \n",
       "IssuerId_y                                   -0.091208  \n",
       "VersionNum_y                                  0.005735  \n",
       "IssuerId2_y                                  -0.091208  \n",
       "IndividualRate                               -0.061935  \n",
       "IndividualTobaccoRate                         0.029781  \n",
       "Couple                                       -0.207744  \n",
       "PrimarySubscriberAndOneDependent             -0.163911  \n",
       "PrimarySubscriberAndTwoDependents            -0.147484  \n",
       "PrimarySubscriberAndThreeOrMoreDependents    -0.137551  \n",
       "CoupleAndOneDependent                        -0.147790  \n",
       "CoupleAndTwoDependents                       -0.143256  \n",
       "CoupleAndThreeOrMoreDependents               -0.135355  \n",
       "RowNumber_y                                   1.000000  \n",
       "\n",
       "[21 rows x 21 columns]"
      ]
     },
     "execution_count": 584,
     "metadata": {},
     "output_type": "execute_result"
    }
   ],
   "source": [
    "O.corr()"
   ]
  },
  {
   "cell_type": "markdown",
   "metadata": {},
   "source": [
    "This effectively joins 3 tables together: Rate, Benefits, and attributes table. We need the attributes table to gain access to the AV column to use that for regression analysis."
   ]
  },
  {
   "cell_type": "code",
   "execution_count": 37,
   "metadata": {},
   "outputs": [],
   "source": [
    "result_1=pd.merge(result,attribute,how='inner',left_index=True, right_index=True)"
   ]
  },
  {
   "cell_type": "code",
   "execution_count": 38,
   "metadata": {},
   "outputs": [
    {
     "data": {
      "text/html": [
       "<div>\n",
       "<style scoped>\n",
       "    .dataframe tbody tr th:only-of-type {\n",
       "        vertical-align: middle;\n",
       "    }\n",
       "\n",
       "    .dataframe tbody tr th {\n",
       "        vertical-align: top;\n",
       "    }\n",
       "\n",
       "    .dataframe thead th {\n",
       "        text-align: right;\n",
       "    }\n",
       "</style>\n",
       "<table border=\"1\" class=\"dataframe\">\n",
       "  <thead>\n",
       "    <tr style=\"text-align: right;\">\n",
       "      <th></th>\n",
       "      <th>BenefitName</th>\n",
       "      <th>BusinessYear_x</th>\n",
       "      <th>CoinsInnTier1</th>\n",
       "      <th>CoinsInnTier2</th>\n",
       "      <th>CoinsOutofNet</th>\n",
       "      <th>CopayInnTier1</th>\n",
       "      <th>CopayInnTier2</th>\n",
       "      <th>CopayOutofNet</th>\n",
       "      <th>EHBVarReason</th>\n",
       "      <th>Exclusions</th>\n",
       "      <th>...</th>\n",
       "      <th>TEHBOutOfNetFamilyMOOP</th>\n",
       "      <th>TEHBOutOfNetFamilyPerGroupMOOP</th>\n",
       "      <th>TEHBOutOfNetFamilyPerPersonMOOP</th>\n",
       "      <th>TEHBOutOfNetIndividualMOOP</th>\n",
       "      <th>TIN</th>\n",
       "      <th>URLForEnrollmentPayment</th>\n",
       "      <th>URLForSummaryofBenefitsCoverage</th>\n",
       "      <th>UniquePlanDesign</th>\n",
       "      <th>VersionNum</th>\n",
       "      <th>WellnessProgramOffered</th>\n",
       "    </tr>\n",
       "  </thead>\n",
       "  <tbody>\n",
       "    <tr>\n",
       "      <th>0</th>\n",
       "      <td>Routine Dental Services (Adult)</td>\n",
       "      <td>2014</td>\n",
       "      <td>20%</td>\n",
       "      <td>NaN</td>\n",
       "      <td>20%</td>\n",
       "      <td>No Charge</td>\n",
       "      <td>NaN</td>\n",
       "      <td>No Charge</td>\n",
       "      <td>Above EHB</td>\n",
       "      <td>NaN</td>\n",
       "      <td>...</td>\n",
       "      <td>NaN</td>\n",
       "      <td>NaN</td>\n",
       "      <td>NaN</td>\n",
       "      <td>NaN</td>\n",
       "      <td>93-0438772</td>\n",
       "      <td>https://www.modahealth.com/employers/enroll.shtml</td>\n",
       "      <td>https://www.modahealth.com/producers/grp/den.s...</td>\n",
       "      <td>NaN</td>\n",
       "      <td>6</td>\n",
       "      <td>NaN</td>\n",
       "    </tr>\n",
       "    <tr>\n",
       "      <th>1</th>\n",
       "      <td>Dental Check-Up for Children</td>\n",
       "      <td>2014</td>\n",
       "      <td>20%</td>\n",
       "      <td>NaN</td>\n",
       "      <td>20%</td>\n",
       "      <td>No Charge</td>\n",
       "      <td>NaN</td>\n",
       "      <td>No Charge</td>\n",
       "      <td>Substantially Equal</td>\n",
       "      <td>NaN</td>\n",
       "      <td>...</td>\n",
       "      <td>NaN</td>\n",
       "      <td>NaN</td>\n",
       "      <td>NaN</td>\n",
       "      <td>NaN</td>\n",
       "      <td>93-0438772</td>\n",
       "      <td>https://www.modahealth.com/employers/enroll.shtml</td>\n",
       "      <td>https://www.modahealth.com/producers/grp/den.s...</td>\n",
       "      <td>NaN</td>\n",
       "      <td>6</td>\n",
       "      <td>NaN</td>\n",
       "    </tr>\n",
       "    <tr>\n",
       "      <th>2</th>\n",
       "      <td>Basic Dental Care - Child</td>\n",
       "      <td>2014</td>\n",
       "      <td>40%</td>\n",
       "      <td>NaN</td>\n",
       "      <td>40%</td>\n",
       "      <td>No Charge</td>\n",
       "      <td>NaN</td>\n",
       "      <td>No Charge</td>\n",
       "      <td>Substantially Equal</td>\n",
       "      <td>NaN</td>\n",
       "      <td>...</td>\n",
       "      <td>NaN</td>\n",
       "      <td>NaN</td>\n",
       "      <td>NaN</td>\n",
       "      <td>NaN</td>\n",
       "      <td>93-0438772</td>\n",
       "      <td>https://www.modahealth.com/employers/enroll.shtml</td>\n",
       "      <td>https://www.modahealth.com/producers/grp/den.s...</td>\n",
       "      <td>NaN</td>\n",
       "      <td>6</td>\n",
       "      <td>NaN</td>\n",
       "    </tr>\n",
       "    <tr>\n",
       "      <th>3</th>\n",
       "      <td>Orthodontia - Child</td>\n",
       "      <td>2014</td>\n",
       "      <td>50%</td>\n",
       "      <td>NaN</td>\n",
       "      <td>50%</td>\n",
       "      <td>No Charge</td>\n",
       "      <td>NaN</td>\n",
       "      <td>No Charge</td>\n",
       "      <td>Additional EHB Benefit</td>\n",
       "      <td>NaN</td>\n",
       "      <td>...</td>\n",
       "      <td>NaN</td>\n",
       "      <td>NaN</td>\n",
       "      <td>NaN</td>\n",
       "      <td>NaN</td>\n",
       "      <td>93-0438772</td>\n",
       "      <td>https://www.modahealth.com/mymoda/</td>\n",
       "      <td>https://www.modahealth.com/pdfs/plans/individu...</td>\n",
       "      <td>NaN</td>\n",
       "      <td>6</td>\n",
       "      <td>NaN</td>\n",
       "    </tr>\n",
       "    <tr>\n",
       "      <th>4</th>\n",
       "      <td>Major Dental Care - Child</td>\n",
       "      <td>2014</td>\n",
       "      <td>50%</td>\n",
       "      <td>NaN</td>\n",
       "      <td>50%</td>\n",
       "      <td>No Charge</td>\n",
       "      <td>NaN</td>\n",
       "      <td>No Charge</td>\n",
       "      <td>Substantially Equal</td>\n",
       "      <td>NaN</td>\n",
       "      <td>...</td>\n",
       "      <td>NaN</td>\n",
       "      <td>NaN</td>\n",
       "      <td>NaN</td>\n",
       "      <td>NaN</td>\n",
       "      <td>93-0438772</td>\n",
       "      <td>https://www.modahealth.com/mymoda/</td>\n",
       "      <td>https://www.modahealth.com/pdfs/plans/individu...</td>\n",
       "      <td>NaN</td>\n",
       "      <td>6</td>\n",
       "      <td>NaN</td>\n",
       "    </tr>\n",
       "  </tbody>\n",
       "</table>\n",
       "<p>5 rows × 232 columns</p>\n",
       "</div>"
      ],
      "text/plain": [
       "                       BenefitName  BusinessYear_x CoinsInnTier1  \\\n",
       "0  Routine Dental Services (Adult)            2014           20%   \n",
       "1     Dental Check-Up for Children            2014           20%   \n",
       "2        Basic Dental Care - Child            2014           40%   \n",
       "3              Orthodontia - Child            2014           50%   \n",
       "4        Major Dental Care - Child            2014           50%   \n",
       "\n",
       "  CoinsInnTier2 CoinsOutofNet CopayInnTier1 CopayInnTier2 CopayOutofNet  \\\n",
       "0           NaN           20%     No Charge           NaN     No Charge   \n",
       "1           NaN           20%     No Charge           NaN     No Charge   \n",
       "2           NaN           40%     No Charge           NaN     No Charge   \n",
       "3           NaN           50%     No Charge           NaN     No Charge   \n",
       "4           NaN           50%     No Charge           NaN     No Charge   \n",
       "\n",
       "             EHBVarReason Exclusions  ... TEHBOutOfNetFamilyMOOP  \\\n",
       "0               Above EHB        NaN  ...                    NaN   \n",
       "1     Substantially Equal        NaN  ...                    NaN   \n",
       "2     Substantially Equal        NaN  ...                    NaN   \n",
       "3  Additional EHB Benefit        NaN  ...                    NaN   \n",
       "4     Substantially Equal        NaN  ...                    NaN   \n",
       "\n",
       "  TEHBOutOfNetFamilyPerGroupMOOP TEHBOutOfNetFamilyPerPersonMOOP  \\\n",
       "0                            NaN                             NaN   \n",
       "1                            NaN                             NaN   \n",
       "2                            NaN                             NaN   \n",
       "3                            NaN                             NaN   \n",
       "4                            NaN                             NaN   \n",
       "\n",
       "  TEHBOutOfNetIndividualMOOP         TIN  \\\n",
       "0                        NaN  93-0438772   \n",
       "1                        NaN  93-0438772   \n",
       "2                        NaN  93-0438772   \n",
       "3                        NaN  93-0438772   \n",
       "4                        NaN  93-0438772   \n",
       "\n",
       "                             URLForEnrollmentPayment  \\\n",
       "0  https://www.modahealth.com/employers/enroll.shtml   \n",
       "1  https://www.modahealth.com/employers/enroll.shtml   \n",
       "2  https://www.modahealth.com/employers/enroll.shtml   \n",
       "3                 https://www.modahealth.com/mymoda/   \n",
       "4                 https://www.modahealth.com/mymoda/   \n",
       "\n",
       "                     URLForSummaryofBenefitsCoverage UniquePlanDesign  \\\n",
       "0  https://www.modahealth.com/producers/grp/den.s...              NaN   \n",
       "1  https://www.modahealth.com/producers/grp/den.s...              NaN   \n",
       "2  https://www.modahealth.com/producers/grp/den.s...              NaN   \n",
       "3  https://www.modahealth.com/pdfs/plans/individu...              NaN   \n",
       "4  https://www.modahealth.com/pdfs/plans/individu...              NaN   \n",
       "\n",
       "  VersionNum  WellnessProgramOffered  \n",
       "0          6                     NaN  \n",
       "1          6                     NaN  \n",
       "2          6                     NaN  \n",
       "3          6                     NaN  \n",
       "4          6                     NaN  \n",
       "\n",
       "[5 rows x 232 columns]"
      ]
     },
     "execution_count": 38,
     "metadata": {},
     "output_type": "execute_result"
    }
   ],
   "source": [
    "result_1.head()"
   ]
  },
  {
   "cell_type": "code",
   "execution_count": 586,
   "metadata": {},
   "outputs": [
    {
     "data": {
      "text/html": [
       "<div>\n",
       "<style scoped>\n",
       "    .dataframe tbody tr th:only-of-type {\n",
       "        vertical-align: middle;\n",
       "    }\n",
       "\n",
       "    .dataframe tbody tr th {\n",
       "        vertical-align: top;\n",
       "    }\n",
       "\n",
       "    .dataframe thead th {\n",
       "        text-align: right;\n",
       "    }\n",
       "</style>\n",
       "<table border=\"1\" class=\"dataframe\">\n",
       "  <thead>\n",
       "    <tr style=\"text-align: right;\">\n",
       "      <th></th>\n",
       "      <th>BenefitName</th>\n",
       "      <th>BusinessYear_x</th>\n",
       "      <th>ImportDate_x</th>\n",
       "      <th>IssuerId_x</th>\n",
       "      <th>IssuerId2_x</th>\n",
       "      <th>PlanId_x</th>\n",
       "      <th>RowNumber_x</th>\n",
       "      <th>SourceName_x</th>\n",
       "      <th>StandardComponentId_x</th>\n",
       "      <th>StateCode_x</th>\n",
       "      <th>...</th>\n",
       "      <th>PlanType</th>\n",
       "      <th>QHPNonQHPTypeId</th>\n",
       "      <th>RowNumber</th>\n",
       "      <th>ServiceAreaId</th>\n",
       "      <th>SourceName</th>\n",
       "      <th>StandardComponentId_y</th>\n",
       "      <th>StateCode</th>\n",
       "      <th>StateCode2_y</th>\n",
       "      <th>TIN</th>\n",
       "      <th>VersionNum</th>\n",
       "    </tr>\n",
       "  </thead>\n",
       "  <tbody>\n",
       "    <tr>\n",
       "      <th>0</th>\n",
       "      <td>Routine Dental Services (Adult)</td>\n",
       "      <td>2014</td>\n",
       "      <td>2014-03-19 07:06:49</td>\n",
       "      <td>21989</td>\n",
       "      <td>21989</td>\n",
       "      <td>21989AK0010001-00</td>\n",
       "      <td>68</td>\n",
       "      <td>HIOS</td>\n",
       "      <td>21989AK0010001</td>\n",
       "      <td>AK</td>\n",
       "      <td>...</td>\n",
       "      <td>PPO</td>\n",
       "      <td>Both</td>\n",
       "      <td>6</td>\n",
       "      <td>AKS001</td>\n",
       "      <td>HIOS</td>\n",
       "      <td>21989AK0020002</td>\n",
       "      <td>AK</td>\n",
       "      <td>AK</td>\n",
       "      <td>93-0438772</td>\n",
       "      <td>6</td>\n",
       "    </tr>\n",
       "    <tr>\n",
       "      <th>1</th>\n",
       "      <td>Dental Check-Up for Children</td>\n",
       "      <td>2014</td>\n",
       "      <td>2014-03-19 07:06:49</td>\n",
       "      <td>21989</td>\n",
       "      <td>21989</td>\n",
       "      <td>21989AK0010001-00</td>\n",
       "      <td>104</td>\n",
       "      <td>HIOS</td>\n",
       "      <td>21989AK0010001</td>\n",
       "      <td>AK</td>\n",
       "      <td>...</td>\n",
       "      <td>PPO</td>\n",
       "      <td>Both</td>\n",
       "      <td>7</td>\n",
       "      <td>AKS001</td>\n",
       "      <td>HIOS</td>\n",
       "      <td>21989AK0020002</td>\n",
       "      <td>AK</td>\n",
       "      <td>AK</td>\n",
       "      <td>93-0438772</td>\n",
       "      <td>6</td>\n",
       "    </tr>\n",
       "    <tr>\n",
       "      <th>2</th>\n",
       "      <td>Basic Dental Care - Child</td>\n",
       "      <td>2014</td>\n",
       "      <td>2014-03-19 07:06:49</td>\n",
       "      <td>21989</td>\n",
       "      <td>21989</td>\n",
       "      <td>21989AK0010001-00</td>\n",
       "      <td>110</td>\n",
       "      <td>HIOS</td>\n",
       "      <td>21989AK0010001</td>\n",
       "      <td>AK</td>\n",
       "      <td>...</td>\n",
       "      <td>PPO</td>\n",
       "      <td>Both</td>\n",
       "      <td>4</td>\n",
       "      <td>AKS001</td>\n",
       "      <td>HIOS</td>\n",
       "      <td>21989AK0020001</td>\n",
       "      <td>AK</td>\n",
       "      <td>AK</td>\n",
       "      <td>93-0438772</td>\n",
       "      <td>6</td>\n",
       "    </tr>\n",
       "    <tr>\n",
       "      <th>3</th>\n",
       "      <td>Orthodontia - Child</td>\n",
       "      <td>2014</td>\n",
       "      <td>2014-03-19 07:06:49</td>\n",
       "      <td>21989</td>\n",
       "      <td>21989</td>\n",
       "      <td>21989AK0010001-00</td>\n",
       "      <td>111</td>\n",
       "      <td>HIOS</td>\n",
       "      <td>21989AK0010001</td>\n",
       "      <td>AK</td>\n",
       "      <td>...</td>\n",
       "      <td>PPO</td>\n",
       "      <td>Both</td>\n",
       "      <td>4</td>\n",
       "      <td>AKS001</td>\n",
       "      <td>HIOS</td>\n",
       "      <td>21989AK0010001</td>\n",
       "      <td>AK</td>\n",
       "      <td>AK</td>\n",
       "      <td>93-0438772</td>\n",
       "      <td>6</td>\n",
       "    </tr>\n",
       "    <tr>\n",
       "      <th>4</th>\n",
       "      <td>Major Dental Care - Child</td>\n",
       "      <td>2014</td>\n",
       "      <td>2014-03-19 07:06:49</td>\n",
       "      <td>21989</td>\n",
       "      <td>21989</td>\n",
       "      <td>21989AK0010001-00</td>\n",
       "      <td>112</td>\n",
       "      <td>HIOS</td>\n",
       "      <td>21989AK0010001</td>\n",
       "      <td>AK</td>\n",
       "      <td>...</td>\n",
       "      <td>PPO</td>\n",
       "      <td>Both</td>\n",
       "      <td>5</td>\n",
       "      <td>AKS001</td>\n",
       "      <td>HIOS</td>\n",
       "      <td>21989AK0010001</td>\n",
       "      <td>AK</td>\n",
       "      <td>AK</td>\n",
       "      <td>93-0438772</td>\n",
       "      <td>6</td>\n",
       "    </tr>\n",
       "  </tbody>\n",
       "</table>\n",
       "<p>5 rows × 62 columns</p>\n",
       "</div>"
      ],
      "text/plain": [
       "                       BenefitName  BusinessYear_x         ImportDate_x  \\\n",
       "0  Routine Dental Services (Adult)            2014  2014-03-19 07:06:49   \n",
       "1     Dental Check-Up for Children            2014  2014-03-19 07:06:49   \n",
       "2        Basic Dental Care - Child            2014  2014-03-19 07:06:49   \n",
       "3              Orthodontia - Child            2014  2014-03-19 07:06:49   \n",
       "4        Major Dental Care - Child            2014  2014-03-19 07:06:49   \n",
       "\n",
       "   IssuerId_x  IssuerId2_x           PlanId_x  RowNumber_x SourceName_x  \\\n",
       "0       21989        21989  21989AK0010001-00           68         HIOS   \n",
       "1       21989        21989  21989AK0010001-00          104         HIOS   \n",
       "2       21989        21989  21989AK0010001-00          110         HIOS   \n",
       "3       21989        21989  21989AK0010001-00          111         HIOS   \n",
       "4       21989        21989  21989AK0010001-00          112         HIOS   \n",
       "\n",
       "  StandardComponentId_x StateCode_x  ... PlanType  QHPNonQHPTypeId  RowNumber  \\\n",
       "0        21989AK0010001          AK  ...      PPO             Both          6   \n",
       "1        21989AK0010001          AK  ...      PPO             Both          7   \n",
       "2        21989AK0010001          AK  ...      PPO             Both          4   \n",
       "3        21989AK0010001          AK  ...      PPO             Both          4   \n",
       "4        21989AK0010001          AK  ...      PPO             Both          5   \n",
       "\n",
       "  ServiceAreaId  SourceName StandardComponentId_y  StateCode StateCode2_y  \\\n",
       "0        AKS001        HIOS        21989AK0020002         AK           AK   \n",
       "1        AKS001        HIOS        21989AK0020002         AK           AK   \n",
       "2        AKS001        HIOS        21989AK0020001         AK           AK   \n",
       "3        AKS001        HIOS        21989AK0010001         AK           AK   \n",
       "4        AKS001        HIOS        21989AK0010001         AK           AK   \n",
       "\n",
       "          TIN VersionNum  \n",
       "0  93-0438772          6  \n",
       "1  93-0438772          6  \n",
       "2  93-0438772          6  \n",
       "3  93-0438772          6  \n",
       "4  93-0438772          6  \n",
       "\n",
       "[5 rows x 62 columns]"
      ]
     },
     "execution_count": 586,
     "metadata": {},
     "output_type": "execute_result"
    }
   ],
   "source": [
    "result_1.dropna(axis=1).head()"
   ]
  },
  {
   "cell_type": "markdown",
   "metadata": {},
   "source": [
    "<a id=\"LinearRegressionmodel:Couple/DependentsratevsIndividualRate\"></a>\n",
    "# 4) Linear Regression model: Couple/Dependents rate vs Individual Rate"
   ]
  },
  {
   "cell_type": "code",
   "execution_count": 627,
   "metadata": {},
   "outputs": [],
   "source": [
    "result_1['Couple'].dropna(how='all')\n",
    "result_1['IndividualTobaccoRate'].dropna(how='all')\n",
    "result_1['PrimarySubscriberAndOneDependent'].dropna(how='all')\n",
    "result_1['CoupleAndOneDependent'].dropna(how='all')\n",
    "#result_1['IndividualRate'].dropna(how='all')\n",
    "ortho=result_1[(result_1['BenefitName'] == 'Orthodontia - Adult') | (result_1['BenefitName'] == 'Basic Dental Care - Child') | (result_1['BenefitName'] == 'Routine Dental Services (Adult)')| (result_1['BenefitName'] == 'Basic Dental Care - Adult')| (result_1['BenefitName'] == 'Major Dental Care - Adult')| (result_1['BenefitName'] == 'Major Dental Care - Child')]"
   ]
  },
  {
   "cell_type": "code",
   "execution_count": 628,
   "metadata": {},
   "outputs": [],
   "source": [
    "feature_cols1 = ['Couple','PrimarySubscriberAndOneDependent','CoupleAndOneDependent','IndividualRate']"
   ]
  },
  {
   "cell_type": "code",
   "execution_count": 629,
   "metadata": {},
   "outputs": [
    {
     "data": {
      "text/html": [
       "<div>\n",
       "<style scoped>\n",
       "    .dataframe tbody tr th:only-of-type {\n",
       "        vertical-align: middle;\n",
       "    }\n",
       "\n",
       "    .dataframe tbody tr th {\n",
       "        vertical-align: top;\n",
       "    }\n",
       "\n",
       "    .dataframe thead th {\n",
       "        text-align: right;\n",
       "    }\n",
       "</style>\n",
       "<table border=\"1\" class=\"dataframe\">\n",
       "  <thead>\n",
       "    <tr style=\"text-align: right;\">\n",
       "      <th></th>\n",
       "      <th>Couple</th>\n",
       "      <th>PrimarySubscriberAndOneDependent</th>\n",
       "      <th>CoupleAndOneDependent</th>\n",
       "      <th>IndividualRate</th>\n",
       "    </tr>\n",
       "  </thead>\n",
       "  <tbody>\n",
       "    <tr>\n",
       "      <th>0</th>\n",
       "      <td>NaN</td>\n",
       "      <td>NaN</td>\n",
       "      <td>NaN</td>\n",
       "      <td>29.00</td>\n",
       "    </tr>\n",
       "    <tr>\n",
       "      <th>2</th>\n",
       "      <td>73.9</td>\n",
       "      <td>107.61</td>\n",
       "      <td>144.56</td>\n",
       "      <td>36.95</td>\n",
       "    </tr>\n",
       "    <tr>\n",
       "      <th>4</th>\n",
       "      <td>NaN</td>\n",
       "      <td>NaN</td>\n",
       "      <td>NaN</td>\n",
       "      <td>32.00</td>\n",
       "    </tr>\n",
       "    <tr>\n",
       "      <th>5</th>\n",
       "      <td>73.9</td>\n",
       "      <td>107.61</td>\n",
       "      <td>144.56</td>\n",
       "      <td>36.95</td>\n",
       "    </tr>\n",
       "    <tr>\n",
       "      <th>6</th>\n",
       "      <td>64.9</td>\n",
       "      <td>94.50</td>\n",
       "      <td>126.95</td>\n",
       "      <td>32.45</td>\n",
       "    </tr>\n",
       "  </tbody>\n",
       "</table>\n",
       "</div>"
      ],
      "text/plain": [
       "   Couple  PrimarySubscriberAndOneDependent  CoupleAndOneDependent  \\\n",
       "0     NaN                               NaN                    NaN   \n",
       "2    73.9                            107.61                 144.56   \n",
       "4     NaN                               NaN                    NaN   \n",
       "5    73.9                            107.61                 144.56   \n",
       "6    64.9                             94.50                 126.95   \n",
       "\n",
       "   IndividualRate  \n",
       "0           29.00  \n",
       "2           36.95  \n",
       "4           32.00  \n",
       "5           36.95  \n",
       "6           32.45  "
      ]
     },
     "execution_count": 629,
     "metadata": {},
     "output_type": "execute_result"
    }
   ],
   "source": [
    "V=ortho[feature_cols1]\n",
    "lr = LinearRegression()\n",
    "type(lr)\n",
    "V.dropna(how='all').head()"
   ]
  },
  {
   "cell_type": "code",
   "execution_count": 630,
   "metadata": {},
   "outputs": [],
   "source": [
    "V = V[~pd.isnull(V)]"
   ]
  },
  {
   "cell_type": "code",
   "execution_count": 631,
   "metadata": {},
   "outputs": [
    {
     "data": {
      "text/plain": [
       "Couple                              7696\n",
       "PrimarySubscriberAndOneDependent    7696\n",
       "CoupleAndOneDependent               7696\n",
       "IndividualRate                         0\n",
       "dtype: int64"
      ]
     },
     "execution_count": 631,
     "metadata": {},
     "output_type": "execute_result"
    }
   ],
   "source": [
    "V.isnull().sum()"
   ]
  },
  {
   "cell_type": "code",
   "execution_count": 632,
   "metadata": {},
   "outputs": [],
   "source": [
    "V.dropna(inplace=True)"
   ]
  },
  {
   "cell_type": "code",
   "execution_count": 633,
   "metadata": {},
   "outputs": [
    {
     "data": {
      "text/html": [
       "<div>\n",
       "<style scoped>\n",
       "    .dataframe tbody tr th:only-of-type {\n",
       "        vertical-align: middle;\n",
       "    }\n",
       "\n",
       "    .dataframe tbody tr th {\n",
       "        vertical-align: top;\n",
       "    }\n",
       "\n",
       "    .dataframe thead th {\n",
       "        text-align: right;\n",
       "    }\n",
       "</style>\n",
       "<table border=\"1\" class=\"dataframe\">\n",
       "  <thead>\n",
       "    <tr style=\"text-align: right;\">\n",
       "      <th></th>\n",
       "      <th>Couple</th>\n",
       "      <th>PrimarySubscriberAndOneDependent</th>\n",
       "      <th>CoupleAndOneDependent</th>\n",
       "      <th>IndividualRate</th>\n",
       "    </tr>\n",
       "  </thead>\n",
       "  <tbody>\n",
       "    <tr>\n",
       "      <th>2</th>\n",
       "      <td>73.90</td>\n",
       "      <td>107.61</td>\n",
       "      <td>144.56</td>\n",
       "      <td>36.95</td>\n",
       "    </tr>\n",
       "    <tr>\n",
       "      <th>5</th>\n",
       "      <td>73.90</td>\n",
       "      <td>107.61</td>\n",
       "      <td>144.56</td>\n",
       "      <td>36.95</td>\n",
       "    </tr>\n",
       "    <tr>\n",
       "      <th>6</th>\n",
       "      <td>64.90</td>\n",
       "      <td>94.50</td>\n",
       "      <td>126.95</td>\n",
       "      <td>32.45</td>\n",
       "    </tr>\n",
       "    <tr>\n",
       "      <th>9</th>\n",
       "      <td>64.90</td>\n",
       "      <td>94.50</td>\n",
       "      <td>126.95</td>\n",
       "      <td>32.45</td>\n",
       "    </tr>\n",
       "    <tr>\n",
       "      <th>573</th>\n",
       "      <td>76.35</td>\n",
       "      <td>79.16</td>\n",
       "      <td>117.37</td>\n",
       "      <td>38.13</td>\n",
       "    </tr>\n",
       "  </tbody>\n",
       "</table>\n",
       "</div>"
      ],
      "text/plain": [
       "     Couple  PrimarySubscriberAndOneDependent  CoupleAndOneDependent  \\\n",
       "2     73.90                            107.61                 144.56   \n",
       "5     73.90                            107.61                 144.56   \n",
       "6     64.90                             94.50                 126.95   \n",
       "9     64.90                             94.50                 126.95   \n",
       "573   76.35                             79.16                 117.37   \n",
       "\n",
       "     IndividualRate  \n",
       "2             36.95  \n",
       "5             36.95  \n",
       "6             32.45  \n",
       "9             32.45  \n",
       "573           38.13  "
      ]
     },
     "execution_count": 633,
     "metadata": {},
     "output_type": "execute_result"
    }
   ],
   "source": [
    "V.head()"
   ]
  },
  {
   "cell_type": "code",
   "execution_count": 634,
   "metadata": {},
   "outputs": [],
   "source": [
    "feature_cols = ['Couple','PrimarySubscriberAndOneDependent','CoupleAndOneDependent']\n",
    "X = V[feature_cols]\n",
    "y = V.IndividualRate"
   ]
  },
  {
   "cell_type": "code",
   "execution_count": 635,
   "metadata": {},
   "outputs": [
    {
     "data": {
      "image/png": "[encoded data removed]",
      "text/plain": [
       "<Figure size 432x288 with 1 Axes>"
      ]
     },
     "metadata": {
      "needs_background": "light"
     },
     "output_type": "display_data"
    }
   ],
   "source": [
    "V.plot(kind='scatter', x='Couple', y='IndividualRate', alpha=0.2);"
   ]
  },
  {
   "cell_type": "code",
   "execution_count": 636,
   "metadata": {},
   "outputs": [
    {
     "data": {
      "image/png": "[encoded data removed]",
      "text/plain": [
       "<Figure size 432x288 with 1 Axes>"
      ]
     },
     "metadata": {
      "needs_background": "light"
     },
     "output_type": "display_data"
    }
   ],
   "source": [
    "V.plot(kind='scatter', x='PrimarySubscriberAndOneDependent', y='IndividualRate', alpha=0.2);"
   ]
  },
  {
   "cell_type": "code",
   "execution_count": 637,
   "metadata": {},
   "outputs": [
    {
     "data": {
      "image/png": "[encoded data removed]",
      "text/plain": [
       "<Figure size 432x288 with 1 Axes>"
      ]
     },
     "metadata": {
      "needs_background": "light"
     },
     "output_type": "display_data"
    }
   ],
   "source": [
    "V.plot(kind='scatter', x='CoupleAndOneDependent', y='IndividualRate', alpha=0.2);"
   ]
  },
  {
   "cell_type": "code",
   "execution_count": 638,
   "metadata": {},
   "outputs": [
    {
     "data": {
      "text/plain": [
       "sklearn.linear_model.base.LinearRegression"
      ]
     },
     "execution_count": 638,
     "metadata": {},
     "output_type": "execute_result"
    }
   ],
   "source": [
    "lr = LinearRegression()\n",
    "type(lr)"
   ]
  },
  {
   "cell_type": "code",
   "execution_count": 639,
   "metadata": {},
   "outputs": [
    {
     "data": {
      "image/png": "[encoded data removed]",
      "text/plain": [
       "<Figure size 540x180 with 3 Axes>"
      ]
     },
     "metadata": {
      "needs_background": "light"
     },
     "output_type": "display_data"
    }
   ],
   "source": [
    "sns.pairplot(V, x_vars=feature_cols, y_vars='IndividualRate', kind='reg');"
   ]
  },
  {
   "cell_type": "code",
   "execution_count": 640,
   "metadata": {},
   "outputs": [
    {
     "data": {
      "text/plain": [
       "LinearRegression(copy_X=True, fit_intercept=True, n_jobs=None,\n",
       "         normalize=False)"
      ]
     },
     "execution_count": 640,
     "metadata": {},
     "output_type": "execute_result"
    }
   ],
   "source": [
    "lr.fit(X, y)"
   ]
  },
  {
   "cell_type": "code",
   "execution_count": 641,
   "metadata": {},
   "outputs": [
    {
     "data": {
      "text/plain": [
       "LinearRegression(copy_X=True, fit_intercept=True, n_jobs=None,\n",
       "         normalize=False)"
      ]
     },
     "execution_count": 641,
     "metadata": {},
     "output_type": "execute_result"
    }
   ],
   "source": [
    "from sklearn.linear_model import LinearRegression\n",
    "linreg = LinearRegression()\n",
    "linreg.fit(X, y)"
   ]
  },
  {
   "cell_type": "code",
   "execution_count": 642,
   "metadata": {},
   "outputs": [
    {
     "name": "stdout",
     "output_type": "stream",
     "text": [
      "0.0001635109086493003\n",
      "[ 1.05397502  1.1078383  -1.10787086]\n"
     ]
    }
   ],
   "source": [
    "print(linreg.intercept_)\n",
    "print(linreg.coef_)"
   ]
  },
  {
   "cell_type": "code",
   "execution_count": 643,
   "metadata": {},
   "outputs": [
    {
     "data": {
      "text/plain": [
       "[('Couple', 1.0539750244792923),\n",
       " ('PrimarySubscriberAndOneDependent', 1.1078383008322086),\n",
       " ('CoupleAndOneDependent', -1.1078708603408303)]"
      ]
     },
     "execution_count": 643,
     "metadata": {},
     "output_type": "execute_result"
    }
   ],
   "source": [
    "list(zip(feature_cols, linreg.coef_))"
   ]
  },
  {
   "cell_type": "code",
   "execution_count": 644,
   "metadata": {},
   "outputs": [
    {
     "name": "stdout",
     "output_type": "stream",
     "text": [
      "                                    Couple  PrimarySubscriberAndOneDependent  \\\n",
      "Couple                            1.000000                          0.921547   \n",
      "PrimarySubscriberAndOneDependent  0.921547                          1.000000   \n",
      "CoupleAndOneDependent             0.965109                          0.991061   \n",
      "IndividualRate                    1.000000                          0.921663   \n",
      "\n",
      "                                  CoupleAndOneDependent  IndividualRate  \n",
      "Couple                                         0.965109        1.000000  \n",
      "PrimarySubscriberAndOneDependent               0.991061        0.921663  \n",
      "CoupleAndOneDependent                          1.000000        0.965186  \n",
      "IndividualRate                                 0.965186        1.000000  \n",
      "AxesSubplot(0.125,0.125;0.62x0.755)\n"
     ]
    },
    {
     "data": {
      "image/png": "[encoded data removed]",
      "text/plain": [
       "<Figure size 432x288 with 2 Axes>"
      ]
     },
     "metadata": {
      "needs_background": "light"
     },
     "output_type": "display_data"
    }
   ],
   "source": [
    "cmap = sns.diverging_palette(220, 10, as_cmap=True)\n",
    "correlations = V.corr()\n",
    "print(correlations)\n",
    "print(sns.heatmap(correlations, cmap=cmap))"
   ]
  },
  {
   "cell_type": "code",
   "execution_count": 645,
   "metadata": {},
   "outputs": [],
   "source": [
    "from sklearn.model_selection import train_test_split\n",
    "def train_test_rmse(df, feature_cols):\n",
    "    X = df[feature_cols]\n",
    "    y = df.IndividualRate\n",
    "    X_train, X_test, y_train, y_test = train_test_split(X, y, random_state=123)\n",
    "    linreg = LinearRegression()\n",
    "    linreg.fit(X_train, y_train)\n",
    "    y_pred = linreg.predict(X_test)\n",
    "    return np.sqrt(metrics.mean_squared_error(y_test, y_pred))"
   ]
  },
  {
   "cell_type": "code",
   "execution_count": 647,
   "metadata": {},
   "outputs": [],
   "source": [
    "X_train, X_test, y_train, y_test = train_test_split(X, y, random_state=100)"
   ]
  },
  {
   "cell_type": "code",
   "execution_count": 648,
   "metadata": {},
   "outputs": [
    {
     "data": {
      "text/plain": [
       "array([33.77285714, 33.77285714, 33.77285714, 33.77285714, 33.77285714,\n",
       "       33.77285714, 33.77285714])"
      ]
     },
     "execution_count": 648,
     "metadata": {},
     "output_type": "execute_result"
    }
   ],
   "source": [
    "y_null = np.zeros_like(y_test, dtype=float)\n",
    "y_null.fill(y_test.mean())\n",
    "y_null"
   ]
  },
  {
   "cell_type": "code",
   "execution_count": 649,
   "metadata": {},
   "outputs": [],
   "source": [
    "from sklearn import metrics\n",
    "import numpy as np"
   ]
  },
  {
   "cell_type": "code",
   "execution_count": 650,
   "metadata": {},
   "outputs": [
    {
     "data": {
      "text/plain": [
       "13.912514114263885"
      ]
     },
     "execution_count": 650,
     "metadata": {},
     "output_type": "execute_result"
    }
   ],
   "source": [
    "np.sqrt(metrics.mean_squared_error(y_test, y_null))"
   ]
  },
  {
   "cell_type": "code",
   "execution_count": 687,
   "metadata": {},
   "outputs": [
    {
     "name": "stdout",
     "output_type": "stream",
     "text": [
      "Accuracy:  99.99999328701217 %\n"
     ]
    }
   ],
   "source": [
    "from sklearn.linear_model import LinearRegression\n",
    "from array import array\n",
    "regressor = LinearRegression()\n",
    "regressor.fit(X_train,y_train)\n",
    "\n",
    "accuracy = regressor.score(X_test,y_test)\n",
    "print('Accuracy: ',accuracy*100,'%')"
   ]
  },
  {
   "cell_type": "markdown",
   "metadata": {},
   "source": [
    "<a id=\"LinearRegressionModel:InsuranceratevsAVOutput\"></a>\n",
    "# Linear Regression Model: Insurance rate vs AV Output"
   ]
  },
  {
   "cell_type": "code",
   "execution_count": 652,
   "metadata": {},
   "outputs": [
    {
     "data": {
      "text/plain": [
       "22825"
      ]
     },
     "execution_count": 652,
     "metadata": {},
     "output_type": "execute_result"
    }
   ],
   "source": [
    "result_1.AVCalculatorOutputNumber.isnull().sum()"
   ]
  },
  {
   "cell_type": "code",
   "execution_count": 653,
   "metadata": {},
   "outputs": [],
   "source": [
    "feature_cols2 = ['Couple','PrimarySubscriberAndOneDependent','CoupleAndOneDependent','IndividualRate','AVCalculatorOutputNumber']"
   ]
  },
  {
   "cell_type": "code",
   "execution_count": 654,
   "metadata": {},
   "outputs": [
    {
     "data": {
      "text/html": [
       "<div>\n",
       "<style scoped>\n",
       "    .dataframe tbody tr th:only-of-type {\n",
       "        vertical-align: middle;\n",
       "    }\n",
       "\n",
       "    .dataframe tbody tr th {\n",
       "        vertical-align: top;\n",
       "    }\n",
       "\n",
       "    .dataframe thead th {\n",
       "        text-align: right;\n",
       "    }\n",
       "</style>\n",
       "<table border=\"1\" class=\"dataframe\">\n",
       "  <thead>\n",
       "    <tr style=\"text-align: right;\">\n",
       "      <th></th>\n",
       "      <th>Couple</th>\n",
       "      <th>PrimarySubscriberAndOneDependent</th>\n",
       "      <th>CoupleAndOneDependent</th>\n",
       "      <th>IndividualRate</th>\n",
       "      <th>AVCalculatorOutputNumber</th>\n",
       "    </tr>\n",
       "  </thead>\n",
       "  <tbody>\n",
       "    <tr>\n",
       "      <th>0</th>\n",
       "      <td>NaN</td>\n",
       "      <td>NaN</td>\n",
       "      <td>NaN</td>\n",
       "      <td>29.00</td>\n",
       "      <td>NaN</td>\n",
       "    </tr>\n",
       "    <tr>\n",
       "      <th>1</th>\n",
       "      <td>73.9</td>\n",
       "      <td>107.61</td>\n",
       "      <td>144.56</td>\n",
       "      <td>36.95</td>\n",
       "      <td>NaN</td>\n",
       "    </tr>\n",
       "    <tr>\n",
       "      <th>2</th>\n",
       "      <td>73.9</td>\n",
       "      <td>107.61</td>\n",
       "      <td>144.56</td>\n",
       "      <td>36.95</td>\n",
       "      <td>NaN</td>\n",
       "    </tr>\n",
       "    <tr>\n",
       "      <th>3</th>\n",
       "      <td>NaN</td>\n",
       "      <td>NaN</td>\n",
       "      <td>NaN</td>\n",
       "      <td>32.00</td>\n",
       "      <td>NaN</td>\n",
       "    </tr>\n",
       "    <tr>\n",
       "      <th>4</th>\n",
       "      <td>NaN</td>\n",
       "      <td>NaN</td>\n",
       "      <td>NaN</td>\n",
       "      <td>32.00</td>\n",
       "      <td>NaN</td>\n",
       "    </tr>\n",
       "  </tbody>\n",
       "</table>\n",
       "</div>"
      ],
      "text/plain": [
       "   Couple  PrimarySubscriberAndOneDependent  CoupleAndOneDependent  \\\n",
       "0     NaN                               NaN                    NaN   \n",
       "1    73.9                            107.61                 144.56   \n",
       "2    73.9                            107.61                 144.56   \n",
       "3     NaN                               NaN                    NaN   \n",
       "4     NaN                               NaN                    NaN   \n",
       "\n",
       "   IndividualRate AVCalculatorOutputNumber  \n",
       "0           29.00                      NaN  \n",
       "1           36.95                      NaN  \n",
       "2           36.95                      NaN  \n",
       "3           32.00                      NaN  \n",
       "4           32.00                      NaN  "
      ]
     },
     "execution_count": 654,
     "metadata": {},
     "output_type": "execute_result"
    }
   ],
   "source": [
    "Z=result_1[feature_cols2]\n",
    "lr = LinearRegression()\n",
    "type(lr)\n",
    "Z.dropna(how='all').head()"
   ]
  },
  {
   "cell_type": "code",
   "execution_count": 655,
   "metadata": {},
   "outputs": [
    {
     "name": "stderr",
     "output_type": "stream",
     "text": [
      "C:\\ProgramData\\Anaconda3\\lib\\site-packages\\ipykernel_launcher.py:1: SettingWithCopyWarning: \n",
      "A value is trying to be set on a copy of a slice from a DataFrame\n",
      "\n",
      "See the caveats in the documentation: http://pandas.pydata.org/pandas-docs/stable/indexing.html#indexing-view-versus-copy\n",
      "  \"\"\"Entry point for launching an IPython kernel.\n"
     ]
    },
    {
     "data": {
      "text/html": [
       "<div>\n",
       "<style scoped>\n",
       "    .dataframe tbody tr th:only-of-type {\n",
       "        vertical-align: middle;\n",
       "    }\n",
       "\n",
       "    .dataframe tbody tr th {\n",
       "        vertical-align: top;\n",
       "    }\n",
       "\n",
       "    .dataframe thead th {\n",
       "        text-align: right;\n",
       "    }\n",
       "</style>\n",
       "<table border=\"1\" class=\"dataframe\">\n",
       "  <thead>\n",
       "    <tr style=\"text-align: right;\">\n",
       "      <th></th>\n",
       "      <th>Couple</th>\n",
       "      <th>PrimarySubscriberAndOneDependent</th>\n",
       "      <th>CoupleAndOneDependent</th>\n",
       "      <th>IndividualRate</th>\n",
       "      <th>AVCalculatorOutputNumber</th>\n",
       "    </tr>\n",
       "  </thead>\n",
       "  <tbody>\n",
       "    <tr>\n",
       "      <th>6</th>\n",
       "      <td>64.90</td>\n",
       "      <td>94.50</td>\n",
       "      <td>126.95</td>\n",
       "      <td>32.45</td>\n",
       "      <td>0.619164943695068</td>\n",
       "    </tr>\n",
       "    <tr>\n",
       "      <th>9</th>\n",
       "      <td>64.90</td>\n",
       "      <td>94.50</td>\n",
       "      <td>126.95</td>\n",
       "      <td>32.45</td>\n",
       "      <td>0.619164943695068</td>\n",
       "    </tr>\n",
       "    <tr>\n",
       "      <th>10</th>\n",
       "      <td>64.90</td>\n",
       "      <td>94.50</td>\n",
       "      <td>126.95</td>\n",
       "      <td>32.45</td>\n",
       "      <td>1</td>\n",
       "    </tr>\n",
       "    <tr>\n",
       "      <th>558</th>\n",
       "      <td>118.64</td>\n",
       "      <td>118.31</td>\n",
       "      <td>177.70</td>\n",
       "      <td>59.26</td>\n",
       "      <td>0.900174260139465</td>\n",
       "    </tr>\n",
       "    <tr>\n",
       "      <th>561</th>\n",
       "      <td>118.64</td>\n",
       "      <td>118.31</td>\n",
       "      <td>177.70</td>\n",
       "      <td>59.26</td>\n",
       "      <td>0.681479394435883</td>\n",
       "    </tr>\n",
       "  </tbody>\n",
       "</table>\n",
       "</div>"
      ],
      "text/plain": [
       "     Couple  PrimarySubscriberAndOneDependent  CoupleAndOneDependent  \\\n",
       "6     64.90                             94.50                 126.95   \n",
       "9     64.90                             94.50                 126.95   \n",
       "10    64.90                             94.50                 126.95   \n",
       "558  118.64                            118.31                 177.70   \n",
       "561  118.64                            118.31                 177.70   \n",
       "\n",
       "     IndividualRate AVCalculatorOutputNumber  \n",
       "6             32.45        0.619164943695068  \n",
       "9             32.45        0.619164943695068  \n",
       "10            32.45                        1  \n",
       "558           59.26        0.900174260139465  \n",
       "561           59.26        0.681479394435883  "
      ]
     },
     "execution_count": 655,
     "metadata": {},
     "output_type": "execute_result"
    }
   ],
   "source": [
    "Z.dropna(inplace=True)\n",
    "Z.head()"
   ]
  },
  {
   "cell_type": "code",
   "execution_count": 656,
   "metadata": {},
   "outputs": [
    {
     "data": {
      "text/plain": [
       "(173, 5)"
      ]
     },
     "execution_count": 656,
     "metadata": {},
     "output_type": "execute_result"
    }
   ],
   "source": [
    "Z.shape"
   ]
  },
  {
   "cell_type": "code",
   "execution_count": 657,
   "metadata": {},
   "outputs": [],
   "source": [
    "feature_cols3 = ['IndividualRate','Couple','PrimarySubscriberAndOneDependent','CoupleAndOneDependent']\n",
    "X1 = Z[feature_cols3]\n",
    "y1 = Z.AVCalculatorOutputNumber"
   ]
  },
  {
   "cell_type": "code",
   "execution_count": 659,
   "metadata": {},
   "outputs": [
    {
     "data": {
      "text/plain": [
       "sklearn.linear_model.base.LinearRegression"
      ]
     },
     "execution_count": 659,
     "metadata": {},
     "output_type": "execute_result"
    }
   ],
   "source": [
    "lr = LinearRegression()\n",
    "type(lr)"
   ]
  },
  {
   "cell_type": "code",
   "execution_count": 660,
   "metadata": {},
   "outputs": [
    {
     "data": {
      "text/plain": [
       "LinearRegression(copy_X=True, fit_intercept=True, n_jobs=None,\n",
       "         normalize=False)"
      ]
     },
     "execution_count": 660,
     "metadata": {},
     "output_type": "execute_result"
    }
   ],
   "source": [
    "lr.fit(X1, y1)"
   ]
  },
  {
   "cell_type": "code",
   "execution_count": 661,
   "metadata": {},
   "outputs": [
    {
     "data": {
      "text/plain": [
       "LinearRegression(copy_X=True, fit_intercept=True, n_jobs=None,\n",
       "         normalize=False)"
      ]
     },
     "execution_count": 661,
     "metadata": {},
     "output_type": "execute_result"
    }
   ],
   "source": [
    "# Import, instantiate, fit.\n",
    "from sklearn.linear_model import LinearRegression\n",
    "linreg1 = LinearRegression()\n",
    "linreg1.fit(X1, y1)"
   ]
  },
  {
   "cell_type": "code",
   "execution_count": 662,
   "metadata": {},
   "outputs": [
    {
     "name": "stdout",
     "output_type": "stream",
     "text": [
      "0.7944934613424802\n",
      "[ 1.53541994 -1.64337388 -1.74763592  1.74884408]\n"
     ]
    }
   ],
   "source": [
    "# Print the coefficients.\n",
    "print(linreg1.intercept_)\n",
    "print(linreg1.coef_)\n"
   ]
  },
  {
   "cell_type": "code",
   "execution_count": 663,
   "metadata": {},
   "outputs": [
    {
     "data": {
      "text/plain": [
       "[('IndividualRate', 1.5354199426652415),\n",
       " ('Couple', -1.6433738847251553),\n",
       " ('PrimarySubscriberAndOneDependent', -1.7476359207995926),\n",
       " ('CoupleAndOneDependent', 1.7488440808546732)]"
      ]
     },
     "execution_count": 663,
     "metadata": {},
     "output_type": "execute_result"
    }
   ],
   "source": [
    "list(zip(feature_cols3, linreg1.coef_))"
   ]
  },
  {
   "cell_type": "code",
   "execution_count": 664,
   "metadata": {},
   "outputs": [
    {
     "name": "stdout",
     "output_type": "stream",
     "text": [
      "                                    Couple  PrimarySubscriberAndOneDependent  \\\n",
      "Couple                            1.000000                          0.984864   \n",
      "PrimarySubscriberAndOneDependent  0.984864                          1.000000   \n",
      "CoupleAndOneDependent             0.993581                          0.998150   \n",
      "IndividualRate                    1.000000                          0.984832   \n",
      "\n",
      "                                  CoupleAndOneDependent  IndividualRate  \n",
      "Couple                                         0.993581        1.000000  \n",
      "PrimarySubscriberAndOneDependent               0.998150        0.984832  \n",
      "CoupleAndOneDependent                          1.000000        0.993559  \n",
      "IndividualRate                                 0.993559        1.000000  \n",
      "AxesSubplot(0.125,0.125;0.62x0.755)\n"
     ]
    },
    {
     "data": {
      "image/png": "[encoded data removed]",
      "text/plain": [
       "<Figure size 432x288 with 2 Axes>"
      ]
     },
     "metadata": {
      "needs_background": "light"
     },
     "output_type": "display_data"
    }
   ],
   "source": [
    "cmap = sns.diverging_palette(220, 10, as_cmap=True)\n",
    "correlations = Z.corr()\n",
    "print(correlations)\n",
    "print(sns.heatmap(correlations, cmap=cmap))"
   ]
  },
  {
   "cell_type": "code",
   "execution_count": 665,
   "metadata": {},
   "outputs": [],
   "source": [
    "from sklearn.model_selection import train_test_split\n",
    "def train_test_rmse(df, feature_cols3):\n",
    "    X1 = df[feature_cols3]\n",
    "    y1 = df.AVCalculatorOutputNumber\n",
    "    X1_train, X1_test, y1_train, y1_test = train_test_split(X1, y1, random_state=123)\n",
    "    linreg = LinearRegression()\n",
    "    linreg.fit(X1_train, y1_train)\n",
    "    y1_pred = linreg.predict(X1_test)\n",
    "    return np.sqrt(metrics.mean_squared_error(y1_test, y1_pred))"
   ]
  },
  {
   "cell_type": "code",
   "execution_count": 666,
   "metadata": {},
   "outputs": [],
   "source": [
    "X1_train, X1_test, y1_train, y1_test = train_test_split(X, y, random_state=123)"
   ]
  },
  {
   "cell_type": "code",
   "execution_count": 667,
   "metadata": {},
   "outputs": [
    {
     "data": {
      "text/plain": [
       "array([41.48857143, 41.48857143, 41.48857143, 41.48857143, 41.48857143,\n",
       "       41.48857143, 41.48857143])"
      ]
     },
     "execution_count": 667,
     "metadata": {},
     "output_type": "execute_result"
    }
   ],
   "source": [
    "y1_null = np.zeros_like(y1_test, dtype=float)\n",
    "y1_null.fill(y1_test.mean())\n",
    "y1_null"
   ]
  },
  {
   "cell_type": "code",
   "execution_count": 668,
   "metadata": {},
   "outputs": [
    {
     "data": {
      "text/plain": [
       "19.502271976487712"
      ]
     },
     "execution_count": 668,
     "metadata": {},
     "output_type": "execute_result"
    }
   ],
   "source": [
    "np.sqrt(metrics.mean_squared_error(y1_test, y1_null))"
   ]
  },
  {
   "cell_type": "code",
   "execution_count": 669,
   "metadata": {},
   "outputs": [],
   "source": [
    "from sklearn.neighbors import KNeighborsClassifier\n",
    "from sklearn.model_selection import train_test_split\n",
    "from sklearn import metrics"
   ]
  },
  {
   "cell_type": "code",
   "execution_count": 610,
   "metadata": {},
   "outputs": [],
   "source": [
    "X1_train, X1_test, y1_train, y1_test = train_test_split(X1, y1, random_state=99)\n"
   ]
  },
  {
   "cell_type": "code",
   "execution_count": 602,
   "metadata": {},
   "outputs": [
    {
     "name": "stdout",
     "output_type": "stream",
     "text": [
      "99.99999020188253 %\n"
     ]
    }
   ],
   "source": [
    "from sklearn.linear_model import LinearRegression\n",
    "from array import array\n",
    "regressor = LinearRegression()\n",
    "regressor.fit(X1_train,y1_train)\n",
    "\n",
    "accuracy = regressor.score(X1_test,y1_test)\n",
    "print(accuracy*100,'%')"
   ]
  },
  {
   "cell_type": "markdown",
   "metadata": {},
   "source": [
    "<a id=\"TimeSeriesModel\"></a>\n",
    "# 6) Time Series Model"
   ]
  },
  {
   "cell_type": "code",
   "execution_count": 817,
   "metadata": {},
   "outputs": [],
   "source": [
    "from datetime import datetime, date"
   ]
  },
  {
   "cell_type": "code",
   "execution_count": 818,
   "metadata": {},
   "outputs": [
    {
     "data": {
      "text/html": [
       "<div>\n",
       "<style scoped>\n",
       "    .dataframe tbody tr th:only-of-type {\n",
       "        vertical-align: middle;\n",
       "    }\n",
       "\n",
       "    .dataframe tbody tr th {\n",
       "        vertical-align: top;\n",
       "    }\n",
       "\n",
       "    .dataframe thead th {\n",
       "        text-align: right;\n",
       "    }\n",
       "</style>\n",
       "<table border=\"1\" class=\"dataframe\">\n",
       "  <thead>\n",
       "    <tr style=\"text-align: right;\">\n",
       "      <th></th>\n",
       "      <th>BenefitName</th>\n",
       "      <th>BusinessYear_x</th>\n",
       "      <th>CoinsInnTier1</th>\n",
       "      <th>CoinsInnTier2</th>\n",
       "      <th>CoinsOutofNet</th>\n",
       "      <th>CopayInnTier1</th>\n",
       "      <th>CopayInnTier2</th>\n",
       "      <th>CopayOutofNet</th>\n",
       "      <th>EHBVarReason</th>\n",
       "      <th>Exclusions</th>\n",
       "      <th>...</th>\n",
       "      <th>TEHBOutOfNetFamilyPerGroupMOOP</th>\n",
       "      <th>TEHBOutOfNetFamilyPerPersonMOOP</th>\n",
       "      <th>TEHBOutOfNetIndividualMOOP</th>\n",
       "      <th>TIN</th>\n",
       "      <th>URLForEnrollmentPayment</th>\n",
       "      <th>URLForSummaryofBenefitsCoverage</th>\n",
       "      <th>UniquePlanDesign</th>\n",
       "      <th>VersionNum</th>\n",
       "      <th>WellnessProgramOffered</th>\n",
       "      <th>Date</th>\n",
       "    </tr>\n",
       "  </thead>\n",
       "  <tbody>\n",
       "    <tr>\n",
       "      <th>0</th>\n",
       "      <td>Routine Dental Services (Adult)</td>\n",
       "      <td>2014</td>\n",
       "      <td>20%</td>\n",
       "      <td>NaN</td>\n",
       "      <td>20%</td>\n",
       "      <td>No Charge</td>\n",
       "      <td>NaN</td>\n",
       "      <td>No Charge</td>\n",
       "      <td>Above EHB</td>\n",
       "      <td>NaN</td>\n",
       "      <td>...</td>\n",
       "      <td>NaN</td>\n",
       "      <td>NaN</td>\n",
       "      <td>NaN</td>\n",
       "      <td>93-0438772</td>\n",
       "      <td>https://www.modahealth.com/employers/enroll.shtml</td>\n",
       "      <td>https://www.modahealth.com/producers/grp/den.s...</td>\n",
       "      <td>NaN</td>\n",
       "      <td>6</td>\n",
       "      <td>NaN</td>\n",
       "      <td>2014-03-19 07:06:49</td>\n",
       "    </tr>\n",
       "    <tr>\n",
       "      <th>2</th>\n",
       "      <td>Basic Dental Care - Child</td>\n",
       "      <td>2014</td>\n",
       "      <td>40%</td>\n",
       "      <td>NaN</td>\n",
       "      <td>40%</td>\n",
       "      <td>No Charge</td>\n",
       "      <td>NaN</td>\n",
       "      <td>No Charge</td>\n",
       "      <td>Substantially Equal</td>\n",
       "      <td>NaN</td>\n",
       "      <td>...</td>\n",
       "      <td>NaN</td>\n",
       "      <td>NaN</td>\n",
       "      <td>NaN</td>\n",
       "      <td>93-0438772</td>\n",
       "      <td>https://www.modahealth.com/employers/enroll.shtml</td>\n",
       "      <td>https://www.modahealth.com/producers/grp/den.s...</td>\n",
       "      <td>NaN</td>\n",
       "      <td>6</td>\n",
       "      <td>NaN</td>\n",
       "      <td>2014-03-19 07:06:49</td>\n",
       "    </tr>\n",
       "    <tr>\n",
       "      <th>4</th>\n",
       "      <td>Major Dental Care - Child</td>\n",
       "      <td>2014</td>\n",
       "      <td>50%</td>\n",
       "      <td>NaN</td>\n",
       "      <td>50%</td>\n",
       "      <td>No Charge</td>\n",
       "      <td>NaN</td>\n",
       "      <td>No Charge</td>\n",
       "      <td>Substantially Equal</td>\n",
       "      <td>NaN</td>\n",
       "      <td>...</td>\n",
       "      <td>NaN</td>\n",
       "      <td>NaN</td>\n",
       "      <td>NaN</td>\n",
       "      <td>93-0438772</td>\n",
       "      <td>https://www.modahealth.com/mymoda/</td>\n",
       "      <td>https://www.modahealth.com/pdfs/plans/individu...</td>\n",
       "      <td>NaN</td>\n",
       "      <td>6</td>\n",
       "      <td>NaN</td>\n",
       "      <td>2014-03-19 07:06:49</td>\n",
       "    </tr>\n",
       "    <tr>\n",
       "      <th>5</th>\n",
       "      <td>Basic Dental Care - Adult</td>\n",
       "      <td>2014</td>\n",
       "      <td>40%</td>\n",
       "      <td>NaN</td>\n",
       "      <td>40%</td>\n",
       "      <td>No Charge</td>\n",
       "      <td>NaN</td>\n",
       "      <td>No Charge</td>\n",
       "      <td>Above EHB</td>\n",
       "      <td>NaN</td>\n",
       "      <td>...</td>\n",
       "      <td>NaN</td>\n",
       "      <td>NaN</td>\n",
       "      <td>NaN</td>\n",
       "      <td>93-0438772</td>\n",
       "      <td>https://www.modahealth.com/employers/enroll.shtml</td>\n",
       "      <td>https://www.modahealth.com/producers/grp/den.s...</td>\n",
       "      <td>NaN</td>\n",
       "      <td>6</td>\n",
       "      <td>NaN</td>\n",
       "      <td>2014-03-19 07:06:49</td>\n",
       "    </tr>\n",
       "    <tr>\n",
       "      <th>6</th>\n",
       "      <td>Orthodontia - Adult</td>\n",
       "      <td>2014</td>\n",
       "      <td>NaN</td>\n",
       "      <td>NaN</td>\n",
       "      <td>NaN</td>\n",
       "      <td>NaN</td>\n",
       "      <td>NaN</td>\n",
       "      <td>NaN</td>\n",
       "      <td>NaN</td>\n",
       "      <td>NaN</td>\n",
       "      <td>...</td>\n",
       "      <td>NaN</td>\n",
       "      <td>NaN</td>\n",
       "      <td>$12,700</td>\n",
       "      <td>93-0989307</td>\n",
       "      <td>https://www.modahealth.com/mymoda/</td>\n",
       "      <td>https://www.modahealth.com/shop/explore-plans?...</td>\n",
       "      <td>Yes</td>\n",
       "      <td>6</td>\n",
       "      <td>Yes</td>\n",
       "      <td>2014-03-19 07:06:49</td>\n",
       "    </tr>\n",
       "  </tbody>\n",
       "</table>\n",
       "<p>5 rows × 233 columns</p>\n",
       "</div>"
      ],
      "text/plain": [
       "                       BenefitName  BusinessYear_x CoinsInnTier1  \\\n",
       "0  Routine Dental Services (Adult)            2014           20%   \n",
       "2        Basic Dental Care - Child            2014           40%   \n",
       "4        Major Dental Care - Child            2014           50%   \n",
       "5        Basic Dental Care - Adult            2014           40%   \n",
       "6              Orthodontia - Adult            2014           NaN   \n",
       "\n",
       "  CoinsInnTier2 CoinsOutofNet CopayInnTier1 CopayInnTier2 CopayOutofNet  \\\n",
       "0           NaN           20%     No Charge           NaN     No Charge   \n",
       "2           NaN           40%     No Charge           NaN     No Charge   \n",
       "4           NaN           50%     No Charge           NaN     No Charge   \n",
       "5           NaN           40%     No Charge           NaN     No Charge   \n",
       "6           NaN           NaN           NaN           NaN           NaN   \n",
       "\n",
       "          EHBVarReason Exclusions  ... TEHBOutOfNetFamilyPerGroupMOOP  \\\n",
       "0            Above EHB        NaN  ...                            NaN   \n",
       "2  Substantially Equal        NaN  ...                            NaN   \n",
       "4  Substantially Equal        NaN  ...                            NaN   \n",
       "5            Above EHB        NaN  ...                            NaN   \n",
       "6                  NaN        NaN  ...                            NaN   \n",
       "\n",
       "  TEHBOutOfNetFamilyPerPersonMOOP TEHBOutOfNetIndividualMOOP         TIN  \\\n",
       "0                             NaN                        NaN  93-0438772   \n",
       "2                             NaN                        NaN  93-0438772   \n",
       "4                             NaN                        NaN  93-0438772   \n",
       "5                             NaN                        NaN  93-0438772   \n",
       "6                             NaN                    $12,700  93-0989307   \n",
       "\n",
       "                             URLForEnrollmentPayment  \\\n",
       "0  https://www.modahealth.com/employers/enroll.shtml   \n",
       "2  https://www.modahealth.com/employers/enroll.shtml   \n",
       "4                 https://www.modahealth.com/mymoda/   \n",
       "5  https://www.modahealth.com/employers/enroll.shtml   \n",
       "6                 https://www.modahealth.com/mymoda/   \n",
       "\n",
       "                     URLForSummaryofBenefitsCoverage UniquePlanDesign  \\\n",
       "0  https://www.modahealth.com/producers/grp/den.s...              NaN   \n",
       "2  https://www.modahealth.com/producers/grp/den.s...              NaN   \n",
       "4  https://www.modahealth.com/pdfs/plans/individu...              NaN   \n",
       "5  https://www.modahealth.com/producers/grp/den.s...              NaN   \n",
       "6  https://www.modahealth.com/shop/explore-plans?...              Yes   \n",
       "\n",
       "  VersionNum WellnessProgramOffered                Date  \n",
       "0          6                    NaN 2014-03-19 07:06:49  \n",
       "2          6                    NaN 2014-03-19 07:06:49  \n",
       "4          6                    NaN 2014-03-19 07:06:49  \n",
       "5          6                    NaN 2014-03-19 07:06:49  \n",
       "6          6                    Yes 2014-03-19 07:06:49  \n",
       "\n",
       "[5 rows x 233 columns]"
      ]
     },
     "execution_count": 818,
     "metadata": {},
     "output_type": "execute_result"
    }
   ],
   "source": [
    "ortho.head()"
   ]
  },
  {
   "cell_type": "code",
   "execution_count": 819,
   "metadata": {},
   "outputs": [
    {
     "name": "stderr",
     "output_type": "stream",
     "text": [
      "C:\\ProgramData\\Anaconda3\\lib\\site-packages\\ipykernel_launcher.py:1: SettingWithCopyWarning: \n",
      "A value is trying to be set on a copy of a slice from a DataFrame.\n",
      "Try using .loc[row_indexer,col_indexer] = value instead\n",
      "\n",
      "See the caveats in the documentation: http://pandas.pydata.org/pandas-docs/stable/indexing.html#indexing-view-versus-copy\n",
      "  \"\"\"Entry point for launching an IPython kernel.\n"
     ]
    }
   ],
   "source": [
    "ortho['Date'] = pd.to_datetime(ortho.ImportDate_x)"
   ]
  },
  {
   "cell_type": "code",
   "execution_count": 820,
   "metadata": {},
   "outputs": [],
   "source": [
    "e=[]\n",
    "for i in ortho['Date']:  \n",
    "    #print(i.year)\n",
    "    a=str(i.year)\n",
    "    b=str(i.month)\n",
    "    c=str(i.day)\n",
    "    d=a+'/'+b+'/'+c\n",
    "    e.append(pd.to_datetime(d))\n"
   ]
  },
  {
   "cell_type": "code",
   "execution_count": 821,
   "metadata": {},
   "outputs": [
    {
     "data": {
      "text/html": [
       "<div>\n",
       "<style scoped>\n",
       "    .dataframe tbody tr th:only-of-type {\n",
       "        vertical-align: middle;\n",
       "    }\n",
       "\n",
       "    .dataframe tbody tr th {\n",
       "        vertical-align: top;\n",
       "    }\n",
       "\n",
       "    .dataframe thead th {\n",
       "        text-align: right;\n",
       "    }\n",
       "</style>\n",
       "<table border=\"1\" class=\"dataframe\">\n",
       "  <thead>\n",
       "    <tr style=\"text-align: right;\">\n",
       "      <th></th>\n",
       "      <th>Date</th>\n",
       "      <th>Rate</th>\n",
       "    </tr>\n",
       "  </thead>\n",
       "  <tbody>\n",
       "    <tr>\n",
       "      <th>0</th>\n",
       "      <td>2014-03-19</td>\n",
       "      <td>29.00</td>\n",
       "    </tr>\n",
       "    <tr>\n",
       "      <th>1</th>\n",
       "      <td>2014-03-19</td>\n",
       "      <td>36.95</td>\n",
       "    </tr>\n",
       "    <tr>\n",
       "      <th>2</th>\n",
       "      <td>2014-03-19</td>\n",
       "      <td>32.00</td>\n",
       "    </tr>\n",
       "    <tr>\n",
       "      <th>3</th>\n",
       "      <td>2014-03-19</td>\n",
       "      <td>36.95</td>\n",
       "    </tr>\n",
       "    <tr>\n",
       "      <th>4</th>\n",
       "      <td>2014-03-19</td>\n",
       "      <td>32.45</td>\n",
       "    </tr>\n",
       "  </tbody>\n",
       "</table>\n",
       "</div>"
      ],
      "text/plain": [
       "        Date   Rate\n",
       "0 2014-03-19  29.00\n",
       "1 2014-03-19  36.95\n",
       "2 2014-03-19  32.00\n",
       "3 2014-03-19  36.95\n",
       "4 2014-03-19  32.45"
      ]
     },
     "execution_count": 821,
     "metadata": {},
     "output_type": "execute_result"
    }
   ],
   "source": [
    "rate_dictionary={\n",
    "    'Date':e,\n",
    "    'Rate':list(ortho.IndividualRate)\n",
    "}\n",
    "rate_df=pd.DataFrame(rate_dictionary)\n",
    "\n",
    "\n",
    "rate_df.head()"
   ]
  },
  {
   "cell_type": "code",
   "execution_count": 822,
   "metadata": {},
   "outputs": [
    {
     "data": {
      "text/html": [
       "<div>\n",
       "<style scoped>\n",
       "    .dataframe tbody tr th:only-of-type {\n",
       "        vertical-align: middle;\n",
       "    }\n",
       "\n",
       "    .dataframe tbody tr th {\n",
       "        vertical-align: top;\n",
       "    }\n",
       "\n",
       "    .dataframe thead th {\n",
       "        text-align: right;\n",
       "    }\n",
       "</style>\n",
       "<table border=\"1\" class=\"dataframe\">\n",
       "  <thead>\n",
       "    <tr style=\"text-align: right;\">\n",
       "      <th></th>\n",
       "      <th>Rate</th>\n",
       "    </tr>\n",
       "    <tr>\n",
       "      <th>Date</th>\n",
       "      <th></th>\n",
       "    </tr>\n",
       "  </thead>\n",
       "  <tbody>\n",
       "    <tr>\n",
       "      <th>2013-06-04</th>\n",
       "      <td>44.590833</td>\n",
       "    </tr>\n",
       "    <tr>\n",
       "      <th>2013-06-06</th>\n",
       "      <td>300300.257167</td>\n",
       "    </tr>\n",
       "    <tr>\n",
       "      <th>2013-07-01</th>\n",
       "      <td>23.862917</td>\n",
       "    </tr>\n",
       "    <tr>\n",
       "      <th>2013-08-01</th>\n",
       "      <td>37.556111</td>\n",
       "    </tr>\n",
       "    <tr>\n",
       "      <th>2013-09-02</th>\n",
       "      <td>318.086736</td>\n",
       "    </tr>\n",
       "    <tr>\n",
       "      <th>2013-09-10</th>\n",
       "      <td>801427.027179</td>\n",
       "    </tr>\n",
       "    <tr>\n",
       "      <th>2013-09-16</th>\n",
       "      <td>18.129306</td>\n",
       "    </tr>\n",
       "    <tr>\n",
       "      <th>2013-09-17</th>\n",
       "      <td>428.156396</td>\n",
       "    </tr>\n",
       "    <tr>\n",
       "      <th>2013-10-15</th>\n",
       "      <td>449.172345</td>\n",
       "    </tr>\n",
       "    <tr>\n",
       "      <th>2013-11-23</th>\n",
       "      <td>313.993158</td>\n",
       "    </tr>\n",
       "    <tr>\n",
       "      <th>2014-01-16</th>\n",
       "      <td>39970.250339</td>\n",
       "    </tr>\n",
       "    <tr>\n",
       "      <th>2014-01-17</th>\n",
       "      <td>71396.590056</td>\n",
       "    </tr>\n",
       "    <tr>\n",
       "      <th>2014-01-21</th>\n",
       "      <td>14649.908384</td>\n",
       "    </tr>\n",
       "    <tr>\n",
       "      <th>2014-03-19</th>\n",
       "      <td>18.347667</td>\n",
       "    </tr>\n",
       "    <tr>\n",
       "      <th>2014-04-18</th>\n",
       "      <td>588.223675</td>\n",
       "    </tr>\n",
       "  </tbody>\n",
       "</table>\n",
       "</div>"
      ],
      "text/plain": [
       "                     Rate\n",
       "Date                     \n",
       "2013-06-04      44.590833\n",
       "2013-06-06  300300.257167\n",
       "2013-07-01      23.862917\n",
       "2013-08-01      37.556111\n",
       "2013-09-02     318.086736\n",
       "2013-09-10  801427.027179\n",
       "2013-09-16      18.129306\n",
       "2013-09-17     428.156396\n",
       "2013-10-15     449.172345\n",
       "2013-11-23     313.993158\n",
       "2014-01-16   39970.250339\n",
       "2014-01-17   71396.590056\n",
       "2014-01-21   14649.908384\n",
       "2014-03-19      18.347667\n",
       "2014-04-18     588.223675"
      ]
     },
     "execution_count": 822,
     "metadata": {},
     "output_type": "execute_result"
    }
   ],
   "source": [
    "rate_df.groupby('Date').mean()"
   ]
  },
  {
   "cell_type": "code",
   "execution_count": 843,
   "metadata": {},
   "outputs": [],
   "source": [
    "R=rate_df.groupby('Date').mean()\n"
   ]
  },
  {
   "cell_type": "code",
   "execution_count": 824,
   "metadata": {},
   "outputs": [
    {
     "data": {
      "image/png": "[encoded data removed]",
      "text/plain": [
       "<Figure size 432x288 with 1 Axes>"
      ]
     },
     "metadata": {
      "needs_background": "light"
     },
     "output_type": "display_data"
    }
   ],
   "source": [
    "ax=R.plot()\n",
    "ax.set_title('Average rate of insurance monthly', fontsize=14, y=1.01);\n",
    "ax.set_ylabel('Average Cost', fontsize=11);"
   ]
  },
  {
   "cell_type": "markdown",
   "metadata": {},
   "source": [
    "<h2><a id=\"C\">Time Series Forecasting Methods</a></h2>"
   ]
  },
  {
   "cell_type": "markdown",
   "metadata": {},
   "source": [
    "### Method 1: Naive Approach"
   ]
  },
  {
   "cell_type": "code",
   "execution_count": 825,
   "metadata": {},
   "outputs": [],
   "source": [
    "from statsmodels.tsa.arima_model import ARIMA\n",
    "train = R['2013': '2014']\n",
    "test = R['2014']"
   ]
  },
  {
   "cell_type": "code",
   "execution_count": 826,
   "metadata": {},
   "outputs": [
    {
     "data": {
      "image/png": "[encoded data removed]",
      "text/plain": [
       "<Figure size 1080x576 with 1 Axes>"
      ]
     },
     "metadata": {
      "needs_background": "light"
     },
     "output_type": "display_data"
    }
   ],
   "source": [
    "train.Rate.plot(figsize=(15,8), title= 'Insurance Rate for Dental', fontsize=14)\n",
    "test.Rate.plot(figsize=(15,8), title= 'Insurance Rate for Dental', fontsize=14)\n",
    "plt.show();"
   ]
  },
  {
   "cell_type": "code",
   "execution_count": 827,
   "metadata": {},
   "outputs": [
    {
     "data": {
      "image/png": "[encoded data removed]",
      "text/plain": [
       "<Figure size 720x432 with 1 Axes>"
      ]
     },
     "metadata": {
      "needs_background": "light"
     },
     "output_type": "display_data"
    }
   ],
   "source": [
    "dd= np.asarray(train.Rate)\n",
    "y_hat = test.copy()\n",
    "y_hat['naive'] = dd[len(dd)-1]\n",
    "plt.figure(figsize=(10,6))\n",
    "plt.plot(train.index, train['Rate'], label='Train')\n",
    "plt.plot(test.index,test['Rate'], label='Test')\n",
    "plt.plot(y_hat.index,y_hat['naive'], label='Naive Forecast')\n",
    "plt.legend(loc='best')\n",
    "plt.title(\"Naive Forecast\")\n",
    "plt.show();"
   ]
  },
  {
   "cell_type": "code",
   "execution_count": 828,
   "metadata": {},
   "outputs": [
    {
     "name": "stdout",
     "output_type": "stream",
     "text": [
      "36777.23347180845\n"
     ]
    }
   ],
   "source": [
    "from sklearn.metrics import mean_squared_error\n",
    "from math import sqrt\n",
    "rms = sqrt(mean_squared_error(test.Rate, y_hat.naive))\n",
    "aa=rms\n",
    "print(aa)"
   ]
  },
  {
   "cell_type": "code",
   "execution_count": 829,
   "metadata": {},
   "outputs": [],
   "source": [
    "from statsmodels.tsa.seasonal import seasonal_decompose"
   ]
  },
  {
   "cell_type": "code",
   "execution_count": 830,
   "metadata": {},
   "outputs": [
    {
     "data": {
      "image/png": "[encoded data removed]",
      "text/plain": [
       "<Figure size 432x288 with 1 Axes>"
      ]
     },
     "metadata": {
      "needs_background": "light"
     },
     "output_type": "display_data"
    }
   ],
   "source": [
    "R['change'] = R.Rate.diff(1);\n",
    "R.plot();"
   ]
  },
  {
   "cell_type": "code",
   "execution_count": 831,
   "metadata": {},
   "outputs": [
    {
     "data": {
      "text/plain": [
       "<Figure size 432x288 with 0 Axes>"
      ]
     },
     "metadata": {},
     "output_type": "display_data"
    },
    {
     "data": {
      "image/png": "[encoded data removed]",
      "text/plain": [
       "<Figure size 864x432 with 4 Axes>"
      ]
     },
     "metadata": {
      "needs_background": "light"
     },
     "output_type": "display_data"
    }
   ],
   "source": [
    "decomposition = seasonal_decompose(R.Rate, freq=3)  \n",
    "fig = plt.figure()  \n",
    "fig = decomposition.plot()  \n",
    "fig.set_size_inches(12, 6)"
   ]
  },
  {
   "cell_type": "markdown",
   "metadata": {},
   "source": [
    "### Method 2: Simple Average"
   ]
  },
  {
   "cell_type": "code",
   "execution_count": 832,
   "metadata": {},
   "outputs": [
    {
     "data": {
      "image/png": "[encoded data removed]",
      "text/plain": [
       "<Figure size 720x432 with 1 Axes>"
      ]
     },
     "metadata": {
      "needs_background": "light"
     },
     "output_type": "display_data"
    }
   ],
   "source": [
    "#Method 2\n",
    "y_hat_avg = test.copy()\n",
    "y_hat_avg['avg_forecast'] = train['Rate'].mean()\n",
    "plt.figure(figsize=(10,6))\n",
    "plt.plot(train['Rate'], label='Train')\n",
    "plt.plot(test['Rate'], label='Test')\n",
    "plt.plot(y_hat_avg['avg_forecast'], label='Average Forecast')\n",
    "plt.legend(loc='best')\n",
    "plt.show();"
   ]
  },
  {
   "cell_type": "code",
   "execution_count": 833,
   "metadata": {},
   "outputs": [
    {
     "name": "stdout",
     "output_type": "stream",
     "text": [
      "62870.083291250514\n"
     ]
    }
   ],
   "source": [
    "rms = sqrt(mean_squared_error(test.Rate, y_hat_avg.avg_forecast))\n",
    "bb=rms\n",
    "print(bb)"
   ]
  },
  {
   "cell_type": "markdown",
   "metadata": {},
   "source": [
    "### Method 3: Moving Average"
   ]
  },
  {
   "cell_type": "code",
   "execution_count": 834,
   "metadata": {},
   "outputs": [
    {
     "data": {
      "image/png": "[encoded data removed]",
      "text/plain": [
       "<Figure size 720x432 with 1 Axes>"
      ]
     },
     "metadata": {
      "needs_background": "light"
     },
     "output_type": "display_data"
    }
   ],
   "source": [
    "y_hat_avg = test.copy()\n",
    "y_hat_avg['moving_avg_forecast'] = train['Rate'].rolling(8).mean().iloc[-1]\n",
    "plt.figure(figsize=(10,6))\n",
    "plt.plot(train['Rate'], label='Train')\n",
    "plt.plot(test['Rate'], label='Test')\n",
    "plt.plot(y_hat_avg['moving_avg_forecast'], label='Moving Average Forecast')\n",
    "plt.legend(loc='best')\n",
    "plt.show();"
   ]
  },
  {
   "cell_type": "code",
   "execution_count": 835,
   "metadata": {},
   "outputs": [
    {
     "name": "stdout",
     "output_type": "stream",
     "text": [
      "28775.95205935369\n"
     ]
    }
   ],
   "source": [
    "rms = sqrt(mean_squared_error(test.Rate, y_hat_avg.moving_avg_forecast))\n",
    "cc=rms\n",
    "print(cc)"
   ]
  },
  {
   "cell_type": "markdown",
   "metadata": {},
   "source": [
    "### Method 4: Simple Exponential Smoothing "
   ]
  },
  {
   "cell_type": "code",
   "execution_count": 836,
   "metadata": {},
   "outputs": [
    {
     "data": {
      "image/png": "[encoded data removed]",
      "text/plain": [
       "<Figure size 720x432 with 1 Axes>"
      ]
     },
     "metadata": {
      "needs_background": "light"
     },
     "output_type": "display_data"
    }
   ],
   "source": [
    "from statsmodels.tsa.api import ExponentialSmoothing, SimpleExpSmoothing, Holt\n",
    "y_hat_avg = test.copy()\n",
    "fit2 = SimpleExpSmoothing(np.asarray(train['Rate'])).fit(smoothing_level=0.6,optimized=False)\n",
    "y_hat_avg['SES'] = fit2.forecast(len(test))\n",
    "plt.figure(figsize=(10,6))\n",
    "plt.plot(train['Rate'], label='Train')\n",
    "plt.plot(test['Rate'], label='Test')\n",
    "plt.plot(y_hat_avg['SES'], label='SES')\n",
    "plt.legend(loc='best')\n",
    "plt.show();"
   ]
  },
  {
   "cell_type": "code",
   "execution_count": 837,
   "metadata": {},
   "outputs": [
    {
     "name": "stdout",
     "output_type": "stream",
     "text": [
      "33818.097310680525\n"
     ]
    }
   ],
   "source": [
    "rms = sqrt(mean_squared_error(test.Rate, y_hat_avg.SES))\n",
    "dd=rms\n",
    "print(dd)"
   ]
  },
  {
   "cell_type": "markdown",
   "metadata": {},
   "source": [
    "### Method 5: Holt's Linear Trend"
   ]
  },
  {
   "cell_type": "code",
   "execution_count": 838,
   "metadata": {},
   "outputs": [
    {
     "data": {
      "image/png": "[encoded data removed]",
      "text/plain": [
       "<Figure size 720x432 with 1 Axes>"
      ]
     },
     "metadata": {
      "needs_background": "light"
     },
     "output_type": "display_data"
    }
   ],
   "source": [
    "y_hat_avg = test.copy()\n",
    "\n",
    "fit1 = Holt(np.asarray(train['Rate'])).fit(smoothing_level = 0.3,smoothing_slope = 0.1)\n",
    "y_hat_avg['Holt_linear'] = fit1.forecast(len(test))\n",
    "\n",
    "plt.figure(figsize=(10,6))\n",
    "plt.plot(train['Rate'], label='Train')\n",
    "plt.plot(test['Rate'], label='Test')\n",
    "plt.plot(y_hat_avg['Holt_linear'], label='Holt_linear')\n",
    "plt.legend(loc='best')\n",
    "plt.show();"
   ]
  },
  {
   "cell_type": "code",
   "execution_count": 839,
   "metadata": {},
   "outputs": [
    {
     "name": "stdout",
     "output_type": "stream",
     "text": [
      "46941.21779413684\n"
     ]
    }
   ],
   "source": [
    "rms = sqrt(mean_squared_error(test.Rate, y_hat_avg.Holt_linear))\n",
    "ee=rms\n",
    "print(ee)"
   ]
  },
  {
   "cell_type": "markdown",
   "metadata": {},
   "source": [
    "### Method 6: Holt-Winters Method"
   ]
  },
  {
   "cell_type": "code",
   "execution_count": 840,
   "metadata": {},
   "outputs": [
    {
     "data": {
      "image/png": "[encoded data removed]",
      "text/plain": [
       "<Figure size 720x432 with 1 Axes>"
      ]
     },
     "metadata": {
      "needs_background": "light"
     },
     "output_type": "display_data"
    }
   ],
   "source": [
    "y_hat_avg = test.copy()\n",
    "fit1 = ExponentialSmoothing(np.asarray(train['Rate']) ,seasonal_periods=5 ,trend='add', seasonal='add',).fit()\n",
    "y_hat_avg['Holt_Winter'] = fit1.forecast(len(test))\n",
    "plt.figure(figsize=(10,6))\n",
    "plt.plot( train['Rate'], label='Train')\n",
    "plt.plot(test['Rate'], label='Test')\n",
    "plt.plot(y_hat_avg['Holt_Winter'], label='Holt_Winter')\n",
    "plt.legend(loc='best')\n",
    "plt.show()"
   ]
  },
  {
   "cell_type": "code",
   "execution_count": 841,
   "metadata": {},
   "outputs": [
    {
     "name": "stdout",
     "output_type": "stream",
     "text": [
      "71622.94267948088\n"
     ]
    }
   ],
   "source": [
    "rms = sqrt(mean_squared_error(test.Rate, y_hat_avg.Holt_Winter))\n",
    "ff=rms\n",
    "print(ff)"
   ]
  },
  {
   "cell_type": "code",
   "execution_count": 842,
   "metadata": {},
   "outputs": [
    {
     "name": "stdout",
     "output_type": "stream",
     "text": [
      "The RMS for using the Naive Forcast model is:  36777.23347180845\n",
      "The RMS for using the Simple Average model is:  62870.083291250514\n",
      "The RMS for using the Moving Average model is:  28775.95205935369\n",
      "The RMS for using the Simple Exponential Smoothing model is:  33818.097310680525\n",
      "The RMS for using the Holts Linear Trend Model model is:  46941.21779413684\n",
      "The RMS for using the Holt Winter model is:  71622.94267948088\n"
     ]
    }
   ],
   "source": [
    "print('The RMS for using the Naive Forcast model is: ', aa)\n",
    "print('The RMS for using the Simple Average model is: ', bb)\n",
    "print('The RMS for using the Moving Average model is: ', cc)\n",
    "print('The RMS for using the Simple Exponential Smoothing model is: ', dd)\n",
    "print('The RMS for using the Holts Linear Trend Model model is: ', ee)\n",
    "print('The RMS for using the Holt Winter model is: ', ff)"
   ]
  },
  {
   "cell_type": "markdown",
   "metadata": {},
   "source": [
    "<a id=\"Conclusion\"></a>\n",
    "# Conclusion"
   ]
  },
  {
   "cell_type": "markdown",
   "metadata": {},
   "source": [
    "After using the Time series model, it seems that the Moving Average model seems to make a better prediction than the other type of models. The Root mean square error is very low, 28775, for this model so this model is an ideal forecast to use for predicting the insurance rate for the future months. The Decomposition graph shows a slight downward tend so the prediction model should show a lower average insurance rate for patients with the Dental benefit plan within the subsequent months of 2014 and 2015. \n",
    "\n",
    "The regression models seems to have showed a really high accuracy. Both models showed about 99% accuracy, which seems to show a strong relationship between the insurance rates and AV values."
   ]
  },
  {
   "cell_type": "code",
   "execution_count": null,
   "metadata": {},
   "outputs": [],
   "source": []
  }
 ],
 "metadata": {
  "kernelspec": {
   "display_name": "Python 3",
   "language": "python",
   "name": "python3"
  },
  "language_info": {
   "codemirror_mode": {
    "name": "ipython",
    "version": 3
   },
   "file_extension": ".py",
   "mimetype": "text/x-python",
   "name": "python",
   "nbconvert_exporter": "python",
   "pygments_lexer": "ipython3",
   "version": "3.7.3"
  }
 },
 "nbformat": 4,
 "nbformat_minor": 2
}
